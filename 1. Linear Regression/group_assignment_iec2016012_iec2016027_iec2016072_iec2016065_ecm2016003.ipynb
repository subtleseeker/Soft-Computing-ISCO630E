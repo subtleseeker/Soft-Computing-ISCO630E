{
 "cells": [
  {
   "cell_type": "markdown",
   "metadata": {},
   "source": [
    "## Group assignment 1\n",
    "Linear Regression using Normal Equation and Gradient Descent   \n",
    "IEC2016012   \n",
    "IEC2016027   \n",
    "IEC2016072   \n",
    "IEC2016065   \n",
    "ECM2016003   "
   ]
  },
  {
   "cell_type": "code",
   "execution_count": 1,
   "metadata": {},
   "outputs": [],
   "source": [
    "import pandas as pd\n",
    "import numpy as np\n",
    "import matplotlib.pyplot as plt\n",
    "import timeit"
   ]
  },
  {
   "cell_type": "code",
   "execution_count": 2,
   "metadata": {},
   "outputs": [
    {
     "data": {
      "text/html": [
       "<div>\n",
       "<style scoped>\n",
       "    .dataframe tbody tr th:only-of-type {\n",
       "        vertical-align: middle;\n",
       "    }\n",
       "\n",
       "    .dataframe tbody tr th {\n",
       "        vertical-align: top;\n",
       "    }\n",
       "\n",
       "    .dataframe thead th {\n",
       "        text-align: right;\n",
       "    }\n",
       "</style>\n",
       "<table border=\"1\" class=\"dataframe\">\n",
       "  <thead>\n",
       "    <tr style=\"text-align: right;\">\n",
       "      <th></th>\n",
       "      <th>price</th>\n",
       "      <th>lotsize</th>\n",
       "      <th>bedrooms</th>\n",
       "      <th>bathrms</th>\n",
       "      <th>stories</th>\n",
       "      <th>driveway</th>\n",
       "      <th>recroom</th>\n",
       "      <th>fullbase</th>\n",
       "      <th>gashw</th>\n",
       "      <th>airco</th>\n",
       "      <th>garagepl</th>\n",
       "      <th>prefarea</th>\n",
       "    </tr>\n",
       "  </thead>\n",
       "  <tbody>\n",
       "    <tr>\n",
       "      <th>1</th>\n",
       "      <td>42000.0</td>\n",
       "      <td>5850</td>\n",
       "      <td>3</td>\n",
       "      <td>1</td>\n",
       "      <td>2</td>\n",
       "      <td>yes</td>\n",
       "      <td>no</td>\n",
       "      <td>yes</td>\n",
       "      <td>no</td>\n",
       "      <td>no</td>\n",
       "      <td>1</td>\n",
       "      <td>no</td>\n",
       "    </tr>\n",
       "    <tr>\n",
       "      <th>2</th>\n",
       "      <td>38500.0</td>\n",
       "      <td>4000</td>\n",
       "      <td>2</td>\n",
       "      <td>1</td>\n",
       "      <td>1</td>\n",
       "      <td>yes</td>\n",
       "      <td>no</td>\n",
       "      <td>no</td>\n",
       "      <td>no</td>\n",
       "      <td>no</td>\n",
       "      <td>0</td>\n",
       "      <td>no</td>\n",
       "    </tr>\n",
       "    <tr>\n",
       "      <th>3</th>\n",
       "      <td>49500.0</td>\n",
       "      <td>3060</td>\n",
       "      <td>3</td>\n",
       "      <td>1</td>\n",
       "      <td>1</td>\n",
       "      <td>yes</td>\n",
       "      <td>no</td>\n",
       "      <td>no</td>\n",
       "      <td>no</td>\n",
       "      <td>no</td>\n",
       "      <td>0</td>\n",
       "      <td>no</td>\n",
       "    </tr>\n",
       "    <tr>\n",
       "      <th>4</th>\n",
       "      <td>60500.0</td>\n",
       "      <td>6650</td>\n",
       "      <td>3</td>\n",
       "      <td>1</td>\n",
       "      <td>2</td>\n",
       "      <td>yes</td>\n",
       "      <td>yes</td>\n",
       "      <td>no</td>\n",
       "      <td>no</td>\n",
       "      <td>no</td>\n",
       "      <td>0</td>\n",
       "      <td>no</td>\n",
       "    </tr>\n",
       "    <tr>\n",
       "      <th>5</th>\n",
       "      <td>61000.0</td>\n",
       "      <td>6360</td>\n",
       "      <td>2</td>\n",
       "      <td>1</td>\n",
       "      <td>1</td>\n",
       "      <td>yes</td>\n",
       "      <td>no</td>\n",
       "      <td>no</td>\n",
       "      <td>no</td>\n",
       "      <td>no</td>\n",
       "      <td>0</td>\n",
       "      <td>no</td>\n",
       "    </tr>\n",
       "  </tbody>\n",
       "</table>\n",
       "</div>"
      ],
      "text/plain": [
       "     price  lotsize  bedrooms  bathrms  stories driveway recroom fullbase  \\\n",
       "1  42000.0     5850         3        1        2      yes      no      yes   \n",
       "2  38500.0     4000         2        1        1      yes      no       no   \n",
       "3  49500.0     3060         3        1        1      yes      no       no   \n",
       "4  60500.0     6650         3        1        2      yes     yes       no   \n",
       "5  61000.0     6360         2        1        1      yes      no       no   \n",
       "\n",
       "  gashw airco  garagepl prefarea  \n",
       "1    no    no         1       no  \n",
       "2    no    no         0       no  \n",
       "3    no    no         0       no  \n",
       "4    no    no         0       no  \n",
       "5    no    no         0       no  "
      ]
     },
     "execution_count": 2,
     "metadata": {},
     "output_type": "execute_result"
    }
   ],
   "source": [
    "df = pd.read_csv('Housing.csv', index_col='Unnamed: 0')\n",
    "df.head()"
   ]
  },
  {
   "cell_type": "code",
   "execution_count": 3,
   "metadata": {},
   "outputs": [
    {
     "data": {
      "text/plain": [
       "(546, 12)"
      ]
     },
     "execution_count": 3,
     "metadata": {},
     "output_type": "execute_result"
    }
   ],
   "source": [
    "df.shape"
   ]
  },
  {
   "cell_type": "code",
   "execution_count": 4,
   "metadata": {},
   "outputs": [
    {
     "data": {
      "text/html": [
       "<div>\n",
       "<style scoped>\n",
       "    .dataframe tbody tr th:only-of-type {\n",
       "        vertical-align: middle;\n",
       "    }\n",
       "\n",
       "    .dataframe tbody tr th {\n",
       "        vertical-align: top;\n",
       "    }\n",
       "\n",
       "    .dataframe thead th {\n",
       "        text-align: right;\n",
       "    }\n",
       "</style>\n",
       "<table border=\"1\" class=\"dataframe\">\n",
       "  <thead>\n",
       "    <tr style=\"text-align: right;\">\n",
       "      <th></th>\n",
       "      <th>price</th>\n",
       "      <th>lotsize</th>\n",
       "      <th>bedrooms</th>\n",
       "      <th>bathrms</th>\n",
       "      <th>stories</th>\n",
       "      <th>driveway</th>\n",
       "      <th>recroom</th>\n",
       "      <th>fullbase</th>\n",
       "      <th>gashw</th>\n",
       "      <th>airco</th>\n",
       "      <th>garagepl</th>\n",
       "      <th>prefarea</th>\n",
       "    </tr>\n",
       "  </thead>\n",
       "  <tbody>\n",
       "    <tr>\n",
       "      <th>count</th>\n",
       "      <td>546.000000</td>\n",
       "      <td>546.000000</td>\n",
       "      <td>546.000000</td>\n",
       "      <td>546.000000</td>\n",
       "      <td>546.000000</td>\n",
       "      <td>546</td>\n",
       "      <td>546</td>\n",
       "      <td>546</td>\n",
       "      <td>546</td>\n",
       "      <td>546</td>\n",
       "      <td>546.000000</td>\n",
       "      <td>546</td>\n",
       "    </tr>\n",
       "    <tr>\n",
       "      <th>unique</th>\n",
       "      <td>NaN</td>\n",
       "      <td>NaN</td>\n",
       "      <td>NaN</td>\n",
       "      <td>NaN</td>\n",
       "      <td>NaN</td>\n",
       "      <td>2</td>\n",
       "      <td>2</td>\n",
       "      <td>2</td>\n",
       "      <td>2</td>\n",
       "      <td>2</td>\n",
       "      <td>NaN</td>\n",
       "      <td>2</td>\n",
       "    </tr>\n",
       "    <tr>\n",
       "      <th>top</th>\n",
       "      <td>NaN</td>\n",
       "      <td>NaN</td>\n",
       "      <td>NaN</td>\n",
       "      <td>NaN</td>\n",
       "      <td>NaN</td>\n",
       "      <td>yes</td>\n",
       "      <td>no</td>\n",
       "      <td>no</td>\n",
       "      <td>no</td>\n",
       "      <td>no</td>\n",
       "      <td>NaN</td>\n",
       "      <td>no</td>\n",
       "    </tr>\n",
       "    <tr>\n",
       "      <th>freq</th>\n",
       "      <td>NaN</td>\n",
       "      <td>NaN</td>\n",
       "      <td>NaN</td>\n",
       "      <td>NaN</td>\n",
       "      <td>NaN</td>\n",
       "      <td>469</td>\n",
       "      <td>449</td>\n",
       "      <td>355</td>\n",
       "      <td>521</td>\n",
       "      <td>373</td>\n",
       "      <td>NaN</td>\n",
       "      <td>418</td>\n",
       "    </tr>\n",
       "    <tr>\n",
       "      <th>mean</th>\n",
       "      <td>68121.597070</td>\n",
       "      <td>5150.265568</td>\n",
       "      <td>2.965201</td>\n",
       "      <td>1.285714</td>\n",
       "      <td>1.807692</td>\n",
       "      <td>NaN</td>\n",
       "      <td>NaN</td>\n",
       "      <td>NaN</td>\n",
       "      <td>NaN</td>\n",
       "      <td>NaN</td>\n",
       "      <td>0.692308</td>\n",
       "      <td>NaN</td>\n",
       "    </tr>\n",
       "    <tr>\n",
       "      <th>std</th>\n",
       "      <td>26702.670926</td>\n",
       "      <td>2168.158725</td>\n",
       "      <td>0.737388</td>\n",
       "      <td>0.502158</td>\n",
       "      <td>0.868203</td>\n",
       "      <td>NaN</td>\n",
       "      <td>NaN</td>\n",
       "      <td>NaN</td>\n",
       "      <td>NaN</td>\n",
       "      <td>NaN</td>\n",
       "      <td>0.861307</td>\n",
       "      <td>NaN</td>\n",
       "    </tr>\n",
       "    <tr>\n",
       "      <th>min</th>\n",
       "      <td>25000.000000</td>\n",
       "      <td>1650.000000</td>\n",
       "      <td>1.000000</td>\n",
       "      <td>1.000000</td>\n",
       "      <td>1.000000</td>\n",
       "      <td>NaN</td>\n",
       "      <td>NaN</td>\n",
       "      <td>NaN</td>\n",
       "      <td>NaN</td>\n",
       "      <td>NaN</td>\n",
       "      <td>0.000000</td>\n",
       "      <td>NaN</td>\n",
       "    </tr>\n",
       "    <tr>\n",
       "      <th>25%</th>\n",
       "      <td>49125.000000</td>\n",
       "      <td>3600.000000</td>\n",
       "      <td>2.000000</td>\n",
       "      <td>1.000000</td>\n",
       "      <td>1.000000</td>\n",
       "      <td>NaN</td>\n",
       "      <td>NaN</td>\n",
       "      <td>NaN</td>\n",
       "      <td>NaN</td>\n",
       "      <td>NaN</td>\n",
       "      <td>0.000000</td>\n",
       "      <td>NaN</td>\n",
       "    </tr>\n",
       "    <tr>\n",
       "      <th>50%</th>\n",
       "      <td>62000.000000</td>\n",
       "      <td>4600.000000</td>\n",
       "      <td>3.000000</td>\n",
       "      <td>1.000000</td>\n",
       "      <td>2.000000</td>\n",
       "      <td>NaN</td>\n",
       "      <td>NaN</td>\n",
       "      <td>NaN</td>\n",
       "      <td>NaN</td>\n",
       "      <td>NaN</td>\n",
       "      <td>0.000000</td>\n",
       "      <td>NaN</td>\n",
       "    </tr>\n",
       "    <tr>\n",
       "      <th>75%</th>\n",
       "      <td>82000.000000</td>\n",
       "      <td>6360.000000</td>\n",
       "      <td>3.000000</td>\n",
       "      <td>2.000000</td>\n",
       "      <td>2.000000</td>\n",
       "      <td>NaN</td>\n",
       "      <td>NaN</td>\n",
       "      <td>NaN</td>\n",
       "      <td>NaN</td>\n",
       "      <td>NaN</td>\n",
       "      <td>1.000000</td>\n",
       "      <td>NaN</td>\n",
       "    </tr>\n",
       "    <tr>\n",
       "      <th>max</th>\n",
       "      <td>190000.000000</td>\n",
       "      <td>16200.000000</td>\n",
       "      <td>6.000000</td>\n",
       "      <td>4.000000</td>\n",
       "      <td>4.000000</td>\n",
       "      <td>NaN</td>\n",
       "      <td>NaN</td>\n",
       "      <td>NaN</td>\n",
       "      <td>NaN</td>\n",
       "      <td>NaN</td>\n",
       "      <td>3.000000</td>\n",
       "      <td>NaN</td>\n",
       "    </tr>\n",
       "  </tbody>\n",
       "</table>\n",
       "</div>"
      ],
      "text/plain": [
       "                price       lotsize    bedrooms     bathrms     stories  \\\n",
       "count      546.000000    546.000000  546.000000  546.000000  546.000000   \n",
       "unique            NaN           NaN         NaN         NaN         NaN   \n",
       "top               NaN           NaN         NaN         NaN         NaN   \n",
       "freq              NaN           NaN         NaN         NaN         NaN   \n",
       "mean     68121.597070   5150.265568    2.965201    1.285714    1.807692   \n",
       "std      26702.670926   2168.158725    0.737388    0.502158    0.868203   \n",
       "min      25000.000000   1650.000000    1.000000    1.000000    1.000000   \n",
       "25%      49125.000000   3600.000000    2.000000    1.000000    1.000000   \n",
       "50%      62000.000000   4600.000000    3.000000    1.000000    2.000000   \n",
       "75%      82000.000000   6360.000000    3.000000    2.000000    2.000000   \n",
       "max     190000.000000  16200.000000    6.000000    4.000000    4.000000   \n",
       "\n",
       "       driveway recroom fullbase gashw airco    garagepl prefarea  \n",
       "count       546     546      546   546   546  546.000000      546  \n",
       "unique        2       2        2     2     2         NaN        2  \n",
       "top         yes      no       no    no    no         NaN       no  \n",
       "freq        469     449      355   521   373         NaN      418  \n",
       "mean        NaN     NaN      NaN   NaN   NaN    0.692308      NaN  \n",
       "std         NaN     NaN      NaN   NaN   NaN    0.861307      NaN  \n",
       "min         NaN     NaN      NaN   NaN   NaN    0.000000      NaN  \n",
       "25%         NaN     NaN      NaN   NaN   NaN    0.000000      NaN  \n",
       "50%         NaN     NaN      NaN   NaN   NaN    0.000000      NaN  \n",
       "75%         NaN     NaN      NaN   NaN   NaN    1.000000      NaN  \n",
       "max         NaN     NaN      NaN   NaN   NaN    3.000000      NaN  "
      ]
     },
     "execution_count": 4,
     "metadata": {},
     "output_type": "execute_result"
    }
   ],
   "source": [
    "df.describe(include='all')"
   ]
  },
  {
   "cell_type": "code",
   "execution_count": 5,
   "metadata": {},
   "outputs": [
    {
     "name": "stdout",
     "output_type": "stream",
     "text": [
      "<class 'pandas.core.frame.DataFrame'>\n",
      "Int64Index: 546 entries, 1 to 546\n",
      "Data columns (total 12 columns):\n",
      "price       546 non-null float64\n",
      "lotsize     546 non-null int64\n",
      "bedrooms    546 non-null int64\n",
      "bathrms     546 non-null int64\n",
      "stories     546 non-null int64\n",
      "driveway    546 non-null object\n",
      "recroom     546 non-null object\n",
      "fullbase    546 non-null object\n",
      "gashw       546 non-null object\n",
      "airco       546 non-null object\n",
      "garagepl    546 non-null int64\n",
      "prefarea    546 non-null object\n",
      "dtypes: float64(1), int64(5), object(6)\n",
      "memory usage: 55.5+ KB\n"
     ]
    }
   ],
   "source": [
    "df.info()"
   ]
  },
  {
   "cell_type": "code",
   "execution_count": 6,
   "metadata": {},
   "outputs": [
    {
     "data": {
      "text/html": [
       "<div>\n",
       "<style scoped>\n",
       "    .dataframe tbody tr th:only-of-type {\n",
       "        vertical-align: middle;\n",
       "    }\n",
       "\n",
       "    .dataframe tbody tr th {\n",
       "        vertical-align: top;\n",
       "    }\n",
       "\n",
       "    .dataframe thead th {\n",
       "        text-align: right;\n",
       "    }\n",
       "</style>\n",
       "<table border=\"1\" class=\"dataframe\">\n",
       "  <thead>\n",
       "    <tr style=\"text-align: right;\">\n",
       "      <th></th>\n",
       "      <th>price</th>\n",
       "      <th>lotsize</th>\n",
       "      <th>bedrooms</th>\n",
       "      <th>bathrms</th>\n",
       "      <th>stories</th>\n",
       "      <th>garagepl</th>\n",
       "    </tr>\n",
       "  </thead>\n",
       "  <tbody>\n",
       "    <tr>\n",
       "      <th>price</th>\n",
       "      <td>1.000000</td>\n",
       "      <td>0.535796</td>\n",
       "      <td>0.366447</td>\n",
       "      <td>0.516719</td>\n",
       "      <td>0.421190</td>\n",
       "      <td>0.383302</td>\n",
       "    </tr>\n",
       "    <tr>\n",
       "      <th>lotsize</th>\n",
       "      <td>0.535796</td>\n",
       "      <td>1.000000</td>\n",
       "      <td>0.151851</td>\n",
       "      <td>0.193833</td>\n",
       "      <td>0.083675</td>\n",
       "      <td>0.352872</td>\n",
       "    </tr>\n",
       "    <tr>\n",
       "      <th>bedrooms</th>\n",
       "      <td>0.366447</td>\n",
       "      <td>0.151851</td>\n",
       "      <td>1.000000</td>\n",
       "      <td>0.373769</td>\n",
       "      <td>0.407974</td>\n",
       "      <td>0.139117</td>\n",
       "    </tr>\n",
       "    <tr>\n",
       "      <th>bathrms</th>\n",
       "      <td>0.516719</td>\n",
       "      <td>0.193833</td>\n",
       "      <td>0.373769</td>\n",
       "      <td>1.000000</td>\n",
       "      <td>0.324066</td>\n",
       "      <td>0.178178</td>\n",
       "    </tr>\n",
       "    <tr>\n",
       "      <th>stories</th>\n",
       "      <td>0.421190</td>\n",
       "      <td>0.083675</td>\n",
       "      <td>0.407974</td>\n",
       "      <td>0.324066</td>\n",
       "      <td>1.000000</td>\n",
       "      <td>0.043412</td>\n",
       "    </tr>\n",
       "    <tr>\n",
       "      <th>garagepl</th>\n",
       "      <td>0.383302</td>\n",
       "      <td>0.352872</td>\n",
       "      <td>0.139117</td>\n",
       "      <td>0.178178</td>\n",
       "      <td>0.043412</td>\n",
       "      <td>1.000000</td>\n",
       "    </tr>\n",
       "  </tbody>\n",
       "</table>\n",
       "</div>"
      ],
      "text/plain": [
       "             price   lotsize  bedrooms   bathrms   stories  garagepl\n",
       "price     1.000000  0.535796  0.366447  0.516719  0.421190  0.383302\n",
       "lotsize   0.535796  1.000000  0.151851  0.193833  0.083675  0.352872\n",
       "bedrooms  0.366447  0.151851  1.000000  0.373769  0.407974  0.139117\n",
       "bathrms   0.516719  0.193833  0.373769  1.000000  0.324066  0.178178\n",
       "stories   0.421190  0.083675  0.407974  0.324066  1.000000  0.043412\n",
       "garagepl  0.383302  0.352872  0.139117  0.178178  0.043412  1.000000"
      ]
     },
     "execution_count": 6,
     "metadata": {},
     "output_type": "execute_result"
    }
   ],
   "source": [
    "df.corr()"
   ]
  },
  {
   "cell_type": "code",
   "execution_count": 7,
   "metadata": {},
   "outputs": [],
   "source": [
    "df.driveway = df.driveway.eq('yes').mul(1)\n",
    "df.recroom = df.recroom.eq('yes').mul(1)\n",
    "df.fullbase = df.fullbase.eq('yes').mul(1)\n",
    "df.gashw = df.gashw.eq('yes').mul(1)\n",
    "df.airco = df.airco.eq('yes').mul(1)\n",
    "df.prefarea = df.prefarea.eq('yes').mul(1)"
   ]
  },
  {
   "cell_type": "code",
   "execution_count": 8,
   "metadata": {},
   "outputs": [
    {
     "data": {
      "text/html": [
       "<div>\n",
       "<style scoped>\n",
       "    .dataframe tbody tr th:only-of-type {\n",
       "        vertical-align: middle;\n",
       "    }\n",
       "\n",
       "    .dataframe tbody tr th {\n",
       "        vertical-align: top;\n",
       "    }\n",
       "\n",
       "    .dataframe thead th {\n",
       "        text-align: right;\n",
       "    }\n",
       "</style>\n",
       "<table border=\"1\" class=\"dataframe\">\n",
       "  <thead>\n",
       "    <tr style=\"text-align: right;\">\n",
       "      <th></th>\n",
       "      <th>price</th>\n",
       "      <th>lotsize</th>\n",
       "      <th>bedrooms</th>\n",
       "      <th>bathrms</th>\n",
       "      <th>stories</th>\n",
       "      <th>driveway</th>\n",
       "      <th>recroom</th>\n",
       "      <th>fullbase</th>\n",
       "      <th>gashw</th>\n",
       "      <th>airco</th>\n",
       "      <th>garagepl</th>\n",
       "      <th>prefarea</th>\n",
       "    </tr>\n",
       "  </thead>\n",
       "  <tbody>\n",
       "    <tr>\n",
       "      <th>1</th>\n",
       "      <td>42000.0</td>\n",
       "      <td>5850</td>\n",
       "      <td>3</td>\n",
       "      <td>1</td>\n",
       "      <td>2</td>\n",
       "      <td>1</td>\n",
       "      <td>0</td>\n",
       "      <td>1</td>\n",
       "      <td>0</td>\n",
       "      <td>0</td>\n",
       "      <td>1</td>\n",
       "      <td>0</td>\n",
       "    </tr>\n",
       "    <tr>\n",
       "      <th>2</th>\n",
       "      <td>38500.0</td>\n",
       "      <td>4000</td>\n",
       "      <td>2</td>\n",
       "      <td>1</td>\n",
       "      <td>1</td>\n",
       "      <td>1</td>\n",
       "      <td>0</td>\n",
       "      <td>0</td>\n",
       "      <td>0</td>\n",
       "      <td>0</td>\n",
       "      <td>0</td>\n",
       "      <td>0</td>\n",
       "    </tr>\n",
       "    <tr>\n",
       "      <th>3</th>\n",
       "      <td>49500.0</td>\n",
       "      <td>3060</td>\n",
       "      <td>3</td>\n",
       "      <td>1</td>\n",
       "      <td>1</td>\n",
       "      <td>1</td>\n",
       "      <td>0</td>\n",
       "      <td>0</td>\n",
       "      <td>0</td>\n",
       "      <td>0</td>\n",
       "      <td>0</td>\n",
       "      <td>0</td>\n",
       "    </tr>\n",
       "    <tr>\n",
       "      <th>4</th>\n",
       "      <td>60500.0</td>\n",
       "      <td>6650</td>\n",
       "      <td>3</td>\n",
       "      <td>1</td>\n",
       "      <td>2</td>\n",
       "      <td>1</td>\n",
       "      <td>1</td>\n",
       "      <td>0</td>\n",
       "      <td>0</td>\n",
       "      <td>0</td>\n",
       "      <td>0</td>\n",
       "      <td>0</td>\n",
       "    </tr>\n",
       "    <tr>\n",
       "      <th>5</th>\n",
       "      <td>61000.0</td>\n",
       "      <td>6360</td>\n",
       "      <td>2</td>\n",
       "      <td>1</td>\n",
       "      <td>1</td>\n",
       "      <td>1</td>\n",
       "      <td>0</td>\n",
       "      <td>0</td>\n",
       "      <td>0</td>\n",
       "      <td>0</td>\n",
       "      <td>0</td>\n",
       "      <td>0</td>\n",
       "    </tr>\n",
       "  </tbody>\n",
       "</table>\n",
       "</div>"
      ],
      "text/plain": [
       "     price  lotsize  bedrooms  bathrms  stories  driveway  recroom  fullbase  \\\n",
       "1  42000.0     5850         3        1        2         1        0         1   \n",
       "2  38500.0     4000         2        1        1         1        0         0   \n",
       "3  49500.0     3060         3        1        1         1        0         0   \n",
       "4  60500.0     6650         3        1        2         1        1         0   \n",
       "5  61000.0     6360         2        1        1         1        0         0   \n",
       "\n",
       "   gashw  airco  garagepl  prefarea  \n",
       "1      0      0         1         0  \n",
       "2      0      0         0         0  \n",
       "3      0      0         0         0  \n",
       "4      0      0         0         0  \n",
       "5      0      0         0         0  "
      ]
     },
     "execution_count": 8,
     "metadata": {},
     "output_type": "execute_result"
    }
   ],
   "source": [
    "df.head()"
   ]
  },
  {
   "cell_type": "markdown",
   "metadata": {},
   "source": [
    "# Linear Regression using Normal Equation"
   ]
  },
  {
   "cell_type": "code",
   "execution_count": 9,
   "metadata": {},
   "outputs": [],
   "source": [
    "x = df[['lotsize']] #,'bedrooms','bathrms'\n",
    "y = df['price']"
   ]
  },
  {
   "cell_type": "code",
   "execution_count": 10,
   "metadata": {},
   "outputs": [
    {
     "name": "stdout",
     "output_type": "stream",
     "text": [
      "(546, 1) (546,)\n"
     ]
    }
   ],
   "source": [
    "print(x.shape, y.shape)"
   ]
  },
  {
   "cell_type": "code",
   "execution_count": 11,
   "metadata": {},
   "outputs": [
    {
     "data": {
      "text/plain": [
       "array([12.23055227])"
      ]
     },
     "execution_count": 11,
     "metadata": {},
     "output_type": "execute_result"
    }
   ],
   "source": [
    "w = np.dot(np.linalg.inv(np.dot(x.T,x)),np.dot(x.T,y))\n",
    "w"
   ]
  },
  {
   "cell_type": "code",
   "execution_count": 12,
   "metadata": {},
   "outputs": [
    {
     "data": {
      "text/plain": [
       "(546,)"
      ]
     },
     "execution_count": 12,
     "metadata": {},
     "output_type": "execute_result"
    }
   ],
   "source": [
    "h = np.dot(x,w)\n",
    "h.shape"
   ]
  },
  {
   "cell_type": "code",
   "execution_count": 13,
   "metadata": {},
   "outputs": [
    {
     "data": {
      "image/png": "[encoded data removed]",
      "text/plain": [
       "<Figure size 432x288 with 1 Axes>"
      ]
     },
     "metadata": {
      "needs_background": "light"
     },
     "output_type": "display_data"
    }
   ],
   "source": [
    "plt.plot(x,h,x,y,'x')\n",
    "plt.ylabel(\"Price\")\n",
    "plt.show()"
   ]
  },
  {
   "cell_type": "code",
   "execution_count": 14,
   "metadata": {},
   "outputs": [
    {
     "name": "stdout",
     "output_type": "stream",
     "text": [
      "Score using naive Linear Regression: 0.2836899349357931\n"
     ]
    }
   ],
   "source": [
    "score = np.sum((np.abs(np.divide((h-y),y))))/h.size\n",
    "print(\"Score using naive Linear Regression: \" + str(score))"
   ]
  },
  {
   "cell_type": "code",
   "execution_count": 15,
   "metadata": {},
   "outputs": [
    {
     "name": "stdout",
     "output_type": "stream",
     "text": [
      "Score using scikit-learn: 0.28707700259705604\n"
     ]
    }
   ],
   "source": [
    "from sklearn.linear_model import LinearRegression\n",
    "clf = LinearRegression()\n",
    "clf.fit(x,y)\n",
    "print(\"Score using scikit-learn: \" + str(clf.score(x,y)))"
   ]
  },
  {
   "cell_type": "markdown",
   "metadata": {},
   "source": [
    "# Gradient Descent"
   ]
  },
  {
   "cell_type": "code",
   "execution_count": 16,
   "metadata": {},
   "outputs": [
    {
     "data": {
      "text/html": [
       "<div>\n",
       "<style scoped>\n",
       "    .dataframe tbody tr th:only-of-type {\n",
       "        vertical-align: middle;\n",
       "    }\n",
       "\n",
       "    .dataframe tbody tr th {\n",
       "        vertical-align: top;\n",
       "    }\n",
       "\n",
       "    .dataframe thead th {\n",
       "        text-align: right;\n",
       "    }\n",
       "</style>\n",
       "<table border=\"1\" class=\"dataframe\">\n",
       "  <thead>\n",
       "    <tr style=\"text-align: right;\">\n",
       "      <th></th>\n",
       "      <th>price</th>\n",
       "      <th>lotsize</th>\n",
       "      <th>bedrooms</th>\n",
       "      <th>bathrms</th>\n",
       "      <th>stories</th>\n",
       "      <th>driveway</th>\n",
       "      <th>recroom</th>\n",
       "      <th>fullbase</th>\n",
       "      <th>gashw</th>\n",
       "      <th>airco</th>\n",
       "      <th>garagepl</th>\n",
       "      <th>prefarea</th>\n",
       "    </tr>\n",
       "  </thead>\n",
       "  <tbody>\n",
       "    <tr>\n",
       "      <th>1</th>\n",
       "      <td>42000.0</td>\n",
       "      <td>5850</td>\n",
       "      <td>3</td>\n",
       "      <td>1</td>\n",
       "      <td>2</td>\n",
       "      <td>1</td>\n",
       "      <td>0</td>\n",
       "      <td>1</td>\n",
       "      <td>0</td>\n",
       "      <td>0</td>\n",
       "      <td>1</td>\n",
       "      <td>0</td>\n",
       "    </tr>\n",
       "    <tr>\n",
       "      <th>2</th>\n",
       "      <td>38500.0</td>\n",
       "      <td>4000</td>\n",
       "      <td>2</td>\n",
       "      <td>1</td>\n",
       "      <td>1</td>\n",
       "      <td>1</td>\n",
       "      <td>0</td>\n",
       "      <td>0</td>\n",
       "      <td>0</td>\n",
       "      <td>0</td>\n",
       "      <td>0</td>\n",
       "      <td>0</td>\n",
       "    </tr>\n",
       "    <tr>\n",
       "      <th>3</th>\n",
       "      <td>49500.0</td>\n",
       "      <td>3060</td>\n",
       "      <td>3</td>\n",
       "      <td>1</td>\n",
       "      <td>1</td>\n",
       "      <td>1</td>\n",
       "      <td>0</td>\n",
       "      <td>0</td>\n",
       "      <td>0</td>\n",
       "      <td>0</td>\n",
       "      <td>0</td>\n",
       "      <td>0</td>\n",
       "    </tr>\n",
       "    <tr>\n",
       "      <th>4</th>\n",
       "      <td>60500.0</td>\n",
       "      <td>6650</td>\n",
       "      <td>3</td>\n",
       "      <td>1</td>\n",
       "      <td>2</td>\n",
       "      <td>1</td>\n",
       "      <td>1</td>\n",
       "      <td>0</td>\n",
       "      <td>0</td>\n",
       "      <td>0</td>\n",
       "      <td>0</td>\n",
       "      <td>0</td>\n",
       "    </tr>\n",
       "    <tr>\n",
       "      <th>5</th>\n",
       "      <td>61000.0</td>\n",
       "      <td>6360</td>\n",
       "      <td>2</td>\n",
       "      <td>1</td>\n",
       "      <td>1</td>\n",
       "      <td>1</td>\n",
       "      <td>0</td>\n",
       "      <td>0</td>\n",
       "      <td>0</td>\n",
       "      <td>0</td>\n",
       "      <td>0</td>\n",
       "      <td>0</td>\n",
       "    </tr>\n",
       "  </tbody>\n",
       "</table>\n",
       "</div>"
      ],
      "text/plain": [
       "     price  lotsize  bedrooms  bathrms  stories  driveway  recroom  fullbase  \\\n",
       "1  42000.0     5850         3        1        2         1        0         1   \n",
       "2  38500.0     4000         2        1        1         1        0         0   \n",
       "3  49500.0     3060         3        1        1         1        0         0   \n",
       "4  60500.0     6650         3        1        2         1        1         0   \n",
       "5  61000.0     6360         2        1        1         1        0         0   \n",
       "\n",
       "   gashw  airco  garagepl  prefarea  \n",
       "1      0      0         1         0  \n",
       "2      0      0         0         0  \n",
       "3      0      0         0         0  \n",
       "4      0      0         0         0  \n",
       "5      0      0         0         0  "
      ]
     },
     "execution_count": 16,
     "metadata": {},
     "output_type": "execute_result"
    }
   ],
   "source": [
    "df.head()"
   ]
  },
  {
   "cell_type": "code",
   "execution_count": 17,
   "metadata": {},
   "outputs": [
    {
     "name": "stdout",
     "output_type": "stream",
     "text": [
      "x.shape: (546, 1)\n",
      "y.shape: (546,)\n",
      "m: 546\n",
      "n: 1\n",
      "x.shape after appending a column for bias: (546, 2)\n"
     ]
    }
   ],
   "source": [
    "print(\"x.shape: \" + str(x.shape))\n",
    "print(\"y.shape: \" + str(y.shape))\n",
    "m = x.shape[0]\n",
    "n = x.shape[1]\n",
    "print(\"m: \" + str(m))\n",
    "print(\"n: \" + str(n))\n",
    "\n",
    "t = np.ones((m,1))\n",
    "x = np.hstack((t,x))\n",
    "print(\"x.shape after appending a column for bias: \" + str(x.shape))"
   ]
  },
  {
   "cell_type": "code",
   "execution_count": 18,
   "metadata": {},
   "outputs": [
    {
     "name": "stdout",
     "output_type": "stream",
     "text": [
      "x.shape: (546, 2)\n",
      "w.shape: (1,)\n",
      "y.shape: (546, 1)\n",
      "\n",
      "Result for different values of alpha -\n",
      " alpha =  0.001  cost =  inf  iterations =  35\n",
      " alpha =  0.01  cost =  inf  iterations =  29\n",
      " alpha =  0.1  cost =  inf  iterations =  25\n"
     ]
    },
    {
     "name": "stderr",
     "output_type": "stream",
     "text": [
      "/home/subtleseeker/.local/lib/python3.6/site-packages/numpy/core/fromnumeric.py:86: RuntimeWarning: overflow encountered in reduce\n",
      "  return ufunc.reduce(obj, axis, dtype, out, **passkwargs)\n",
      "/home/subtleseeker/anaconda3/lib/python3.6/site-packages/ipykernel_launcher.py:28: RuntimeWarning: overflow encountered in square\n",
      "/home/subtleseeker/anaconda3/lib/python3.6/site-packages/ipykernel_launcher.py:21: RuntimeWarning: invalid value encountered in double_scalars\n"
     ]
    }
   ],
   "source": [
    "\n",
    "y = np.array(y)\n",
    "y = np.reshape(y,(y.shape[0],1))\n",
    "print(\"x.shape: \" + str(x.shape))\n",
    "print(\"w.shape: \" + str(w.shape))\n",
    "print(\"y.shape: \" + str(y.shape))\n",
    "print(\"\")\n",
    "print(\"Result for different values of alpha -\")\n",
    "\n",
    "alpha = 0.001 # Learning rate\n",
    "epsilon = 0.00000001\n",
    "log1 = np.array([])\n",
    "log2 = np.array([])\n",
    "log3 = np.array([])\n",
    "while(alpha < 1):\n",
    "    J_prev=100\n",
    "    J=0\n",
    "    iterations = 0\n",
    "    temp = np.zeros((n+1,1))\n",
    "    w = np.zeros((1,n+1))\n",
    "    while(abs(J_prev-J) > epsilon):\n",
    "        h = np.dot(x,w.T)\n",
    "        for i in range(n+1):\n",
    "            temp[i] = w[:,i] - alpha*(1/m)*(np.sum( (h-y)*x[:,i:i+1], axis=0))\n",
    "        for i in range(n+1):\n",
    "            w[:,i] = temp[i]\n",
    "        J_prev = J\n",
    "        J = (1/(2*m))*np.sum(np.square(h-y))\n",
    "        if(alpha == 0.001):\n",
    "            log1 = np.append(log1, J)\n",
    "        if(alpha == 0.01):\n",
    "            log2 = np.append(log2, J)\n",
    "        if(alpha == 0.1):\n",
    "            log3 = np.append(log3, J)\n",
    "        iterations+=1\n",
    "    if(alpha == 0.001):\n",
    "        w1 = w \n",
    "        t1 = iterations\n",
    "    if(alpha == 0.01):\n",
    "        w2 = w \n",
    "        t2 = iterations\n",
    "    if(alpha == 0.1):\n",
    "        w3 = w \n",
    "        t3 = iterations\n",
    "    print(\" alpha = \",alpha,\" cost = \",J,\" iterations = \",iterations)\n",
    "    alpha = alpha*(10)"
   ]
  },
  {
   "cell_type": "code",
   "execution_count": 19,
   "metadata": {},
   "outputs": [
    {
     "data": {
      "image/png": "[encoded data removed]",
      "text/plain": [
       "<Figure size 432x288 with 1 Axes>"
      ]
     },
     "metadata": {
      "needs_background": "light"
     },
     "output_type": "display_data"
    }
   ],
   "source": [
    "# Hypothesis for alpha = 0.001\n",
    "w = w1\n",
    "h = np.dot(x,w.T)\n",
    "plt.plot(x[:,1],h,'r',x[:,1],y,'gx')\n",
    "plt.xlabel('Lotsize')\n",
    "plt.ylabel('Price')\n",
    "plt.show(\"Lotsize vs Price\")\n",
    "plt.show()"
   ]
  },
  {
   "cell_type": "code",
   "execution_count": 20,
   "metadata": {},
   "outputs": [
    {
     "data": {
      "image/png": "[encoded data removed]",
      "text/plain": [
       "<Figure size 432x288 with 1 Axes>"
      ]
     },
     "metadata": {
      "needs_background": "light"
     },
     "output_type": "display_data"
    }
   ],
   "source": [
    "# Hypothesis for alpha = 0.01\n",
    "w = w2\n",
    "h = np.dot(x,w.T)\n",
    "plt.plot(x[:,1],h,'r',x[:,1],y,'gx')\n",
    "plt.xlabel('Lotsize')\n",
    "plt.ylabel('Price')\n",
    "plt.show(\"Lotsize vs Price\")\n",
    "plt.show()"
   ]
  },
  {
   "cell_type": "code",
   "execution_count": 21,
   "metadata": {},
   "outputs": [
    {
     "data": {
      "image/png": "[encoded data removed]",
      "text/plain": [
       "<Figure size 432x288 with 1 Axes>"
      ]
     },
     "metadata": {
      "needs_background": "light"
     },
     "output_type": "display_data"
    }
   ],
   "source": [
    "# Hypothesis for alpha = 0.1\n",
    "w = w3\n",
    "h = np.dot(x,w.T)\n",
    "plt.plot(x[:,1],h,'r',x[:,1],y,'gx')\n",
    "plt.xlabel('Lotsize')\n",
    "plt.ylabel('Price')\n",
    "plt.show(\"Lotsize vs Price\")\n",
    "plt.show()"
   ]
  },
  {
   "cell_type": "code",
   "execution_count": 22,
   "metadata": {},
   "outputs": [
    {
     "data": {
      "image/png": "[encoded data removed]",
      "text/plain": [
       "<Figure size 432x288 with 1 Axes>"
      ]
     },
     "metadata": {
      "needs_background": "light"
     },
     "output_type": "display_data"
    }
   ],
   "source": [
    "#plot for alpha == 0.001\n",
    "log = log1\n",
    "it = np.arange(t1)\n",
    "plt.plot(it, log)\n",
    "plt.xlabel('Iterations')\n",
    "plt.ylabel('Cost')\n",
    "plt.title('Cost function vs No. of iterations')\n",
    "plt.show()"
   ]
  },
  {
   "cell_type": "code",
   "execution_count": 23,
   "metadata": {},
   "outputs": [
    {
     "data": {
      "image/png": "[encoded data removed]",
      "text/plain": [
       "<Figure size 432x288 with 1 Axes>"
      ]
     },
     "metadata": {
      "needs_background": "light"
     },
     "output_type": "display_data"
    }
   ],
   "source": [
    "#plot for alpha == 0.01\n",
    "log = log2\n",
    "it = np.arange(t2)\n",
    "plt.plot(it, log)\n",
    "plt.xlabel('Iterations')\n",
    "plt.ylabel('Cost')\n",
    "plt.title('Cost function vs No. of iterations')\n",
    "plt.show()"
   ]
  },
  {
   "cell_type": "code",
   "execution_count": 24,
   "metadata": {},
   "outputs": [
    {
     "data": {
      "image/png": "[encoded data removed]",
      "text/plain": [
       "<Figure size 432x288 with 1 Axes>"
      ]
     },
     "metadata": {
      "needs_background": "light"
     },
     "output_type": "display_data"
    }
   ],
   "source": [
    "#plot for alpha == 0.1\n",
    "log = log3\n",
    "it = np.arange(t3)\n",
    "plt.plot(it, log)\n",
    "plt.xlabel('Iterations')\n",
    "plt.ylabel('Cost')\n",
    "plt.title('Cost function vs No. of iterations')\n",
    "plt.show()"
   ]
  },
  {
   "cell_type": "code",
   "execution_count": 25,
   "metadata": {},
   "outputs": [
    {
     "data": {
      "text/plain": [
       "2676139350.6538463"
      ]
     },
     "execution_count": 25,
     "metadata": {},
     "output_type": "execute_result"
    }
   ],
   "source": [
    "log.min()"
   ]
  },
  {
   "cell_type": "markdown",
   "metadata": {},
   "source": [
    "# CONCLUSION"
   ]
  },
  {
   "cell_type": "markdown",
   "metadata": {},
   "source": [
    "Minimum value for loss as obtained using gradient descent is $\\infty$. The naive normal equation method for linear regression returns an accuracy of around $20$ percent for all the trained inputs.\n",
    "\n",
    "#### Normalization was not performed on gradient descent which resulted in explosion of cost function. Without normalization, gd cannot work properly.\n",
    "\n",
    "The major differences between the gradient descent approach and the linear regression normal equation approach lie in a few major categories: \n",
    "\n",
    "### 1. Existence of matrix inverse \n",
    "The normal equation method requires the existence of the inverse of the matrix multiplication of the input matrix and its transpose. This inverse may or may not exist. Hence, this makes it less robust than the Gradient Descent algorithm, which poses no such bounds on the matrices. The Gradient Descent algorithm trades robustness for computational ease and accuracy.  \n",
    "\n",
    "### 2. Correctness \n",
    "The values of weights from the normal method are known to be minimal by calculus. However, the same cannot be said of the values derived from Gradient Descent, whose weight values are randomly initialised and made to converge at a particular point - ideally the minimum. However, this process is long and we can never be sure that it's converging at the least possible value. That correct value is obtained easily using the normal equation technique.  \n",
    "\n",
    "### 3. Effect of learning rate \n",
    "We also note that in case of Gradient Descent, there is another parameter introduced into the entire process of deriving the optimal weights - this parameter is called the learning rate. This learning rate helps us adjust the step value taken in going towards the optimal value of weights. This can significantly alter the process: taking a high value of learning rate will make us compute faster, but it won't always return the correct value. \n",
    "\n",
    "On the other hand, taking a very small value of the learning rate can help us achieve the optimal value of the weights, but this requires significantly higher amounts of computational power since the number of steps to be taken also increases by a large amount. \n",
    "\n",
    "This helps us establish the differences between the Normal Equation method and the Gradient Descent technique. Both have their own advantages and disadvantages, however in certain contexts we can prefer either based on our preferences. Robustness is certain with gradient descent, as well as flexibility in choosing our desired level of accuracy. However, if fault tolerance is minimal, we might prefer to use the normal method to obtain the values directly. \n"
   ]
  },
  {
   "cell_type": "code",
   "execution_count": null,
   "metadata": {},
   "outputs": [],
   "source": []
  }
 ],
 "metadata": {
  "kernelspec": {
   "display_name": "Python 3",
   "language": "python",
   "name": "python3"
  },
  "language_info": {
   "codemirror_mode": {
    "name": "ipython",
    "version": 3
   },
   "file_extension": ".py",
   "mimetype": "text/x-python",
   "name": "python",
   "nbconvert_exporter": "python",
   "pygments_lexer": "ipython3",
   "version": "3.6.8"
  }
 },
 "nbformat": 4,
 "nbformat_minor": 2
}

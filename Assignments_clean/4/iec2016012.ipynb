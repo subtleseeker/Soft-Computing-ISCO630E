{
 "cells": [
  {
   "cell_type": "markdown",
   "metadata": {},
   "source": [
    "# Assignment 4\n",
    "Using LoR and Newton's Method, predict if a student would get admission from the 2 exams.   \n",
    "Submitted by: **IEC2016012**"
   ]
  },
  {
   "cell_type": "code",
   "execution_count": 1,
   "metadata": {},
   "outputs": [],
   "source": [
    "import numpy as np\n",
    "import pandas as pd\n",
    "import matplotlib.pyplot as plt"
   ]
  },
  {
   "cell_type": "code",
   "execution_count": 2,
   "metadata": {},
   "outputs": [
    {
     "data": {
      "text/html": [
       "<div>\n",
       "<style scoped>\n",
       "    .dataframe tbody tr th:only-of-type {\n",
       "        vertical-align: middle;\n",
       "    }\n",
       "\n",
       "    .dataframe tbody tr th {\n",
       "        vertical-align: top;\n",
       "    }\n",
       "\n",
       "    .dataframe thead th {\n",
       "        text-align: right;\n",
       "    }\n",
       "</style>\n",
       "<table border=\"1\" class=\"dataframe\">\n",
       "  <thead>\n",
       "    <tr style=\"text-align: right;\">\n",
       "      <th></th>\n",
       "      <th>exam1</th>\n",
       "      <th>exam2</th>\n",
       "      <th>adm</th>\n",
       "    </tr>\n",
       "  </thead>\n",
       "  <tbody>\n",
       "    <tr>\n",
       "      <th>0</th>\n",
       "      <td>34.623660</td>\n",
       "      <td>78.024693</td>\n",
       "      <td>0</td>\n",
       "    </tr>\n",
       "    <tr>\n",
       "      <th>1</th>\n",
       "      <td>30.286711</td>\n",
       "      <td>43.894998</td>\n",
       "      <td>0</td>\n",
       "    </tr>\n",
       "    <tr>\n",
       "      <th>2</th>\n",
       "      <td>35.847409</td>\n",
       "      <td>72.902198</td>\n",
       "      <td>0</td>\n",
       "    </tr>\n",
       "    <tr>\n",
       "      <th>3</th>\n",
       "      <td>60.182599</td>\n",
       "      <td>86.308552</td>\n",
       "      <td>1</td>\n",
       "    </tr>\n",
       "    <tr>\n",
       "      <th>4</th>\n",
       "      <td>79.032736</td>\n",
       "      <td>75.344376</td>\n",
       "      <td>1</td>\n",
       "    </tr>\n",
       "  </tbody>\n",
       "</table>\n",
       "</div>"
      ],
      "text/plain": [
       "       exam1      exam2  adm\n",
       "0  34.623660  78.024693    0\n",
       "1  30.286711  43.894998    0\n",
       "2  35.847409  72.902198    0\n",
       "3  60.182599  86.308552    1\n",
       "4  79.032736  75.344376    1"
      ]
     },
     "execution_count": 2,
     "metadata": {},
     "output_type": "execute_result"
    }
   ],
   "source": [
    "df = pd.read_csv('exam.txt', names = ['exam1', 'exam2', 'adm'])\n",
    "df.head()"
   ]
  },
  {
   "cell_type": "code",
   "execution_count": 3,
   "metadata": {},
   "outputs": [
    {
     "data": {
      "text/plain": [
       "(100, 3)"
      ]
     },
     "execution_count": 3,
     "metadata": {},
     "output_type": "execute_result"
    }
   ],
   "source": [
    "df.shape"
   ]
  },
  {
   "cell_type": "code",
   "execution_count": 4,
   "metadata": {},
   "outputs": [
    {
     "name": "stdout",
     "output_type": "stream",
     "text": [
      "(100, 2) (100,)\n"
     ]
    }
   ],
   "source": [
    "y = df['adm'].values\n",
    "X = df.drop(['adm'], axis=1).values\n",
    "print(X.shape, y.shape)"
   ]
  },
  {
   "cell_type": "code",
   "execution_count": 5,
   "metadata": {},
   "outputs": [
    {
     "name": "stdout",
     "output_type": "stream",
     "text": [
      "(72, 2) (28, 2)\n"
     ]
    }
   ],
   "source": [
    "msk = np.random.rand(len(X)) < 0.7\n",
    "X_train = X[msk]\n",
    "X_test = X[~msk]\n",
    "y_train = y[msk]\n",
    "y_test = y[~msk]\n",
    "print(X_train.shape, X_test.shape)"
   ]
  },
  {
   "cell_type": "code",
   "execution_count": 6,
   "metadata": {},
   "outputs": [
    {
     "data": {
      "image/png": "[encoded data removed]",
      "text/plain": [
       "<Figure size 432x288 with 1 Axes>"
      ]
     },
     "metadata": {
      "needs_background": "light"
     },
     "output_type": "display_data"
    }
   ],
   "source": [
    "for i in range(X_train.shape[0]):\n",
    "    if y_train[i]==1:\n",
    "        plt.plot(X_train[i,0],X_train[i,1],'rx')\n",
    "    else:\n",
    "        plt.plot(X_train[i,0],X_train[i,1],'bx')\n",
    "plt.show()"
   ]
  },
  {
   "cell_type": "code",
   "execution_count": 7,
   "metadata": {},
   "outputs": [],
   "source": [
    "#Normalizing\n",
    "X_train = (X_train-np.min(X_train,axis=0))/(np.max(X_train,axis=0)-np.min(X_train,axis=0))\n",
    "X_test = (X_test-np.min(X_test,axis=0))/(np.max(X_test,axis=0)-np.min(X_test,axis=0))"
   ]
  },
  {
   "cell_type": "code",
   "execution_count": 8,
   "metadata": {},
   "outputs": [
    {
     "name": "stdout",
     "output_type": "stream",
     "text": [
      "(72, 3)\n"
     ]
    }
   ],
   "source": [
    "#Adding row for bias\n",
    "X_train = np.concatenate( (np.ones((X_train.shape[0],1)),X_train) , axis=1)\n",
    "X_test = np.concatenate( (np.ones((X_test.shape[0],1)),X_test) , axis=1)\n",
    "print(X_train.shape)"
   ]
  },
  {
   "cell_type": "code",
   "execution_count": 9,
   "metadata": {},
   "outputs": [],
   "source": [
    "def sigmoid(z):\n",
    "    return 1/(1+np.exp(-z))\n",
    "def sig_prime(z):\n",
    "    return sigmoid(z)*(1-sigmoid(z))"
   ]
  },
  {
   "cell_type": "code",
   "execution_count": 10,
   "metadata": {},
   "outputs": [
    {
     "name": "stdout",
     "output_type": "stream",
     "text": [
      "[[0.77958    0.01529851 0.95936007]]\n",
      "(72,)\n"
     ]
    }
   ],
   "source": [
    "m,n = X_train.shape # n is the shape of original_X.shape[0]+1\n",
    "theta = np.random.rand(1,n)\n",
    "print(theta)\n",
    "\n",
    "def get_h(X, theta):\n",
    "    h = sigmoid(X@theta.T)\n",
    "    h = h.reshape(-1)\n",
    "    return h\n",
    "\n",
    "h = get_h(X_train, theta)\n",
    "print(h.shape)"
   ]
  },
  {
   "cell_type": "code",
   "execution_count": 11,
   "metadata": {},
   "outputs": [],
   "source": [
    "def get_cost(h,y):\n",
    "    return -(1/m)*(y.T@np.log(1-h) + (1-y).T@np.log(1-h))\n",
    "# get_cost(h,y)"
   ]
  },
  {
   "cell_type": "code",
   "execution_count": 12,
   "metadata": {},
   "outputs": [],
   "source": [
    "def gd(X,y,theta,alpha,lam,it):\n",
    "    i=0\n",
    "    while(i<it):\n",
    "        h = sigmoid(X@theta.T).reshape(-1)\n",
    "        theta = theta - alpha/m*(X.T@(h-y)) - lam/m*np.sum(theta[:,1:])\n",
    "#         theta = theta*(1-(alpha*lam/m)) - alpha/m*(X.T@(h-y)) \n",
    "        i+=1\n",
    "    return theta"
   ]
  },
  {
   "cell_type": "markdown",
   "metadata": {},
   "source": [
    "## Without regularization"
   ]
  },
  {
   "cell_type": "code",
   "execution_count": 13,
   "metadata": {},
   "outputs": [
    {
     "name": "stdout",
     "output_type": "stream",
     "text": [
      "Alpha = 0.0001, Accuracy % = 0.6071428571428571\n",
      "Alpha = 0.001, Accuracy % = 0.6071428571428571\n",
      "Alpha = 0.01, Accuracy % = 0.9642857142857143\n",
      "Alpha = 0.1, Accuracy % = 0.9642857142857143\n"
     ]
    }
   ],
   "source": [
    "alphas = [0.0001, 0.001, 0.01, 0.1] #, 1, 10, 100\n",
    "\n",
    "for alpha in alphas:\n",
    "    thetax = gd(X_train,y_train,theta,alpha,0,10000) #Regularization=0\n",
    "\n",
    "    #Testing\n",
    "    h = sigmoid(X_test@thetax.T)\n",
    "    h = (h>=0.5)*1\n",
    "    h = h.reshape(-1)\n",
    "#     err = np.sum(np.abs(h-y))/y.shape[0]\n",
    "    acc = np.sum(h==y_test)/y_test.shape[0]\n",
    "    print(\"Alpha = \" + str(alpha) + \", Accuracy % = \" + str(acc))\n"
   ]
  },
  {
   "cell_type": "markdown",
   "metadata": {},
   "source": [
    "## With regularization"
   ]
  },
  {
   "cell_type": "code",
   "execution_count": 14,
   "metadata": {},
   "outputs": [
    {
     "name": "stdout",
     "output_type": "stream",
     "text": [
      "Lambda = 0\n",
      "Alpha = 0.0001, Accuracy % = 0.6071428571428571\n",
      "Alpha = 0.001, Accuracy % = 0.6071428571428571\n",
      "Alpha = 0.01, Accuracy % = 0.9642857142857143\n",
      "Alpha = 0.1, Accuracy % = 0.9642857142857143\n",
      "--------------------------\n",
      "Lambda = 0.001\n",
      "Alpha = 0.0001, Accuracy % = 0.6071428571428571\n",
      "Alpha = 0.001, Accuracy % = 0.6428571428571429\n",
      "Alpha = 0.01, Accuracy % = 0.9642857142857143\n",
      "Alpha = 0.1, Accuracy % = 0.9642857142857143\n",
      "--------------------------\n",
      "Lambda = 0.01\n",
      "Alpha = 0.0001, Accuracy % = 0.5714285714285714\n",
      "Alpha = 0.001, Accuracy % = 0.75\n",
      "Alpha = 0.01, Accuracy % = 0.9285714285714286\n",
      "Alpha = 0.1, Accuracy % = 0.9285714285714286\n",
      "--------------------------\n",
      "Lambda = 0.1\n",
      "Alpha = 0.0001, Accuracy % = 0.5714285714285714\n",
      "Alpha = 0.001, Accuracy % = 0.5714285714285714\n",
      "Alpha = 0.01, Accuracy % = 0.6071428571428571\n",
      "Alpha = 0.1, Accuracy % = 0.8928571428571429\n",
      "--------------------------\n",
      "Lambda = 1\n",
      "Alpha = 0.0001, Accuracy % = 0.5714285714285714\n",
      "Alpha = 0.001, Accuracy % = 0.5\n",
      "Alpha = 0.01, Accuracy % = 0.39285714285714285\n",
      "Alpha = 0.1, Accuracy % = 0.6428571428571429\n",
      "--------------------------\n",
      "Lambda = 10\n",
      "Alpha = 0.0001, Accuracy % = 0.5714285714285714\n",
      "Alpha = 0.001, Accuracy % = 0.5\n",
      "Alpha = 0.01, Accuracy % = 0.39285714285714285\n",
      "Alpha = 0.1, Accuracy % = 0.39285714285714285\n",
      "--------------------------\n"
     ]
    }
   ],
   "source": [
    "alphas = [0.0001, 0.001, 0.01, 0.1] #, 1, 10, 100\n",
    "lams = [0,0.001,0.01,0.1,1,10]\n",
    "\n",
    "for lam in lams:\n",
    "    print(\"Lambda = \" + str(lam))\n",
    "    for alpha in alphas:\n",
    "        thetax = gd(X_train,y_train,theta,alpha,lam,10000)\n",
    "        \n",
    "        #Testing\n",
    "        h = sigmoid(X_test@thetax.T)\n",
    "        h = (h>=0.5)*1\n",
    "        h = h.reshape(-1)\n",
    "    #     err = np.sum(np.abs(h-y))/y.shape[0]\n",
    "        acc = np.sum(h==y_test)/y_test.shape[0]\n",
    "        print(\"Alpha = \" + str(alpha) + \", Accuracy % = \" + str(acc))\n",
    "    print(\"--------------------------\")"
   ]
  },
  {
   "cell_type": "code",
   "execution_count": 15,
   "metadata": {},
   "outputs": [
    {
     "data": {
      "image/png": "[encoded data removed]",
      "text/plain": [
       "<Figure size 432x288 with 1 Axes>"
      ]
     },
     "metadata": {
      "needs_background": "light"
     },
     "output_type": "display_data"
    },
    {
     "data": {
      "image/png": "[encoded data removed]",
      "text/plain": [
       "<Figure size 432x288 with 1 Axes>"
      ]
     },
     "metadata": {
      "needs_background": "light"
     },
     "output_type": "display_data"
    }
   ],
   "source": [
    "thetax = gd(X_train,y_train,theta,0.01,0.01,10000)\n",
    "\n",
    "h = sigmoid(X_test@thetax.T)\n",
    "h = (h>=0.5)*1\n",
    "h = h.reshape(-1)\n",
    "\n",
    "def plot_graph(X,y,h):\n",
    "    mask = y==1\n",
    "    plt.plot(X[mask,1],X[mask,2],'rx')\n",
    "    plt.plot(X[~mask,1],X[~mask,2],'bx')\n",
    "    plt.title(\"Original Data\")\n",
    "    plt.show()\n",
    "\n",
    "    mask = h==1\n",
    "    plt.plot(X[mask,1],X[mask,2],'rx')\n",
    "    plt.plot(X[~mask,1],X[~mask,2],'bx')\n",
    "    plt.title('Predicted')\n",
    "    plt.show()\n",
    "    \n",
    "plot_graph(X_test,y_test,h)"
   ]
  },
  {
   "cell_type": "markdown",
   "metadata": {},
   "source": [
    "## Conclusion\n",
    "An approximate accuracy of 90% is obtained with alpha 0.01 and lambda 0.01."
   ]
  },
  {
   "cell_type": "markdown",
   "metadata": {},
   "source": [
    "# Newton's Method"
   ]
  },
  {
   "cell_type": "code",
   "execution_count": 16,
   "metadata": {},
   "outputs": [
    {
     "name": "stdout",
     "output_type": "stream",
     "text": [
      "(61, 3) (61,) 61 3 (1, 3)\n"
     ]
    }
   ],
   "source": [
    "df = pd.read_csv('exam.txt', names = ['exam1', 'exam2', 'adm'])\n",
    "y = df['adm'].values\n",
    "X = df.drop(['adm'], axis=1).values\n",
    "\n",
    "msk = np.random.rand(len(X)) < 0.7\n",
    "X_train = X[msk]\n",
    "X_test = X[~msk]\n",
    "y_train = y[msk]\n",
    "y_test = y[~msk]\n",
    "\n",
    "#Normalizing\n",
    "X_train = (X_train-np.min(X_train,axis=0))/(np.max(X_train,axis=0)-np.min(X_train,axis=0))\n",
    "X_test = (X_test-np.min(X_test,axis=0))/(np.max(X_test,axis=0)-np.min(X_test,axis=0))\n",
    "\n",
    "#Adding row for bias\n",
    "X_train = np.concatenate( (np.ones((X_train.shape[0],1)),X_train) , axis=1)\n",
    "X_test = np.concatenate( (np.ones((X_test.shape[0],1)),X_test) , axis=1)\n",
    "\n",
    "m,n = X_train.shape # n is the shape of original_X.shape[0]+1\n",
    "theta = np.random.rand(1,n)\n",
    "print(X_train.shape, y_train.shape, m, n, theta.shape)"
   ]
  },
  {
   "cell_type": "code",
   "execution_count": 17,
   "metadata": {},
   "outputs": [
    {
     "name": "stdout",
     "output_type": "stream",
     "text": [
      "Number of iterations taken: 0\n",
      "[[0.31206969]\n",
      " [0.53731421]\n",
      " [0.74249994]]\n"
     ]
    }
   ],
   "source": [
    "def newton(x, y, m, w):\n",
    "    delta_J = np.zeros((x.shape[1],1))\n",
    "    for i in range(1,m):\n",
    "        z = np.matmul(x[i],w)\n",
    "        h = 1/(1 + np.exp(-z))\n",
    "        x_dum = x[i]\n",
    "        x_dum = np.reshape(x_dum,(x_dum.shape[0],1))\n",
    "        x_dum = (h-y[i])*x_dum\n",
    "        delta_J = np.add(delta_J , x_dum)\n",
    "    \n",
    "#     print(x.shape)\n",
    "#     print(y.shape)\n",
    "#     print(delta_J)\n",
    "#     print(delta_J.shape)\n",
    "    \n",
    "    J_prev = 100\n",
    "    iterations = 0\n",
    "    log = np.array([])\n",
    "    \n",
    "    while(iterations<10):\n",
    "        # Finding Hessian\n",
    "        Hessian = np.zeros((n,n))\n",
    "        for i in range(1,m):\n",
    "            h = sigmoid(x[i]@w) \n",
    "            x_dum = x[i]\n",
    "            x_dum = np.reshape(x_dum,(x_dum.shape[0],1))\n",
    "            Hessian =  np.add(Hessian,(h*(1-h)*(x_dum.T@x_dum)))\n",
    "        \n",
    "        #Finding gradient\n",
    "        grad = np.zeros((x.shape[1],1))\n",
    "        for i in range(1,m):\n",
    "            h = sigmoid(x[i]@w)\n",
    "            x_dum = x[i]\n",
    "            x_dum = np.reshape(x_dum,(x_dum.shape[0],1))\n",
    "            x_dum = (h-y[i])*x_dum\n",
    "            grad = np.add(grad, x_dum)\n",
    "        \n",
    "        if not np.any(Hessian) != 0:\n",
    "            Hessian_inv = inv(Hessian)\n",
    "        else:\n",
    "            break\n",
    "        w = np.subtract(w,Hessian_inv@grad)\n",
    "        print(\"w = \" , w)\n",
    "        z = np.dot(x,w)\n",
    "        J_prev = J\n",
    "\n",
    "        log = np.append(log, J)\n",
    "        iterations+=1\n",
    "#     print(\"Number of iterations taken: \" + str(iterations))\n",
    "    return w\n",
    "\n",
    "m,n = X_train.shape # n is the shape of original_X.shape[0]+1\n",
    "theta = np.random.rand(n,1)\n",
    "theta = newton(X_train,y_train,m,theta)\n",
    "print(theta)"
   ]
  },
  {
   "cell_type": "code",
   "execution_count": 18,
   "metadata": {},
   "outputs": [],
   "source": [
    "h_test_ = sigmoid(X_test@theta)>0.5\n",
    "h_test = (h_test_>=0.5)*1\n",
    "h_test = h_test.reshape(-1)"
   ]
  },
  {
   "cell_type": "code",
   "execution_count": 19,
   "metadata": {},
   "outputs": [
    {
     "name": "stdout",
     "output_type": "stream",
     "text": [
      "[0.96428571]\n"
     ]
    }
   ],
   "source": [
    "acc = np.sum(h_test == y_test)/h.shape\n",
    "print(acc)"
   ]
  },
  {
   "cell_type": "markdown",
   "metadata": {},
   "source": [
    "## Conclusion\n",
    "The accuracy obtained from either of the methods ie. Logistic Regression and Newton's method. The iterations taken by newtons method is far less than that taken by LoR. The accuracy achieved by Newton's method is better than that the accuracy obtained by Logistic Regression.   \n",
    "\n",
    "Accuracy obtained by:  \n",
    "LoR : $92$%   \n",
    "Newton's Method : $96$%"
   ]
  },
  {
   "cell_type": "code",
   "execution_count": null,
   "metadata": {},
   "outputs": [],
   "source": []
  }
 ],
 "metadata": {
  "kernelspec": {
   "display_name": "Python 3",
   "language": "python",
   "name": "python3"
  },
  "language_info": {
   "codemirror_mode": {
    "name": "ipython",
    "version": 3
   },
   "file_extension": ".py",
   "mimetype": "text/x-python",
   "name": "python",
   "nbconvert_exporter": "python",
   "pygments_lexer": "ipython3",
   "version": "3.6.8"
  }
 },
 "nbformat": 4,
 "nbformat_minor": 2
}

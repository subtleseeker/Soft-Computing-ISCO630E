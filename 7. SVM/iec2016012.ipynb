{
 "cells": [
  {
   "cell_type": "markdown",
   "metadata": {},
   "source": [
    "## Assignment 7\n",
    "Submitted by: **IEC2016012**   \n",
    "Implement binary SVM to classify MNIST digits 3 and 8 using SMO Algorithm. Use different kernel functions(RBF, Polynomial at least) and generate ROC curve. Strictly divide(60:20:20) the data into train, validation and test splits. Perform all hyper parameter tuning/feature selection on validation data and report accuracy on test split. We suggest you to implement the SMO algorithm by yourself for which 10 bonus points will be given, but if you find it difficult, you are free to use third party implementation\"."
   ]
  },
  {
   "cell_type": "markdown",
   "metadata": {},
   "source": [
    "## Importing libraries"
   ]
  },
  {
   "cell_type": "code",
   "execution_count": 1,
   "metadata": {},
   "outputs": [],
   "source": [
    "import numpy as np\n",
    "import matplotlib.pyplot as plt\n",
    "import pandas as pd\n",
    "import os\n",
    "import sys\n",
    "import random as rnd\n",
    "from sklearn.datasets import fetch_mldata\n",
    "from sklearn.utils import shuffle\n",
    "from sklearn.model_selection import train_test_split"
   ]
  },
  {
   "cell_type": "markdown",
   "metadata": {},
   "source": [
    "## Loading dataset"
   ]
  },
  {
   "cell_type": "code",
   "execution_count": 2,
   "metadata": {},
   "outputs": [
    {
     "name": "stderr",
     "output_type": "stream",
     "text": [
      "/home/subtleseeker/anaconda3/lib/python3.6/site-packages/sklearn/utils/deprecation.py:77: DeprecationWarning: Function fetch_mldata is deprecated; fetch_mldata was deprecated in version 0.20 and will be removed in version 0.22\n",
      "  warnings.warn(msg, category=DeprecationWarning)\n",
      "/home/subtleseeker/anaconda3/lib/python3.6/site-packages/sklearn/utils/deprecation.py:77: DeprecationWarning: Function mldata_filename is deprecated; mldata_filename was deprecated in version 0.20 and will be removed in version 0.22\n",
      "  warnings.warn(msg, category=DeprecationWarning)\n"
     ]
    }
   ],
   "source": [
    "mnist = fetch_mldata('MNIST original')"
   ]
  },
  {
   "cell_type": "code",
   "execution_count": 3,
   "metadata": {},
   "outputs": [],
   "source": [
    "data = mnist['data']\n",
    "target = mnist['target']"
   ]
  },
  {
   "cell_type": "code",
   "execution_count": 4,
   "metadata": {},
   "outputs": [],
   "source": [
    "target = target.astype(int)\n",
    "data = data.astype(int)"
   ]
  },
  {
   "cell_type": "markdown",
   "metadata": {},
   "source": [
    "## Separating images of 3 and 8"
   ]
  },
  {
   "cell_type": "code",
   "execution_count": 5,
   "metadata": {},
   "outputs": [],
   "source": [
    "indices = []\n",
    "for i, val in enumerate(target):\n",
    "    if val==3 or val==8:\n",
    "        indices.append(i)"
   ]
  },
  {
   "cell_type": "code",
   "execution_count": 6,
   "metadata": {},
   "outputs": [],
   "source": [
    "X = data[indices]\n",
    "y = target[indices]"
   ]
  },
  {
   "cell_type": "code",
   "execution_count": 7,
   "metadata": {},
   "outputs": [],
   "source": [
    "X, y = shuffle(X, y, random_state=0)"
   ]
  },
  {
   "cell_type": "code",
   "execution_count": 8,
   "metadata": {},
   "outputs": [],
   "source": [
    "X = X[:3000]\n",
    "y = y[:3000]"
   ]
  },
  {
   "cell_type": "code",
   "execution_count": 9,
   "metadata": {},
   "outputs": [],
   "source": [
    "y_new = np.zeros((len(y)))"
   ]
  },
  {
   "cell_type": "code",
   "execution_count": 10,
   "metadata": {},
   "outputs": [],
   "source": [
    "for i in range(len(y)):\n",
    "    if y[i]==3:\n",
    "        y_new[i]=1\n",
    "    else:\n",
    "        y_new[i]=-1"
   ]
  },
  {
   "cell_type": "markdown",
   "metadata": {},
   "source": [
    "## Dividing dataset into train, validation, test"
   ]
  },
  {
   "cell_type": "code",
   "execution_count": 11,
   "metadata": {},
   "outputs": [],
   "source": [
    "X_train, X_test, y_train, y_test = train_test_split(X, y_new, test_size=0.2, random_state=1)\n",
    "X_train, X_val, y_train, y_val  = train_test_split(X_train, y_train, test_size=0.2, random_state=1)"
   ]
  },
  {
   "cell_type": "code",
   "execution_count": null,
   "metadata": {},
   "outputs": [],
   "source": [
    "plt.imshow(np.reshape(X_train[0],(28,28)))\n",
    "print(y_train[0])\n",
    "plt.show()"
   ]
  },
  {
   "cell_type": "code",
   "execution_count": 12,
   "metadata": {},
   "outputs": [],
   "source": [
    "#Hyperparameters\n",
    "C = 1.0\n",
    "tol = 0.01\n",
    "max_iter = 1000\n",
    "tau = 5\n",
    "epsilon = 0.001"
   ]
  },
  {
   "cell_type": "code",
   "execution_count": 13,
   "metadata": {},
   "outputs": [],
   "source": [
    "def kernel_linear(x1, x2):\n",
    "    return np.dot(x1, x2.T)\n",
    "def kernel_quadratic(x1, x2):\n",
    "    return (np.square(np.dot(x1, x2.T)))\n",
    "def kernel_gaussian(x1, x2):\n",
    "    return np.sum(np.exp(-np.square(np.linalg.norm(x1-x2))/(2*tau*tau)))\n",
    "def kernel_rbf(x1, x2):\n",
    "    return np.sum(np.exp(-np.square(np.linalg.norm(x1-x2))/1))"
   ]
  },
  {
   "cell_type": "code",
   "execution_count": 14,
   "metadata": {},
   "outputs": [],
   "source": [
    "def calc_b(X, y, w):\n",
    "    b_tmp = y.reshape((y.shape[0],1)) - np.dot(X, w)\n",
    "    return np.mean(b_tmp)\n",
    "def calc_w(alpha, y, X):\n",
    "    return np.dot(X.T, np.multiply(alpha,y).reshape((X.shape[0],1)))\n",
    "def h(X, w, b):\n",
    "    if len(X.shape)==1:\n",
    "        return np.sign(np.dot(w.T, X.reshape(X.shape[0],1)) + b).T\n",
    "    else:\n",
    "        return np.sign(np.dot(w.T, X.T) + b).T\n",
    "def E(x_k, y_k, w, b):\n",
    "    return h(x_k, w, b) - y_k\n",
    "def compute_L_H(C, alphaj_old, alphai_old, yj, yi):\n",
    "    if(yi != yj):\n",
    "        return (max(0, alphaj_old - alphai_old), min(C, C - alphai_old + alphaj_old))\n",
    "    else:\n",
    "        return (max(0, alphai_old + alphaj_old - C), min(C, alphai_old + alphaj_old))\n",
    "def get_rnd_int(a,b,z):\n",
    "    j = z\n",
    "    cnt=0\n",
    "    while j == z and cnt<1000:\n",
    "        j = rnd.randint(a,b)\n",
    "        cnt=cnt+1\n",
    "    return j"
   ]
  },
  {
   "cell_type": "code",
   "execution_count": 15,
   "metadata": {},
   "outputs": [],
   "source": [
    "kernels = {\n",
    "            'linear' : kernel_linear,\n",
    "            'quadratic' : kernel_quadratic,\n",
    "            'gaussian' : kernel_gaussian,\n",
    "            'rbf': kernel_rbf,\n",
    "}"
   ]
  },
  {
   "cell_type": "code",
   "execution_count": 16,
   "metadata": {},
   "outputs": [],
   "source": [
    "def SVM_train(X,y,k=\"linear\"):\n",
    "    n, d = X.shape[0], X.shape[1]\n",
    "    alpha = np.zeros((n))\n",
    "    count = 0\n",
    "    while True:\n",
    "        count += 1\n",
    "        alpha_prev = np.copy(alpha)\n",
    "        for j in range(0, n):\n",
    "            i = get_rnd_int(0, n-1, j)\n",
    "            x_i, x_j, y_i, y_j = X[i,:], X[j,:], y[i], y[j]\n",
    "            k_ij = kernels[k](x_i, x_i) + kernels[k](x_j, x_j) - 2 * kernels[k](x_i, x_j)\n",
    "            if k_ij == 0:\n",
    "                continue\n",
    "            alphaold_j, alphaold_i = alpha[j], alpha[i]\n",
    "            (L, H) = compute_L_H(C, alphaold_j, alphaold_i, y_j, y_i)\n",
    "\n",
    "            w = calc_w(alpha, y, X)\n",
    "            b = calc_b(X, y, w)\n",
    "\n",
    "            E_i = E(x_i, y_i, w, b)\n",
    "            E_j = E(x_j, y_j, w, b)\n",
    "\n",
    "            alpha[j] = alphaold_j + float(y_j * (E_i - E_j))/k_ij\n",
    "            alpha[j] = max(alpha[j], L)\n",
    "            alpha[j] = min(alpha[j], H)\n",
    "\n",
    "            alpha[i] = alphaold_i + y_i*y_j * (alphaold_j - alpha[j])\n",
    "\n",
    "        # Check convergence\n",
    "        diff = np.linalg.norm(alpha - alpha_prev)\n",
    "        if diff < epsilon:\n",
    "            break\n",
    "\n",
    "        if count >= max_iter:\n",
    "            print(\"Iteration number exceeded the max of %d iterations\" % (max_iter))\n",
    "            return\n",
    "    # Compute final model parameters\n",
    "    w = calc_w(alpha, y, X)\n",
    "    b = calc_b(X, y, w)\n",
    "    # Get support vectors\n",
    "    alpha_idx = np.where(alpha > 0)[0]\n",
    "    support_vectors = X[alpha_idx, :]   \n",
    "    return support_vectors, count, b, w"
   ]
  },
  {
   "cell_type": "code",
   "execution_count": 17,
   "metadata": {},
   "outputs": [],
   "source": [
    "#Predict kar lo frands\n",
    "def predict(X, w, b):\n",
    "        return h(X, w, b)\n",
    "def calc_acc(y, y_hat):\n",
    "    idx = np.where(y_hat == 1)\n",
    "    print(y.shape)\n",
    "    print(y_hat.shape)\n",
    "    TP = np.sum(y_hat[idx] == y[idx])\n",
    "    idx = np.where(y_hat == -1)\n",
    "    TN = np.sum(y_hat[idx] == y[idx])\n",
    "    return float(TP + TN)/len(y)"
   ]
  },
  {
   "cell_type": "code",
   "execution_count": 18,
   "metadata": {},
   "outputs": [],
   "source": [
    "sup, itera, b_ , w_ = SVM_train(X_train, y_train)"
   ]
  },
  {
   "cell_type": "markdown",
   "metadata": {},
   "source": [
    "## Test Accuracy"
   ]
  },
  {
   "cell_type": "code",
   "execution_count": 19,
   "metadata": {},
   "outputs": [
    {
     "name": "stdout",
     "output_type": "stream",
     "text": [
      "(600,)\n",
      "(600,)\n",
      "0.9333333333333333\n"
     ]
    }
   ],
   "source": [
    "y_pred = predict(X_test, w_, b_)\n",
    "y_pred = y_pred.flatten()\n",
    "print(calc_acc(y_test,y_pred))"
   ]
  },
  {
   "cell_type": "markdown",
   "metadata": {},
   "source": [
    "## Hyperparameter tuning on the validation dataset"
   ]
  },
  {
   "cell_type": "code",
   "execution_count": 22,
   "metadata": {},
   "outputs": [
    {
     "name": "stdout",
     "output_type": "stream",
     "text": [
      "Kernel: linear\n",
      "C  1\n",
      "(480,)\n",
      "(480,)\n",
      "Accuracy: 0.9645833333333333\n",
      "C  10\n",
      "(480,)\n",
      "(480,)\n",
      "Accuracy: 0.9520833333333333\n",
      "C  100\n",
      "\n",
      "(480,)\n",
      "(480,)\n",
      "Accuracy: 0.9583333333333334\n",
      "Kernel: quadratic\n",
      "C  1\n",
      "(480,)\n",
      "(480,)\n",
      "Accuracy: 0.525\n",
      "C  10\n",
      "(480,)\n",
      "(480,)\n",
      "Accuracy: 0.525\n",
      "C  100\n",
      "(480,)\n",
      "(480,)\n",
      "Accuracy: 0.525\n",
      "Kernel: gaussian\n",
      "C  1\n",
      "(480,)\n",
      "(480,)\n",
      "Accuracy: 0.9479166666666666\n"
     ]
    }
   ],
   "source": [
    "Cs = [1, 10, 100]\n",
    "for k in kernels:\n",
    "    print(\"Kernel:\",k)\n",
    "    for i in range(len(Cs)):\n",
    "        C = Cs[i]\n",
    "        sup, itera, b_ , w_ = SVM_train(X_train, y_train, k)\n",
    "        print(\"C \",C)\n",
    "        y_pred = predict(X_val, w_, b_)\n",
    "        y_pred = y_pred.flatten()\n",
    "        print(\"Accuracy:\",calc_acc(y_val,y_pred))\n"
   ]
  },
  {
   "cell_type": "code",
   "execution_count": 23,
   "metadata": {},
   "outputs": [
    {
     "name": "stdout",
     "output_type": "stream",
     "text": [
      "(600,)\n",
      "(600,)\n",
      "0.9366666666666666\n"
     ]
    }
   ],
   "source": [
    "y_pred = predict(X_test, w_, b_)\n",
    "y_pred = y_pred.flatten()\n",
    "print(calc_acc(y_test,y_pred))"
   ]
  },
  {
   "cell_type": "code",
   "execution_count": 24,
   "metadata": {},
   "outputs": [],
   "source": [
    "sup, itera, b_ , w_ = SVM_train(X_train, y_train)\n",
    "from sklearn.metrics import roc_curve, auc\n",
    "from sklearn.model_selection import train_test_split\n",
    "from sklearn.preprocessing import label_binarize\n",
    "y_test_c = y_test.copy()\n",
    "y_test_c = label_binarize(y_test_c, classes=[-1, 1])"
   ]
  },
  {
   "cell_type": "code",
   "execution_count": 25,
   "metadata": {},
   "outputs": [],
   "source": [
    "fpr, tpr, _ = roc_curve(y_test_c[:], y_pred[:])\n",
    "roc_auc = auc(fpr, tpr)"
   ]
  },
  {
   "cell_type": "code",
   "execution_count": 26,
   "metadata": {},
   "outputs": [
    {
     "data": {
      "text/plain": [
       "0.9362092549961631"
      ]
     },
     "execution_count": 26,
     "metadata": {},
     "output_type": "execute_result"
    }
   ],
   "source": [
    "roc_auc"
   ]
  },
  {
   "cell_type": "code",
   "execution_count": 28,
   "metadata": {},
   "outputs": [
    {
     "data": {
      "image/png": "[encoded data removed]",
      "text/plain": [
       "<Figure size 432x288 with 1 Axes>"
      ]
     },
     "metadata": {
      "needs_background": "light"
     },
     "output_type": "display_data"
    }
   ],
   "source": [
    "plt.figure()\n",
    "lw = 2\n",
    "plt.plot(fpr, tpr, color='darkorange',lw=lw, label='ROC curve (area = %0.2f)' % roc_auc)\n",
    "plt.plot([0, 1], [0, 1], color='navy', lw=lw, linestyle='--')\n",
    "plt.xlim([0.0, 1.0])\n",
    "plt.ylim([0.0, 1.05])\n",
    "plt.xlabel('False Positive Rate')\n",
    "plt.ylabel('True Positive Rate')\n",
    "plt.title('Receiver operating characteristic')\n",
    "plt.legend(loc=\"lower right\")\n",
    "plt.show()"
   ]
  },
  {
   "cell_type": "markdown",
   "metadata": {},
   "source": [
    "### For RBF"
   ]
  },
  {
   "cell_type": "code",
   "execution_count": 31,
   "metadata": {},
   "outputs": [
    {
     "name": "stdout",
     "output_type": "stream",
     "text": [
      "Accuracy: 0.9479166666666666\n"
     ]
    }
   ],
   "source": [
    "sup, itera, b_ , w_ = SVM_train(X_train, y_train, k='rbf')"
   ]
  },
  {
   "cell_type": "code",
   "execution_count": null,
   "metadata": {},
   "outputs": [],
   "source": []
  }
 ],
 "metadata": {
  "kernelspec": {
   "display_name": "Python 3",
   "language": "python",
   "name": "python3"
  },
  "language_info": {
   "codemirror_mode": {
    "name": "ipython",
    "version": 3
   },
   "file_extension": ".py",
   "mimetype": "text/x-python",
   "name": "python",
   "nbconvert_exporter": "python",
   "pygments_lexer": "ipython3",
   "version": "3.6.8"
  }
 },
 "nbformat": 4,
 "nbformat_minor": 2
}

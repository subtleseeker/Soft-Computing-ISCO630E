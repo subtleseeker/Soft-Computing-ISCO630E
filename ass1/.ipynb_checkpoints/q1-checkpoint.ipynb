{
 "cells": [
  {
   "cell_type": "code",
   "execution_count": 18,
   "metadata": {},
   "outputs": [],
   "source": [
    "import numpy as np\n",
    "import matplotlib.pyplot as plt"
   ]
  },
  {
   "cell_type": "code",
   "execution_count": 19,
   "metadata": {},
   "outputs": [
    {
     "name": "stdout",
     "output_type": "stream",
     "text": [
      "[2007 2008 2009 2010 2011 2012 2013 2014 2015 2016 2017]\n",
      "[61.2 58.3 67.1 69.2 68.9 83.5 81.9 80.  92.3 93.  97. ]\n"
     ]
    }
   ],
   "source": [
    "x = np.arange(2007,2018)\n",
    "y = [61.2, 58.3, 67.1, 69.2, 68.9, 83.5, 81.9, 80, 92.3, 93, 97]\n",
    "y = np.array(y)\n",
    "print(x)\n",
    "print(y)"
   ]
  },
  {
   "cell_type": "code",
   "execution_count": 20,
   "metadata": {},
   "outputs": [
    {
     "data": {
      "image/png": "[encoded data removed]",
      "text/plain": [
       "<Figure size 432x288 with 1 Axes>"
      ]
     },
     "metadata": {
      "needs_background": "light"
     },
     "output_type": "display_data"
    }
   ],
   "source": [
    "plt.plot(x,y,'x')\n",
    "plt.show()"
   ]
  },
  {
   "cell_type": "code",
   "execution_count": 21,
   "metadata": {},
   "outputs": [
    {
     "name": "stdout",
     "output_type": "stream",
     "text": [
      "22132 852.4 44529694 1715456.8\n"
     ]
    }
   ],
   "source": [
    "A = np.sum(x)\n",
    "B = np.sum(y)\n",
    "C = np.sum(np.square(x))\n",
    "D = np.sum(np.multiply(x,y))\n",
    "m = len(x)\n",
    "print(A,B,C,D)"
   ]
  },
  {
   "cell_type": "code",
   "execution_count": 22,
   "metadata": {},
   "outputs": [
    {
     "name": "stdout",
     "output_type": "stream",
     "text": [
      "18870024.8\n",
      "489825424\n"
     ]
    }
   ],
   "source": [
    "print(m*D)\n",
    "print(A**2)\n",
    "w1 = (m*D-A*B)/(m*C-A**2)\n",
    "w0 = (C*B-A*D)/(m*C-A**2)"
   ]
  },
  {
   "cell_type": "code",
   "execution_count": 23,
   "metadata": {},
   "outputs": [
    {
     "name": "stdout",
     "output_type": "stream",
     "text": [
      "-7751.018181818182 3.890909090909091\n"
     ]
    }
   ],
   "source": [
    "# w0=60\n",
    "h = w0+w1*x\n",
    "print(w0,w1)"
   ]
  },
  {
   "cell_type": "code",
   "execution_count": 24,
   "metadata": {},
   "outputs": [
    {
     "data": {
      "image/png": "[encoded data removed]",
      "text/plain": [
       "<Figure size 432x288 with 1 Axes>"
      ]
     },
     "metadata": {
      "needs_background": "light"
     },
     "output_type": "display_data"
    }
   ],
   "source": [
    "plt.plot(x,h,x,y,'rx')\n",
    "plt.show()"
   ]
  },
  {
   "cell_type": "code",
   "execution_count": 25,
   "metadata": {},
   "outputs": [
    {
     "name": "stdout",
     "output_type": "stream",
     "text": [
      "Expected revenue in 2019 is:104.72727272727298\n"
     ]
    }
   ],
   "source": [
    "print(\"Expected revenue in 2019 is:\" + str(w0+w1*2019))"
   ]
  },
  {
   "cell_type": "code",
   "execution_count": 26,
   "metadata": {},
   "outputs": [
    {
     "name": "stdout",
     "output_type": "stream",
     "text": [
      "Expected revenue in 2017 is:96.9454545454546\n"
     ]
    }
   ],
   "source": [
    "print(\"Expected revenue in 2017 is:\" + str(w0+w1*2017))"
   ]
  },
  {
   "cell_type": "code",
   "execution_count": 27,
   "metadata": {},
   "outputs": [
    {
     "name": "stdout",
     "output_type": "stream",
     "text": [
      "Expected error: 28.32727272727206\n"
     ]
    }
   ],
   "source": [
    "error = 0\n",
    "for i in range(m):\n",
    "    error+=(abs(w0+w1*x[i]-y[i]))\n",
    "print(\"Expected error: \"+str(error))"
   ]
  }
 ],
 "metadata": {
  "kernelspec": {
   "display_name": "Python 3",
   "language": "python",
   "name": "python3"
  },
  "language_info": {
   "codemirror_mode": {
    "name": "ipython",
    "version": 3
   },
   "file_extension": ".py",
   "mimetype": "text/x-python",
   "name": "python",
   "nbconvert_exporter": "python",
   "pygments_lexer": "ipython3",
   "version": "3.6.7"
  }
 },
 "nbformat": 4,
 "nbformat_minor": 2
}

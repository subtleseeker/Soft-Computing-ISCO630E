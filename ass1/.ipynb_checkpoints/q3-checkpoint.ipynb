{
 "cells": [
  {
   "cell_type": "code",
   "execution_count": 1,
   "metadata": {},
   "outputs": [],
   "source": [
    "import numpy as np\n",
    "import matplotlib.pyplot as plt"
   ]
  },
  {
   "cell_type": "code",
   "execution_count": 2,
   "metadata": {},
   "outputs": [],
   "source": [
    "v = np.array([54.3, 61.8, 72.4, 88.7, 118.6, 194])\n",
    "p = np.array([61.2, 49.5, 37.6, 28.4, 19.2, 10.1])"
   ]
  },
  {
   "cell_type": "code",
   "execution_count": 3,
   "metadata": {},
   "outputs": [],
   "source": [
    "logv = np.log10(v)\n",
    "logp = np.log10(p)"
   ]
  },
  {
   "cell_type": "markdown",
   "metadata": {},
   "source": [
    "$pv^\\gamma = c $   \n",
    "Taking logarithm on both sides   \n",
    "$log(p)+\\gamma log(v) = log(c)$    \n",
    "This equation can be compared with:      \n",
    "$y = w_{0}+w_{1}x$   \n",
    "$log(p) = log(c) - \\gamma log(v) $    \n",
    "Thus,  \n",
    "+ $y = log(p)$\n",
    "+ $w_{0} = log(c)$    \n",
    "+ $w_{1} = -\\gamma$\n",
    "+ $x = log(v)$"
   ]
  },
  {
   "cell_type": "code",
   "execution_count": 7,
   "metadata": {},
   "outputs": [],
   "source": [
    "y = logp\n",
    "x = logv"
   ]
  },
  {
   "cell_type": "code",
   "execution_count": 10,
   "metadata": {},
   "outputs": [],
   "source": [
    "def slope_bias(x,y):\n",
    "    A = np.sum(x)\n",
    "    B = np.sum(y)\n",
    "    C = np.sum(np.square(x))\n",
    "    D = np.sum(x*y)\n",
    "    m = len(x)\n",
    "    w1 = (m*D-A*B)/(m*C-A**2)\n",
    "    w0 = (C*B-A*D)/(m*C-A**2)\n",
    "    return (w0,w1)\n",
    "\n",
    "def predictor(x,y):\n",
    "    (w0,w1) = slope_bias(x,y)\n",
    "    h = w0+w1*x\n",
    "    return h"
   ]
  },
  {
   "cell_type": "code",
   "execution_count": 21,
   "metadata": {},
   "outputs": [
    {
     "data": {
      "image/png": "[encoded data removed]",
      "text/plain": [
       "<Figure size 432x288 with 1 Axes>"
      ]
     },
     "metadata": {
      "needs_background": "light"
     },
     "output_type": "display_data"
    }
   ],
   "source": [
    "h = predictor(x,y)\n",
    "plt.plot(x,y,'rx',x,h)\n",
    "plt.xlabel('log(v)')\n",
    "plt.ylabel('log(p)')\n",
    "plt.show()"
   ]
  },
  {
   "cell_type": "code",
   "execution_count": 19,
   "metadata": {},
   "outputs": [
    {
     "name": "stdout",
     "output_type": "stream",
     "text": [
      "The value of γ = 1.40\n",
      "The value of c = 15971.81\n"
     ]
    }
   ],
   "source": [
    "(w0,w1) = slope_bias(x,y)\n",
    "print(\"The value of γ = \" + str(\"%.2f\" % -w1))\n",
    "print(\"The value of c = \" + str(\"%.2f\" % 10**w0))"
   ]
  },
  {
   "cell_type": "markdown",
   "metadata": {},
   "source": [
    "Relation between p and v can be written as:   \n",
    "$pv^{1.4}=15971.81$"
   ]
  },
  {
   "cell_type": "code",
   "execution_count": 24,
   "metadata": {},
   "outputs": [
    {
     "name": "stdout",
     "output_type": "stream",
     "text": [
      "The value of p when v = 100 is: 25.313608324810748\n"
     ]
    }
   ],
   "source": [
    "p_val = (10**w0)/(100**1.4)\n",
    "print(\"The value of p when v = 100 is: \" + str(p_val))"
   ]
  }
 ],
 "metadata": {
  "kernelspec": {
   "display_name": "Python 3",
   "language": "python",
   "name": "python3"
  },
  "language_info": {
   "codemirror_mode": {
    "name": "ipython",
    "version": 3
   },
   "file_extension": ".py",
   "mimetype": "text/x-python",
   "name": "python",
   "nbconvert_exporter": "python",
   "pygments_lexer": "ipython3",
   "version": "3.6.7"
  }
 },
 "nbformat": 4,
 "nbformat_minor": 2
}

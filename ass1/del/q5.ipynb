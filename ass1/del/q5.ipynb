{
 "cells": [
  {
   "cell_type": "code",
   "execution_count": 1,
   "metadata": {},
   "outputs": [],
   "source": [
    "import pandas as pd\n",
    "import numpy as np\n",
    "import matplotlib.pyplot as plt\n",
    "import seaborn as sns\n",
    "import timeit"
   ]
  },
  {
   "cell_type": "code",
   "execution_count": 2,
   "metadata": {},
   "outputs": [
    {
     "data": {
      "text/html": [
       "<div>\n",
       "<style scoped>\n",
       "    .dataframe tbody tr th:only-of-type {\n",
       "        vertical-align: middle;\n",
       "    }\n",
       "\n",
       "    .dataframe tbody tr th {\n",
       "        vertical-align: top;\n",
       "    }\n",
       "\n",
       "    .dataframe thead th {\n",
       "        text-align: right;\n",
       "    }\n",
       "</style>\n",
       "<table border=\"1\" class=\"dataframe\">\n",
       "  <thead>\n",
       "    <tr style=\"text-align: right;\">\n",
       "      <th></th>\n",
       "      <th>price</th>\n",
       "      <th>lotsize</th>\n",
       "      <th>bedrooms</th>\n",
       "      <th>bathrms</th>\n",
       "      <th>stories</th>\n",
       "      <th>driveway</th>\n",
       "      <th>recroom</th>\n",
       "      <th>fullbase</th>\n",
       "      <th>gashw</th>\n",
       "      <th>airco</th>\n",
       "      <th>garagepl</th>\n",
       "      <th>prefarea</th>\n",
       "    </tr>\n",
       "  </thead>\n",
       "  <tbody>\n",
       "    <tr>\n",
       "      <th>1</th>\n",
       "      <td>42000.0</td>\n",
       "      <td>5850</td>\n",
       "      <td>3</td>\n",
       "      <td>1</td>\n",
       "      <td>2</td>\n",
       "      <td>yes</td>\n",
       "      <td>no</td>\n",
       "      <td>yes</td>\n",
       "      <td>no</td>\n",
       "      <td>no</td>\n",
       "      <td>1</td>\n",
       "      <td>no</td>\n",
       "    </tr>\n",
       "    <tr>\n",
       "      <th>2</th>\n",
       "      <td>38500.0</td>\n",
       "      <td>4000</td>\n",
       "      <td>2</td>\n",
       "      <td>1</td>\n",
       "      <td>1</td>\n",
       "      <td>yes</td>\n",
       "      <td>no</td>\n",
       "      <td>no</td>\n",
       "      <td>no</td>\n",
       "      <td>no</td>\n",
       "      <td>0</td>\n",
       "      <td>no</td>\n",
       "    </tr>\n",
       "    <tr>\n",
       "      <th>3</th>\n",
       "      <td>49500.0</td>\n",
       "      <td>3060</td>\n",
       "      <td>3</td>\n",
       "      <td>1</td>\n",
       "      <td>1</td>\n",
       "      <td>yes</td>\n",
       "      <td>no</td>\n",
       "      <td>no</td>\n",
       "      <td>no</td>\n",
       "      <td>no</td>\n",
       "      <td>0</td>\n",
       "      <td>no</td>\n",
       "    </tr>\n",
       "    <tr>\n",
       "      <th>4</th>\n",
       "      <td>60500.0</td>\n",
       "      <td>6650</td>\n",
       "      <td>3</td>\n",
       "      <td>1</td>\n",
       "      <td>2</td>\n",
       "      <td>yes</td>\n",
       "      <td>yes</td>\n",
       "      <td>no</td>\n",
       "      <td>no</td>\n",
       "      <td>no</td>\n",
       "      <td>0</td>\n",
       "      <td>no</td>\n",
       "    </tr>\n",
       "    <tr>\n",
       "      <th>5</th>\n",
       "      <td>61000.0</td>\n",
       "      <td>6360</td>\n",
       "      <td>2</td>\n",
       "      <td>1</td>\n",
       "      <td>1</td>\n",
       "      <td>yes</td>\n",
       "      <td>no</td>\n",
       "      <td>no</td>\n",
       "      <td>no</td>\n",
       "      <td>no</td>\n",
       "      <td>0</td>\n",
       "      <td>no</td>\n",
       "    </tr>\n",
       "  </tbody>\n",
       "</table>\n",
       "</div>"
      ],
      "text/plain": [
       "     price  lotsize  bedrooms  bathrms  stories driveway recroom fullbase  \\\n",
       "1  42000.0     5850         3        1        2      yes      no      yes   \n",
       "2  38500.0     4000         2        1        1      yes      no       no   \n",
       "3  49500.0     3060         3        1        1      yes      no       no   \n",
       "4  60500.0     6650         3        1        2      yes     yes       no   \n",
       "5  61000.0     6360         2        1        1      yes      no       no   \n",
       "\n",
       "  gashw airco  garagepl prefarea  \n",
       "1    no    no         1       no  \n",
       "2    no    no         0       no  \n",
       "3    no    no         0       no  \n",
       "4    no    no         0       no  \n",
       "5    no    no         0       no  "
      ]
     },
     "execution_count": 2,
     "metadata": {},
     "output_type": "execute_result"
    }
   ],
   "source": [
    "df = pd.read_csv('Housing.csv', index_col='Unnamed: 0')\n",
    "df.head()"
   ]
  },
  {
   "cell_type": "code",
   "execution_count": 3,
   "metadata": {},
   "outputs": [
    {
     "data": {
      "text/plain": [
       "(546, 12)"
      ]
     },
     "execution_count": 3,
     "metadata": {},
     "output_type": "execute_result"
    }
   ],
   "source": [
    "df.shape"
   ]
  },
  {
   "cell_type": "code",
   "execution_count": 4,
   "metadata": {},
   "outputs": [
    {
     "data": {
      "text/html": [
       "<div>\n",
       "<style scoped>\n",
       "    .dataframe tbody tr th:only-of-type {\n",
       "        vertical-align: middle;\n",
       "    }\n",
       "\n",
       "    .dataframe tbody tr th {\n",
       "        vertical-align: top;\n",
       "    }\n",
       "\n",
       "    .dataframe thead th {\n",
       "        text-align: right;\n",
       "    }\n",
       "</style>\n",
       "<table border=\"1\" class=\"dataframe\">\n",
       "  <thead>\n",
       "    <tr style=\"text-align: right;\">\n",
       "      <th></th>\n",
       "      <th>price</th>\n",
       "      <th>lotsize</th>\n",
       "      <th>bedrooms</th>\n",
       "      <th>bathrms</th>\n",
       "      <th>stories</th>\n",
       "      <th>driveway</th>\n",
       "      <th>recroom</th>\n",
       "      <th>fullbase</th>\n",
       "      <th>gashw</th>\n",
       "      <th>airco</th>\n",
       "      <th>garagepl</th>\n",
       "      <th>prefarea</th>\n",
       "    </tr>\n",
       "  </thead>\n",
       "  <tbody>\n",
       "    <tr>\n",
       "      <th>count</th>\n",
       "      <td>546.000000</td>\n",
       "      <td>546.000000</td>\n",
       "      <td>546.000000</td>\n",
       "      <td>546.000000</td>\n",
       "      <td>546.000000</td>\n",
       "      <td>546</td>\n",
       "      <td>546</td>\n",
       "      <td>546</td>\n",
       "      <td>546</td>\n",
       "      <td>546</td>\n",
       "      <td>546.000000</td>\n",
       "      <td>546</td>\n",
       "    </tr>\n",
       "    <tr>\n",
       "      <th>unique</th>\n",
       "      <td>NaN</td>\n",
       "      <td>NaN</td>\n",
       "      <td>NaN</td>\n",
       "      <td>NaN</td>\n",
       "      <td>NaN</td>\n",
       "      <td>2</td>\n",
       "      <td>2</td>\n",
       "      <td>2</td>\n",
       "      <td>2</td>\n",
       "      <td>2</td>\n",
       "      <td>NaN</td>\n",
       "      <td>2</td>\n",
       "    </tr>\n",
       "    <tr>\n",
       "      <th>top</th>\n",
       "      <td>NaN</td>\n",
       "      <td>NaN</td>\n",
       "      <td>NaN</td>\n",
       "      <td>NaN</td>\n",
       "      <td>NaN</td>\n",
       "      <td>yes</td>\n",
       "      <td>no</td>\n",
       "      <td>no</td>\n",
       "      <td>no</td>\n",
       "      <td>no</td>\n",
       "      <td>NaN</td>\n",
       "      <td>no</td>\n",
       "    </tr>\n",
       "    <tr>\n",
       "      <th>freq</th>\n",
       "      <td>NaN</td>\n",
       "      <td>NaN</td>\n",
       "      <td>NaN</td>\n",
       "      <td>NaN</td>\n",
       "      <td>NaN</td>\n",
       "      <td>469</td>\n",
       "      <td>449</td>\n",
       "      <td>355</td>\n",
       "      <td>521</td>\n",
       "      <td>373</td>\n",
       "      <td>NaN</td>\n",
       "      <td>418</td>\n",
       "    </tr>\n",
       "    <tr>\n",
       "      <th>mean</th>\n",
       "      <td>68121.597070</td>\n",
       "      <td>5150.265568</td>\n",
       "      <td>2.965201</td>\n",
       "      <td>1.285714</td>\n",
       "      <td>1.807692</td>\n",
       "      <td>NaN</td>\n",
       "      <td>NaN</td>\n",
       "      <td>NaN</td>\n",
       "      <td>NaN</td>\n",
       "      <td>NaN</td>\n",
       "      <td>0.692308</td>\n",
       "      <td>NaN</td>\n",
       "    </tr>\n",
       "    <tr>\n",
       "      <th>std</th>\n",
       "      <td>26702.670926</td>\n",
       "      <td>2168.158725</td>\n",
       "      <td>0.737388</td>\n",
       "      <td>0.502158</td>\n",
       "      <td>0.868203</td>\n",
       "      <td>NaN</td>\n",
       "      <td>NaN</td>\n",
       "      <td>NaN</td>\n",
       "      <td>NaN</td>\n",
       "      <td>NaN</td>\n",
       "      <td>0.861307</td>\n",
       "      <td>NaN</td>\n",
       "    </tr>\n",
       "    <tr>\n",
       "      <th>min</th>\n",
       "      <td>25000.000000</td>\n",
       "      <td>1650.000000</td>\n",
       "      <td>1.000000</td>\n",
       "      <td>1.000000</td>\n",
       "      <td>1.000000</td>\n",
       "      <td>NaN</td>\n",
       "      <td>NaN</td>\n",
       "      <td>NaN</td>\n",
       "      <td>NaN</td>\n",
       "      <td>NaN</td>\n",
       "      <td>0.000000</td>\n",
       "      <td>NaN</td>\n",
       "    </tr>\n",
       "    <tr>\n",
       "      <th>25%</th>\n",
       "      <td>49125.000000</td>\n",
       "      <td>3600.000000</td>\n",
       "      <td>2.000000</td>\n",
       "      <td>1.000000</td>\n",
       "      <td>1.000000</td>\n",
       "      <td>NaN</td>\n",
       "      <td>NaN</td>\n",
       "      <td>NaN</td>\n",
       "      <td>NaN</td>\n",
       "      <td>NaN</td>\n",
       "      <td>0.000000</td>\n",
       "      <td>NaN</td>\n",
       "    </tr>\n",
       "    <tr>\n",
       "      <th>50%</th>\n",
       "      <td>62000.000000</td>\n",
       "      <td>4600.000000</td>\n",
       "      <td>3.000000</td>\n",
       "      <td>1.000000</td>\n",
       "      <td>2.000000</td>\n",
       "      <td>NaN</td>\n",
       "      <td>NaN</td>\n",
       "      <td>NaN</td>\n",
       "      <td>NaN</td>\n",
       "      <td>NaN</td>\n",
       "      <td>0.000000</td>\n",
       "      <td>NaN</td>\n",
       "    </tr>\n",
       "    <tr>\n",
       "      <th>75%</th>\n",
       "      <td>82000.000000</td>\n",
       "      <td>6360.000000</td>\n",
       "      <td>3.000000</td>\n",
       "      <td>2.000000</td>\n",
       "      <td>2.000000</td>\n",
       "      <td>NaN</td>\n",
       "      <td>NaN</td>\n",
       "      <td>NaN</td>\n",
       "      <td>NaN</td>\n",
       "      <td>NaN</td>\n",
       "      <td>1.000000</td>\n",
       "      <td>NaN</td>\n",
       "    </tr>\n",
       "    <tr>\n",
       "      <th>max</th>\n",
       "      <td>190000.000000</td>\n",
       "      <td>16200.000000</td>\n",
       "      <td>6.000000</td>\n",
       "      <td>4.000000</td>\n",
       "      <td>4.000000</td>\n",
       "      <td>NaN</td>\n",
       "      <td>NaN</td>\n",
       "      <td>NaN</td>\n",
       "      <td>NaN</td>\n",
       "      <td>NaN</td>\n",
       "      <td>3.000000</td>\n",
       "      <td>NaN</td>\n",
       "    </tr>\n",
       "  </tbody>\n",
       "</table>\n",
       "</div>"
      ],
      "text/plain": [
       "                price       lotsize    bedrooms     bathrms     stories  \\\n",
       "count      546.000000    546.000000  546.000000  546.000000  546.000000   \n",
       "unique            NaN           NaN         NaN         NaN         NaN   \n",
       "top               NaN           NaN         NaN         NaN         NaN   \n",
       "freq              NaN           NaN         NaN         NaN         NaN   \n",
       "mean     68121.597070   5150.265568    2.965201    1.285714    1.807692   \n",
       "std      26702.670926   2168.158725    0.737388    0.502158    0.868203   \n",
       "min      25000.000000   1650.000000    1.000000    1.000000    1.000000   \n",
       "25%      49125.000000   3600.000000    2.000000    1.000000    1.000000   \n",
       "50%      62000.000000   4600.000000    3.000000    1.000000    2.000000   \n",
       "75%      82000.000000   6360.000000    3.000000    2.000000    2.000000   \n",
       "max     190000.000000  16200.000000    6.000000    4.000000    4.000000   \n",
       "\n",
       "       driveway recroom fullbase gashw airco    garagepl prefarea  \n",
       "count       546     546      546   546   546  546.000000      546  \n",
       "unique        2       2        2     2     2         NaN        2  \n",
       "top         yes      no       no    no    no         NaN       no  \n",
       "freq        469     449      355   521   373         NaN      418  \n",
       "mean        NaN     NaN      NaN   NaN   NaN    0.692308      NaN  \n",
       "std         NaN     NaN      NaN   NaN   NaN    0.861307      NaN  \n",
       "min         NaN     NaN      NaN   NaN   NaN    0.000000      NaN  \n",
       "25%         NaN     NaN      NaN   NaN   NaN    0.000000      NaN  \n",
       "50%         NaN     NaN      NaN   NaN   NaN    0.000000      NaN  \n",
       "75%         NaN     NaN      NaN   NaN   NaN    1.000000      NaN  \n",
       "max         NaN     NaN      NaN   NaN   NaN    3.000000      NaN  "
      ]
     },
     "execution_count": 4,
     "metadata": {},
     "output_type": "execute_result"
    }
   ],
   "source": [
    "df.describe(include='all')"
   ]
  },
  {
   "cell_type": "code",
   "execution_count": 5,
   "metadata": {},
   "outputs": [
    {
     "name": "stdout",
     "output_type": "stream",
     "text": [
      "<class 'pandas.core.frame.DataFrame'>\n",
      "Int64Index: 546 entries, 1 to 546\n",
      "Data columns (total 12 columns):\n",
      "price       546 non-null float64\n",
      "lotsize     546 non-null int64\n",
      "bedrooms    546 non-null int64\n",
      "bathrms     546 non-null int64\n",
      "stories     546 non-null int64\n",
      "driveway    546 non-null object\n",
      "recroom     546 non-null object\n",
      "fullbase    546 non-null object\n",
      "gashw       546 non-null object\n",
      "airco       546 non-null object\n",
      "garagepl    546 non-null int64\n",
      "prefarea    546 non-null object\n",
      "dtypes: float64(1), int64(5), object(6)\n",
      "memory usage: 55.5+ KB\n"
     ]
    }
   ],
   "source": [
    "df.info()"
   ]
  },
  {
   "cell_type": "code",
   "execution_count": 6,
   "metadata": {},
   "outputs": [
    {
     "data": {
      "text/html": [
       "<div>\n",
       "<style scoped>\n",
       "    .dataframe tbody tr th:only-of-type {\n",
       "        vertical-align: middle;\n",
       "    }\n",
       "\n",
       "    .dataframe tbody tr th {\n",
       "        vertical-align: top;\n",
       "    }\n",
       "\n",
       "    .dataframe thead th {\n",
       "        text-align: right;\n",
       "    }\n",
       "</style>\n",
       "<table border=\"1\" class=\"dataframe\">\n",
       "  <thead>\n",
       "    <tr style=\"text-align: right;\">\n",
       "      <th></th>\n",
       "      <th>price</th>\n",
       "      <th>lotsize</th>\n",
       "      <th>bedrooms</th>\n",
       "      <th>bathrms</th>\n",
       "      <th>stories</th>\n",
       "      <th>garagepl</th>\n",
       "    </tr>\n",
       "  </thead>\n",
       "  <tbody>\n",
       "    <tr>\n",
       "      <th>price</th>\n",
       "      <td>1.000000</td>\n",
       "      <td>0.535796</td>\n",
       "      <td>0.366447</td>\n",
       "      <td>0.516719</td>\n",
       "      <td>0.421190</td>\n",
       "      <td>0.383302</td>\n",
       "    </tr>\n",
       "    <tr>\n",
       "      <th>lotsize</th>\n",
       "      <td>0.535796</td>\n",
       "      <td>1.000000</td>\n",
       "      <td>0.151851</td>\n",
       "      <td>0.193833</td>\n",
       "      <td>0.083675</td>\n",
       "      <td>0.352872</td>\n",
       "    </tr>\n",
       "    <tr>\n",
       "      <th>bedrooms</th>\n",
       "      <td>0.366447</td>\n",
       "      <td>0.151851</td>\n",
       "      <td>1.000000</td>\n",
       "      <td>0.373769</td>\n",
       "      <td>0.407974</td>\n",
       "      <td>0.139117</td>\n",
       "    </tr>\n",
       "    <tr>\n",
       "      <th>bathrms</th>\n",
       "      <td>0.516719</td>\n",
       "      <td>0.193833</td>\n",
       "      <td>0.373769</td>\n",
       "      <td>1.000000</td>\n",
       "      <td>0.324066</td>\n",
       "      <td>0.178178</td>\n",
       "    </tr>\n",
       "    <tr>\n",
       "      <th>stories</th>\n",
       "      <td>0.421190</td>\n",
       "      <td>0.083675</td>\n",
       "      <td>0.407974</td>\n",
       "      <td>0.324066</td>\n",
       "      <td>1.000000</td>\n",
       "      <td>0.043412</td>\n",
       "    </tr>\n",
       "    <tr>\n",
       "      <th>garagepl</th>\n",
       "      <td>0.383302</td>\n",
       "      <td>0.352872</td>\n",
       "      <td>0.139117</td>\n",
       "      <td>0.178178</td>\n",
       "      <td>0.043412</td>\n",
       "      <td>1.000000</td>\n",
       "    </tr>\n",
       "  </tbody>\n",
       "</table>\n",
       "</div>"
      ],
      "text/plain": [
       "             price   lotsize  bedrooms   bathrms   stories  garagepl\n",
       "price     1.000000  0.535796  0.366447  0.516719  0.421190  0.383302\n",
       "lotsize   0.535796  1.000000  0.151851  0.193833  0.083675  0.352872\n",
       "bedrooms  0.366447  0.151851  1.000000  0.373769  0.407974  0.139117\n",
       "bathrms   0.516719  0.193833  0.373769  1.000000  0.324066  0.178178\n",
       "stories   0.421190  0.083675  0.407974  0.324066  1.000000  0.043412\n",
       "garagepl  0.383302  0.352872  0.139117  0.178178  0.043412  1.000000"
      ]
     },
     "execution_count": 6,
     "metadata": {},
     "output_type": "execute_result"
    }
   ],
   "source": [
    "df.corr()"
   ]
  },
  {
   "cell_type": "code",
   "execution_count": 7,
   "metadata": {},
   "outputs": [],
   "source": [
    "df.driveway = df.driveway.eq('yes').mul(1)\n",
    "df.recroom = df.recroom.eq('yes').mul(1)\n",
    "df.fullbase = df.fullbase.eq('yes').mul(1)\n",
    "df.gashw = df.gashw.eq('yes').mul(1)\n",
    "df.airco = df.airco.eq('yes').mul(1)\n",
    "df.prefarea = df.prefarea.eq('yes').mul(1)"
   ]
  },
  {
   "cell_type": "code",
   "execution_count": 8,
   "metadata": {},
   "outputs": [
    {
     "data": {
      "text/html": [
       "<div>\n",
       "<style scoped>\n",
       "    .dataframe tbody tr th:only-of-type {\n",
       "        vertical-align: middle;\n",
       "    }\n",
       "\n",
       "    .dataframe tbody tr th {\n",
       "        vertical-align: top;\n",
       "    }\n",
       "\n",
       "    .dataframe thead th {\n",
       "        text-align: right;\n",
       "    }\n",
       "</style>\n",
       "<table border=\"1\" class=\"dataframe\">\n",
       "  <thead>\n",
       "    <tr style=\"text-align: right;\">\n",
       "      <th></th>\n",
       "      <th>price</th>\n",
       "      <th>lotsize</th>\n",
       "      <th>bedrooms</th>\n",
       "      <th>bathrms</th>\n",
       "      <th>stories</th>\n",
       "      <th>driveway</th>\n",
       "      <th>recroom</th>\n",
       "      <th>fullbase</th>\n",
       "      <th>gashw</th>\n",
       "      <th>airco</th>\n",
       "      <th>garagepl</th>\n",
       "      <th>prefarea</th>\n",
       "    </tr>\n",
       "  </thead>\n",
       "  <tbody>\n",
       "    <tr>\n",
       "      <th>1</th>\n",
       "      <td>42000.0</td>\n",
       "      <td>5850</td>\n",
       "      <td>3</td>\n",
       "      <td>1</td>\n",
       "      <td>2</td>\n",
       "      <td>1</td>\n",
       "      <td>0</td>\n",
       "      <td>1</td>\n",
       "      <td>0</td>\n",
       "      <td>0</td>\n",
       "      <td>1</td>\n",
       "      <td>0</td>\n",
       "    </tr>\n",
       "    <tr>\n",
       "      <th>2</th>\n",
       "      <td>38500.0</td>\n",
       "      <td>4000</td>\n",
       "      <td>2</td>\n",
       "      <td>1</td>\n",
       "      <td>1</td>\n",
       "      <td>1</td>\n",
       "      <td>0</td>\n",
       "      <td>0</td>\n",
       "      <td>0</td>\n",
       "      <td>0</td>\n",
       "      <td>0</td>\n",
       "      <td>0</td>\n",
       "    </tr>\n",
       "    <tr>\n",
       "      <th>3</th>\n",
       "      <td>49500.0</td>\n",
       "      <td>3060</td>\n",
       "      <td>3</td>\n",
       "      <td>1</td>\n",
       "      <td>1</td>\n",
       "      <td>1</td>\n",
       "      <td>0</td>\n",
       "      <td>0</td>\n",
       "      <td>0</td>\n",
       "      <td>0</td>\n",
       "      <td>0</td>\n",
       "      <td>0</td>\n",
       "    </tr>\n",
       "    <tr>\n",
       "      <th>4</th>\n",
       "      <td>60500.0</td>\n",
       "      <td>6650</td>\n",
       "      <td>3</td>\n",
       "      <td>1</td>\n",
       "      <td>2</td>\n",
       "      <td>1</td>\n",
       "      <td>1</td>\n",
       "      <td>0</td>\n",
       "      <td>0</td>\n",
       "      <td>0</td>\n",
       "      <td>0</td>\n",
       "      <td>0</td>\n",
       "    </tr>\n",
       "    <tr>\n",
       "      <th>5</th>\n",
       "      <td>61000.0</td>\n",
       "      <td>6360</td>\n",
       "      <td>2</td>\n",
       "      <td>1</td>\n",
       "      <td>1</td>\n",
       "      <td>1</td>\n",
       "      <td>0</td>\n",
       "      <td>0</td>\n",
       "      <td>0</td>\n",
       "      <td>0</td>\n",
       "      <td>0</td>\n",
       "      <td>0</td>\n",
       "    </tr>\n",
       "  </tbody>\n",
       "</table>\n",
       "</div>"
      ],
      "text/plain": [
       "     price  lotsize  bedrooms  bathrms  stories  driveway  recroom  fullbase  \\\n",
       "1  42000.0     5850         3        1        2         1        0         1   \n",
       "2  38500.0     4000         2        1        1         1        0         0   \n",
       "3  49500.0     3060         3        1        1         1        0         0   \n",
       "4  60500.0     6650         3        1        2         1        1         0   \n",
       "5  61000.0     6360         2        1        1         1        0         0   \n",
       "\n",
       "   gashw  airco  garagepl  prefarea  \n",
       "1      0      0         1         0  \n",
       "2      0      0         0         0  \n",
       "3      0      0         0         0  \n",
       "4      0      0         0         0  \n",
       "5      0      0         0         0  "
      ]
     },
     "execution_count": 8,
     "metadata": {},
     "output_type": "execute_result"
    }
   ],
   "source": [
    "df.head()"
   ]
  },
  {
   "cell_type": "code",
   "execution_count": 9,
   "metadata": {},
   "outputs": [],
   "source": [
    "# y = df['price']\n",
    "# x = df.drop(['price'], axis=1)\n",
    "x = df[['lotsize']] #,'bedrooms','bathrms'\n",
    "y = df['price']"
   ]
  },
  {
   "cell_type": "code",
   "execution_count": 10,
   "metadata": {},
   "outputs": [
    {
     "name": "stdout",
     "output_type": "stream",
     "text": [
      "(546, 1) (546,)\n",
      "(1, 546)\n"
     ]
    }
   ],
   "source": [
    "print(x.shape, y.shape)\n",
    "print(x.T.shape)"
   ]
  },
  {
   "cell_type": "code",
   "execution_count": 11,
   "metadata": {},
   "outputs": [],
   "source": [
    "w = np.dot(np.linalg.inv(np.dot(x.T,x)),np.dot(x.T,y))"
   ]
  },
  {
   "cell_type": "code",
   "execution_count": 12,
   "metadata": {},
   "outputs": [
    {
     "data": {
      "text/plain": [
       "(546,)"
      ]
     },
     "execution_count": 12,
     "metadata": {},
     "output_type": "execute_result"
    }
   ],
   "source": [
    "h = np.dot(x,w)\n",
    "h.shape"
   ]
  },
  {
   "cell_type": "code",
   "execution_count": 13,
   "metadata": {},
   "outputs": [
    {
     "data": {
      "image/png": "[encoded data removed]",
      "text/plain": [
       "<Figure size 432x288 with 1 Axes>"
      ]
     },
     "metadata": {
      "needs_background": "light"
     },
     "output_type": "display_data"
    }
   ],
   "source": [
    "plt.plot(x,h,x,y,'x')\n",
    "plt.show()"
   ]
  },
  {
   "cell_type": "code",
   "execution_count": 14,
   "metadata": {},
   "outputs": [],
   "source": [
    "# import matplotlib.pyplot as plt\n",
    "# from mpl_toolkits.mplot3d import Axes3D\n",
    "# fig = plt.figure()\n"
   ]
  },
  {
   "cell_type": "code",
   "execution_count": 15,
   "metadata": {},
   "outputs": [],
   "source": [
    "# x1 = np.array(x)\n",
    "# x2 = x1[:,1]\n",
    "# x1 = x1[:,0]\n",
    "# print(x1.shape, x2.shape)\n",
    "\n",
    "# plt.plot(x1,h,'og',x1,y,'x')\n",
    "# plt.show()\n",
    "# plt.plot(x2,h,'og',x2,y,'x')\n",
    "# plt.show()\n",
    "# # ax = plt.axes(projection='3d')\n",
    "# # ax.plot3D(x1,x2,h,'x')\n",
    "# # plt.show()"
   ]
  },
  {
   "cell_type": "code",
   "execution_count": 16,
   "metadata": {},
   "outputs": [
    {
     "name": "stdout",
     "output_type": "stream",
     "text": [
      "(546,) (546,)\n"
     ]
    }
   ],
   "source": [
    "print(h.shape, y.shape)"
   ]
  },
  {
   "cell_type": "code",
   "execution_count": 17,
   "metadata": {},
   "outputs": [
    {
     "name": "stdout",
     "output_type": "stream",
     "text": [
      "682559306.0737922\n",
      "0.2836899349357931\n"
     ]
    }
   ],
   "source": [
    "error = np.sum((h-y)**2)/(h.size)\n",
    "print(error)\n",
    "acc = np.sum((np.abs(np.divide((h-y),y))))/h.size\n",
    "print(acc)"
   ]
  },
  {
   "cell_type": "code",
   "execution_count": 18,
   "metadata": {},
   "outputs": [],
   "source": [
    "from sklearn.linear_model import LinearRegression"
   ]
  },
  {
   "cell_type": "code",
   "execution_count": 19,
   "metadata": {},
   "outputs": [
    {
     "data": {
      "text/plain": [
       "LinearRegression(copy_X=True, fit_intercept=True, n_jobs=None, normalize=True)"
      ]
     },
     "execution_count": 19,
     "metadata": {},
     "output_type": "execute_result"
    }
   ],
   "source": [
    "clf = LinearRegression(normalize=True)\n",
    "clf.fit(x,y)\n"
   ]
  },
  {
   "cell_type": "code",
   "execution_count": 20,
   "metadata": {},
   "outputs": [
    {
     "data": {
      "text/plain": [
       "0.28707700259705604"
      ]
     },
     "execution_count": 20,
     "metadata": {},
     "output_type": "execute_result"
    }
   ],
   "source": [
    "clf.score(x,y)"
   ]
  },
  {
   "cell_type": "code",
   "execution_count": 21,
   "metadata": {},
   "outputs": [],
   "source": [
    "h_skl = clf.predict(x)"
   ]
  },
  {
   "cell_type": "code",
   "execution_count": 22,
   "metadata": {},
   "outputs": [
    {
     "data": {
      "text/plain": [
       "3.971436529250932e-20"
      ]
     },
     "execution_count": 22,
     "metadata": {},
     "output_type": "execute_result"
    }
   ],
   "source": [
    "(np.sum(h_skl-y)**2)/h_skl.size"
   ]
  },
  {
   "cell_type": "markdown",
   "metadata": {},
   "source": [
    "## Gradient Descent"
   ]
  },
  {
   "cell_type": "code",
   "execution_count": 23,
   "metadata": {},
   "outputs": [
    {
     "data": {
      "text/html": [
       "<div>\n",
       "<style scoped>\n",
       "    .dataframe tbody tr th:only-of-type {\n",
       "        vertical-align: middle;\n",
       "    }\n",
       "\n",
       "    .dataframe tbody tr th {\n",
       "        vertical-align: top;\n",
       "    }\n",
       "\n",
       "    .dataframe thead th {\n",
       "        text-align: right;\n",
       "    }\n",
       "</style>\n",
       "<table border=\"1\" class=\"dataframe\">\n",
       "  <thead>\n",
       "    <tr style=\"text-align: right;\">\n",
       "      <th></th>\n",
       "      <th>price</th>\n",
       "      <th>lotsize</th>\n",
       "      <th>bedrooms</th>\n",
       "      <th>bathrms</th>\n",
       "      <th>stories</th>\n",
       "      <th>driveway</th>\n",
       "      <th>recroom</th>\n",
       "      <th>fullbase</th>\n",
       "      <th>gashw</th>\n",
       "      <th>airco</th>\n",
       "      <th>garagepl</th>\n",
       "      <th>prefarea</th>\n",
       "    </tr>\n",
       "  </thead>\n",
       "  <tbody>\n",
       "    <tr>\n",
       "      <th>1</th>\n",
       "      <td>42000.0</td>\n",
       "      <td>5850</td>\n",
       "      <td>3</td>\n",
       "      <td>1</td>\n",
       "      <td>2</td>\n",
       "      <td>1</td>\n",
       "      <td>0</td>\n",
       "      <td>1</td>\n",
       "      <td>0</td>\n",
       "      <td>0</td>\n",
       "      <td>1</td>\n",
       "      <td>0</td>\n",
       "    </tr>\n",
       "    <tr>\n",
       "      <th>2</th>\n",
       "      <td>38500.0</td>\n",
       "      <td>4000</td>\n",
       "      <td>2</td>\n",
       "      <td>1</td>\n",
       "      <td>1</td>\n",
       "      <td>1</td>\n",
       "      <td>0</td>\n",
       "      <td>0</td>\n",
       "      <td>0</td>\n",
       "      <td>0</td>\n",
       "      <td>0</td>\n",
       "      <td>0</td>\n",
       "    </tr>\n",
       "    <tr>\n",
       "      <th>3</th>\n",
       "      <td>49500.0</td>\n",
       "      <td>3060</td>\n",
       "      <td>3</td>\n",
       "      <td>1</td>\n",
       "      <td>1</td>\n",
       "      <td>1</td>\n",
       "      <td>0</td>\n",
       "      <td>0</td>\n",
       "      <td>0</td>\n",
       "      <td>0</td>\n",
       "      <td>0</td>\n",
       "      <td>0</td>\n",
       "    </tr>\n",
       "    <tr>\n",
       "      <th>4</th>\n",
       "      <td>60500.0</td>\n",
       "      <td>6650</td>\n",
       "      <td>3</td>\n",
       "      <td>1</td>\n",
       "      <td>2</td>\n",
       "      <td>1</td>\n",
       "      <td>1</td>\n",
       "      <td>0</td>\n",
       "      <td>0</td>\n",
       "      <td>0</td>\n",
       "      <td>0</td>\n",
       "      <td>0</td>\n",
       "    </tr>\n",
       "    <tr>\n",
       "      <th>5</th>\n",
       "      <td>61000.0</td>\n",
       "      <td>6360</td>\n",
       "      <td>2</td>\n",
       "      <td>1</td>\n",
       "      <td>1</td>\n",
       "      <td>1</td>\n",
       "      <td>0</td>\n",
       "      <td>0</td>\n",
       "      <td>0</td>\n",
       "      <td>0</td>\n",
       "      <td>0</td>\n",
       "      <td>0</td>\n",
       "    </tr>\n",
       "  </tbody>\n",
       "</table>\n",
       "</div>"
      ],
      "text/plain": [
       "     price  lotsize  bedrooms  bathrms  stories  driveway  recroom  fullbase  \\\n",
       "1  42000.0     5850         3        1        2         1        0         1   \n",
       "2  38500.0     4000         2        1        1         1        0         0   \n",
       "3  49500.0     3060         3        1        1         1        0         0   \n",
       "4  60500.0     6650         3        1        2         1        1         0   \n",
       "5  61000.0     6360         2        1        1         1        0         0   \n",
       "\n",
       "   gashw  airco  garagepl  prefarea  \n",
       "1      0      0         1         0  \n",
       "2      0      0         0         0  \n",
       "3      0      0         0         0  \n",
       "4      0      0         0         0  \n",
       "5      0      0         0         0  "
      ]
     },
     "execution_count": 23,
     "metadata": {},
     "output_type": "execute_result"
    }
   ],
   "source": [
    "df.head()"
   ]
  },
  {
   "cell_type": "code",
   "execution_count": 24,
   "metadata": {},
   "outputs": [],
   "source": [
    "# x['lotsize'] = (x['lotsize']-np.min(x['lotsize']))/(np.max(x['lotsize'])-np.min(x['lotsize']))\n",
    "x = (x-x.min())/(x.max()-x.min())"
   ]
  },
  {
   "cell_type": "code",
   "execution_count": 25,
   "metadata": {},
   "outputs": [],
   "source": [
    "y = (y-y.min())/(y.max()-y.min())"
   ]
  },
  {
   "cell_type": "code",
   "execution_count": 26,
   "metadata": {},
   "outputs": [
    {
     "name": "stdout",
     "output_type": "stream",
     "text": [
      "      lotsize\n",
      "1    0.288660\n",
      "2    0.161512\n",
      "3    0.096907\n",
      "4    0.343643\n",
      "5    0.323711\n",
      "6    0.172509\n",
      "7    0.153265\n",
      "8    0.172509\n",
      "9    0.216495\n",
      "10   0.264605\n",
      "11   0.381443\n",
      "12   0.092784\n",
      "13   0.003436\n",
      "14   0.084536\n",
      "15   0.134021\n",
      "16   0.105498\n",
      "17   0.113402\n",
      "18   0.243986\n",
      "19   0.123711\n",
      "20   0.160550\n",
      "21   0.215464\n",
      "22   0.196564\n",
      "23   0.161512\n",
      "24   0.156976\n",
      "25   0.227491\n",
      "26   0.092784\n",
      "27   0.147766\n",
      "28   0.227491\n",
      "29   0.092784\n",
      "30   0.195876\n",
      "..        ...\n",
      "517  0.298969\n",
      "518  0.298969\n",
      "519  0.315464\n",
      "520  0.298969\n",
      "521  0.414433\n",
      "522  0.298969\n",
      "523  0.298969\n",
      "524  0.298969\n",
      "525  0.298969\n",
      "526  0.400344\n",
      "527  0.240550\n",
      "528  0.321306\n",
      "529  0.298969\n",
      "530  0.298969\n",
      "531  0.298969\n",
      "532  0.367698\n",
      "533  0.773196\n",
      "534  0.414845\n",
      "535  0.230241\n",
      "536  0.285223\n",
      "537  0.298969\n",
      "538  0.216495\n",
      "539  0.333333\n",
      "540  0.389691\n",
      "541  0.335052\n",
      "542  0.216495\n",
      "543  0.298969\n",
      "544  0.298969\n",
      "545  0.298969\n",
      "546  0.298969\n",
      "\n",
      "[546 rows x 1 columns]\n"
     ]
    }
   ],
   "source": [
    "# p = list(x)\n",
    "# p.count(1)\n",
    "print(x)\n"
   ]
  },
  {
   "cell_type": "code",
   "execution_count": 27,
   "metadata": {},
   "outputs": [
    {
     "name": "stdout",
     "output_type": "stream",
     "text": [
      "1      0.103030\n",
      "2      0.081818\n",
      "3      0.148485\n",
      "4      0.215152\n",
      "5      0.218182\n",
      "6      0.248485\n",
      "7      0.248485\n",
      "8      0.266667\n",
      "9      0.356364\n",
      "10     0.384848\n",
      "11     0.393939\n",
      "12     0.033333\n",
      "13     0.012121\n",
      "14     0.066667\n",
      "15     0.072727\n",
      "16     0.078182\n",
      "17     0.093939\n",
      "18     0.095455\n",
      "19     0.121212\n",
      "20     0.121212\n",
      "21     0.142424\n",
      "22     0.247879\n",
      "23     0.078182\n",
      "24     0.078788\n",
      "25     0.103030\n",
      "26     0.104848\n",
      "27     0.112121\n",
      "28     0.115152\n",
      "29     0.118182\n",
      "30     0.120606\n",
      "         ...   \n",
      "517    0.424242\n",
      "518    0.433333\n",
      "519    0.460606\n",
      "520    0.466667\n",
      "521    0.472727\n",
      "522    0.484848\n",
      "523    0.503030\n",
      "524    0.515152\n",
      "525    0.533333\n",
      "526    0.575758\n",
      "527    0.484848\n",
      "528    0.490909\n",
      "529    0.500000\n",
      "530    0.503030\n",
      "531    0.537879\n",
      "532    0.575758\n",
      "533    0.272727\n",
      "534    0.278788\n",
      "535    0.345455\n",
      "536    0.345455\n",
      "537    0.348485\n",
      "538    0.351515\n",
      "539    0.357576\n",
      "540    0.363636\n",
      "541    0.363636\n",
      "542    0.403030\n",
      "543    0.418182\n",
      "544    0.472727\n",
      "545    0.484848\n",
      "546    0.484848\n",
      "Name: price, Length: 546, dtype: float64\n"
     ]
    }
   ],
   "source": [
    "print(y)"
   ]
  },
  {
   "cell_type": "code",
   "execution_count": 28,
   "metadata": {},
   "outputs": [
    {
     "name": "stdout",
     "output_type": "stream",
     "text": [
      "(546, 1) (546,)\n",
      "546 1\n"
     ]
    },
    {
     "data": {
      "text/plain": [
       "(546, 2)"
      ]
     },
     "execution_count": 28,
     "metadata": {},
     "output_type": "execute_result"
    }
   ],
   "source": [
    "print(x.shape, y.shape)\n",
    "m = x.shape[0]\n",
    "n = x.shape[1]\n",
    "print(m,n)\n",
    "\n",
    "t = np.ones((m,1))\n",
    "x = np.hstack((t,x))\n",
    "x.shape"
   ]
  },
  {
   "cell_type": "code",
   "execution_count": 29,
   "metadata": {},
   "outputs": [
    {
     "name": "stdout",
     "output_type": "stream",
     "text": [
      "(546, 2) (1, 2) (546, 1)\n",
      "[447.73335949]\n",
      "....\n"
     ]
    }
   ],
   "source": [
    "w = np.random.rand(1,n+1)\n",
    "y = np.array(y)\n",
    "y = np.reshape(y,(y.shape[0],1))\n",
    "print(x.shape, w.shape, y.shape)\n",
    "alpha = 0.001\n",
    "\n",
    "print(np.sum(np.dot(x,w.T)-y,axis=0))\n",
    "print(\"....\")\n",
    "\n",
    "t=10000\n",
    "while(t):\n",
    "    h = np.dot(x,w.T)\n",
    "#     print(h.shape, y.shape, x[:,0:1].shape,(h-y).shape)\n",
    "#     print(np.sum((h-y)*x[:,0:1],axis=0).shape)\n",
    "#     print(w[:,0].shape)\n",
    "    temp0 = w[:,0] - alpha*(1/m)*(np.sum( (h-y)*x[:,0:1], axis=0))\n",
    "    temp1 = w[:,1] - alpha*(1/m)*(np.sum( (h-y)*x[:,1:2], axis=0))\n",
    "    w[:,0] = temp0\n",
    "    w[:,1] = temp1\n",
    "    t-=1"
   ]
  },
  {
   "cell_type": "code",
   "execution_count": 35,
   "metadata": {},
   "outputs": [
    {
     "data": {
      "image/png": "[encoded data removed]",
      "text/plain": [
       "<Figure size 432x288 with 1 Axes>"
      ]
     },
     "metadata": {
      "needs_background": "light"
     },
     "output_type": "display_data"
    }
   ],
   "source": [
    "h = np.dot(x,w.T)\n",
    "plt.plot(x[:,1],h,'r',x[:,1],y,'gx')\n",
    "plt.xlabel('Lotsize')\n",
    "plt.ylabel('Price')\n",
    "plt.show()"
   ]
  },
  {
   "cell_type": "code",
   "execution_count": null,
   "metadata": {},
   "outputs": [],
   "source": []
  }
 ],
 "metadata": {
  "kernelspec": {
   "display_name": "Python 3",
   "language": "python",
   "name": "python3"
  },
  "language_info": {
   "codemirror_mode": {
    "name": "ipython",
    "version": 3
   },
   "file_extension": ".py",
   "mimetype": "text/x-python",
   "name": "python",
   "nbconvert_exporter": "python",
   "pygments_lexer": "ipython3",
   "version": "3.6.7"
  }
 },
 "nbformat": 4,
 "nbformat_minor": 2
}

{
 "cells": [
  {
   "cell_type": "code",
   "execution_count": 1,
   "metadata": {},
   "outputs": [],
   "source": [
    "import numpy as np\n",
    "import matplotlib.pyplot as plt\n",
    "import pandas as pd"
   ]
  },
  {
   "cell_type": "code",
   "execution_count": 2,
   "metadata": {},
   "outputs": [],
   "source": [
    "df = pd.read_csv('Housing Price data set.csv', index_col=0)"
   ]
  },
  {
   "cell_type": "code",
   "execution_count": 3,
   "metadata": {},
   "outputs": [
    {
     "data": {
      "text/html": [
       "<div>\n",
       "<style scoped>\n",
       "    .dataframe tbody tr th:only-of-type {\n",
       "        vertical-align: middle;\n",
       "    }\n",
       "\n",
       "    .dataframe tbody tr th {\n",
       "        vertical-align: top;\n",
       "    }\n",
       "\n",
       "    .dataframe thead th {\n",
       "        text-align: right;\n",
       "    }\n",
       "</style>\n",
       "<table border=\"1\" class=\"dataframe\">\n",
       "  <thead>\n",
       "    <tr style=\"text-align: right;\">\n",
       "      <th></th>\n",
       "      <th>price</th>\n",
       "      <th>lotsize</th>\n",
       "      <th>bedrooms</th>\n",
       "      <th>bathrms</th>\n",
       "      <th>stories</th>\n",
       "      <th>driveway</th>\n",
       "      <th>recroom</th>\n",
       "      <th>fullbase</th>\n",
       "      <th>gashw</th>\n",
       "      <th>airco</th>\n",
       "      <th>garagepl</th>\n",
       "      <th>prefarea</th>\n",
       "    </tr>\n",
       "  </thead>\n",
       "  <tbody>\n",
       "    <tr>\n",
       "      <th>1</th>\n",
       "      <td>42000.0</td>\n",
       "      <td>5850</td>\n",
       "      <td>3</td>\n",
       "      <td>1</td>\n",
       "      <td>2</td>\n",
       "      <td>yes</td>\n",
       "      <td>no</td>\n",
       "      <td>yes</td>\n",
       "      <td>no</td>\n",
       "      <td>no</td>\n",
       "      <td>1</td>\n",
       "      <td>no</td>\n",
       "    </tr>\n",
       "    <tr>\n",
       "      <th>2</th>\n",
       "      <td>38500.0</td>\n",
       "      <td>4000</td>\n",
       "      <td>2</td>\n",
       "      <td>1</td>\n",
       "      <td>1</td>\n",
       "      <td>yes</td>\n",
       "      <td>no</td>\n",
       "      <td>no</td>\n",
       "      <td>no</td>\n",
       "      <td>no</td>\n",
       "      <td>0</td>\n",
       "      <td>no</td>\n",
       "    </tr>\n",
       "    <tr>\n",
       "      <th>3</th>\n",
       "      <td>49500.0</td>\n",
       "      <td>3060</td>\n",
       "      <td>3</td>\n",
       "      <td>1</td>\n",
       "      <td>1</td>\n",
       "      <td>yes</td>\n",
       "      <td>no</td>\n",
       "      <td>no</td>\n",
       "      <td>no</td>\n",
       "      <td>no</td>\n",
       "      <td>0</td>\n",
       "      <td>no</td>\n",
       "    </tr>\n",
       "    <tr>\n",
       "      <th>4</th>\n",
       "      <td>60500.0</td>\n",
       "      <td>6650</td>\n",
       "      <td>3</td>\n",
       "      <td>1</td>\n",
       "      <td>2</td>\n",
       "      <td>yes</td>\n",
       "      <td>yes</td>\n",
       "      <td>no</td>\n",
       "      <td>no</td>\n",
       "      <td>no</td>\n",
       "      <td>0</td>\n",
       "      <td>no</td>\n",
       "    </tr>\n",
       "    <tr>\n",
       "      <th>5</th>\n",
       "      <td>61000.0</td>\n",
       "      <td>6360</td>\n",
       "      <td>2</td>\n",
       "      <td>1</td>\n",
       "      <td>1</td>\n",
       "      <td>yes</td>\n",
       "      <td>no</td>\n",
       "      <td>no</td>\n",
       "      <td>no</td>\n",
       "      <td>no</td>\n",
       "      <td>0</td>\n",
       "      <td>no</td>\n",
       "    </tr>\n",
       "  </tbody>\n",
       "</table>\n",
       "</div>"
      ],
      "text/plain": [
       "     price  lotsize  bedrooms  bathrms  stories driveway recroom fullbase  \\\n",
       "1  42000.0     5850         3        1        2      yes      no      yes   \n",
       "2  38500.0     4000         2        1        1      yes      no       no   \n",
       "3  49500.0     3060         3        1        1      yes      no       no   \n",
       "4  60500.0     6650         3        1        2      yes     yes       no   \n",
       "5  61000.0     6360         2        1        1      yes      no       no   \n",
       "\n",
       "  gashw airco  garagepl prefarea  \n",
       "1    no    no         1       no  \n",
       "2    no    no         0       no  \n",
       "3    no    no         0       no  \n",
       "4    no    no         0       no  \n",
       "5    no    no         0       no  "
      ]
     },
     "execution_count": 3,
     "metadata": {},
     "output_type": "execute_result"
    }
   ],
   "source": [
    "df.head()"
   ]
  },
  {
   "cell_type": "code",
   "execution_count": 4,
   "metadata": {},
   "outputs": [
    {
     "data": {
      "text/plain": [
       "(546, 12)"
      ]
     },
     "execution_count": 4,
     "metadata": {},
     "output_type": "execute_result"
    }
   ],
   "source": [
    "df.shape"
   ]
  },
  {
   "cell_type": "code",
   "execution_count": 5,
   "metadata": {},
   "outputs": [],
   "source": [
    "df.driveway.replace(to_replace=['no', 'yes'], value=[0, 1], inplace=True)\n",
    "df.recroom.replace(to_replace=['no','yes'], value=[0,1], inplace=True)\n",
    "df.fullbase.replace(to_replace=['no','yes'], value=[0,1], inplace=True)\n",
    "df.gashw.replace(to_replace=['no','yes'], value=[0,1], inplace=True)\n",
    "df.airco.replace(to_replace=['no','yes'], value=[0,1], inplace=True)\n",
    "df.prefarea.replace(to_replace=['no','yes'], value=[0,1], inplace=True)"
   ]
  },
  {
   "cell_type": "code",
   "execution_count": 6,
   "metadata": {},
   "outputs": [],
   "source": [
    "Y = df['price']\n",
    "X = df.drop(['price'], axis=1)"
   ]
  },
  {
   "cell_type": "code",
   "execution_count": 7,
   "metadata": {},
   "outputs": [
    {
     "data": {
      "text/html": [
       "<div>\n",
       "<style scoped>\n",
       "    .dataframe tbody tr th:only-of-type {\n",
       "        vertical-align: middle;\n",
       "    }\n",
       "\n",
       "    .dataframe tbody tr th {\n",
       "        vertical-align: top;\n",
       "    }\n",
       "\n",
       "    .dataframe thead th {\n",
       "        text-align: right;\n",
       "    }\n",
       "</style>\n",
       "<table border=\"1\" class=\"dataframe\">\n",
       "  <thead>\n",
       "    <tr style=\"text-align: right;\">\n",
       "      <th></th>\n",
       "      <th>lotsize</th>\n",
       "      <th>bedrooms</th>\n",
       "      <th>bathrms</th>\n",
       "      <th>stories</th>\n",
       "      <th>driveway</th>\n",
       "      <th>recroom</th>\n",
       "      <th>fullbase</th>\n",
       "      <th>gashw</th>\n",
       "      <th>airco</th>\n",
       "      <th>garagepl</th>\n",
       "      <th>prefarea</th>\n",
       "    </tr>\n",
       "  </thead>\n",
       "  <tbody>\n",
       "    <tr>\n",
       "      <th>1</th>\n",
       "      <td>5850</td>\n",
       "      <td>3</td>\n",
       "      <td>1</td>\n",
       "      <td>2</td>\n",
       "      <td>1</td>\n",
       "      <td>0</td>\n",
       "      <td>1</td>\n",
       "      <td>0</td>\n",
       "      <td>0</td>\n",
       "      <td>1</td>\n",
       "      <td>0</td>\n",
       "    </tr>\n",
       "    <tr>\n",
       "      <th>2</th>\n",
       "      <td>4000</td>\n",
       "      <td>2</td>\n",
       "      <td>1</td>\n",
       "      <td>1</td>\n",
       "      <td>1</td>\n",
       "      <td>0</td>\n",
       "      <td>0</td>\n",
       "      <td>0</td>\n",
       "      <td>0</td>\n",
       "      <td>0</td>\n",
       "      <td>0</td>\n",
       "    </tr>\n",
       "    <tr>\n",
       "      <th>3</th>\n",
       "      <td>3060</td>\n",
       "      <td>3</td>\n",
       "      <td>1</td>\n",
       "      <td>1</td>\n",
       "      <td>1</td>\n",
       "      <td>0</td>\n",
       "      <td>0</td>\n",
       "      <td>0</td>\n",
       "      <td>0</td>\n",
       "      <td>0</td>\n",
       "      <td>0</td>\n",
       "    </tr>\n",
       "    <tr>\n",
       "      <th>4</th>\n",
       "      <td>6650</td>\n",
       "      <td>3</td>\n",
       "      <td>1</td>\n",
       "      <td>2</td>\n",
       "      <td>1</td>\n",
       "      <td>1</td>\n",
       "      <td>0</td>\n",
       "      <td>0</td>\n",
       "      <td>0</td>\n",
       "      <td>0</td>\n",
       "      <td>0</td>\n",
       "    </tr>\n",
       "    <tr>\n",
       "      <th>5</th>\n",
       "      <td>6360</td>\n",
       "      <td>2</td>\n",
       "      <td>1</td>\n",
       "      <td>1</td>\n",
       "      <td>1</td>\n",
       "      <td>0</td>\n",
       "      <td>0</td>\n",
       "      <td>0</td>\n",
       "      <td>0</td>\n",
       "      <td>0</td>\n",
       "      <td>0</td>\n",
       "    </tr>\n",
       "  </tbody>\n",
       "</table>\n",
       "</div>"
      ],
      "text/plain": [
       "   lotsize  bedrooms  bathrms  stories  driveway  recroom  fullbase  gashw  \\\n",
       "1     5850         3        1        2         1        0         1      0   \n",
       "2     4000         2        1        1         1        0         0      0   \n",
       "3     3060         3        1        1         1        0         0      0   \n",
       "4     6650         3        1        2         1        1         0      0   \n",
       "5     6360         2        1        1         1        0         0      0   \n",
       "\n",
       "   airco  garagepl  prefarea  \n",
       "1      0         1         0  \n",
       "2      0         0         0  \n",
       "3      0         0         0  \n",
       "4      0         0         0  \n",
       "5      0         0         0  "
      ]
     },
     "execution_count": 7,
     "metadata": {},
     "output_type": "execute_result"
    }
   ],
   "source": [
    "X.head()"
   ]
  },
  {
   "cell_type": "code",
   "execution_count": 8,
   "metadata": {},
   "outputs": [
    {
     "data": {
      "text/plain": [
       "1    42000.0\n",
       "2    38500.0\n",
       "3    49500.0\n",
       "4    60500.0\n",
       "5    61000.0\n",
       "Name: price, dtype: float64"
      ]
     },
     "execution_count": 8,
     "metadata": {},
     "output_type": "execute_result"
    }
   ],
   "source": [
    "Y.head()"
   ]
  },
  {
   "cell_type": "code",
   "execution_count": 9,
   "metadata": {},
   "outputs": [],
   "source": [
    "#Normalising Inputs(2D input)\n",
    "def normalise(inp):\n",
    "    return np.array((inp-inp.mean())/inp.std())"
   ]
  },
  {
   "cell_type": "code",
   "execution_count": 10,
   "metadata": {},
   "outputs": [],
   "source": [
    "Y = np.array(Y)\n",
    "Y = Y.reshape(Y.shape[0],1)\n",
    "Y = normalise(Y)"
   ]
  },
  {
   "cell_type": "code",
   "execution_count": 11,
   "metadata": {},
   "outputs": [
    {
     "data": {
      "text/plain": [
       "(546, 11)"
      ]
     },
     "execution_count": 11,
     "metadata": {},
     "output_type": "execute_result"
    }
   ],
   "source": [
    "X.shape"
   ]
  },
  {
   "cell_type": "code",
   "execution_count": 12,
   "metadata": {},
   "outputs": [],
   "source": [
    "X = normalise(X)"
   ]
  },
  {
   "cell_type": "code",
   "execution_count": 13,
   "metadata": {},
   "outputs": [
    {
     "data": {
      "text/plain": [
       "array([[ 0.32273211,  0.04719162, -0.56897304,  0.22150097,  0.40481898,\n",
       "        -0.4643705 ,  1.36206998, -0.21885329, -0.68040981,  0.35723902,\n",
       "        -0.55286459],\n",
       "       [-0.53052646, -1.30894664, -0.56897304, -0.93030406,  0.40481898,\n",
       "        -0.4643705 , -0.73283202, -0.21885329, -0.68040981, -0.80378779,\n",
       "        -0.55286459],\n",
       "       [-0.96407405,  0.04719162, -0.56897304, -0.93030406,  0.40481898,\n",
       "        -0.4643705 , -0.73283202, -0.21885329, -0.68040981, -0.80378779,\n",
       "        -0.55286459],\n",
       "       [ 0.69170878,  0.04719162, -0.56897304,  0.22150097,  0.40481898,\n",
       "         2.14950883, -0.73283202, -0.21885329, -0.68040981, -0.80378779,\n",
       "        -0.55286459],\n",
       "       [ 0.55795474, -1.30894664, -0.56897304, -0.93030406,  0.40481898,\n",
       "        -0.4643705 , -0.73283202, -0.21885329, -0.68040981, -0.80378779,\n",
       "        -0.55286459]])"
      ]
     },
     "execution_count": 13,
     "metadata": {},
     "output_type": "execute_result"
    }
   ],
   "source": [
    "X[:5]"
   ]
  },
  {
   "cell_type": "code",
   "execution_count": 14,
   "metadata": {},
   "outputs": [
    {
     "data": {
      "text/plain": [
       "array([[-0.97913617],\n",
       "       [-1.11032939],\n",
       "       [-0.69800783],\n",
       "       [-0.28568626],\n",
       "       [-0.26694437]])"
      ]
     },
     "execution_count": 14,
     "metadata": {},
     "output_type": "execute_result"
    }
   ],
   "source": [
    "Y[:5]"
   ]
  },
  {
   "cell_type": "code",
   "execution_count": 15,
   "metadata": {},
   "outputs": [],
   "source": [
    "X = np.c_[np.ones(X.shape[0]),np.array(X)]"
   ]
  },
  {
   "cell_type": "code",
   "execution_count": 16,
   "metadata": {},
   "outputs": [
    {
     "data": {
      "text/plain": [
       "array([ 1.        , -0.45673112,  0.04719162, -0.56897304, -0.93030406,\n",
       "        0.40481898,  2.14950883,  1.36206998, -0.21885329,  1.46701074,\n",
       "       -0.80378779, -0.55286459])"
      ]
     },
     "execution_count": 16,
     "metadata": {},
     "output_type": "execute_result"
    }
   ],
   "source": [
    "X[5]"
   ]
  },
  {
   "cell_type": "code",
   "execution_count": 17,
   "metadata": {},
   "outputs": [
    {
     "data": {
      "text/plain": [
       "(546, 12)"
      ]
     },
     "execution_count": 17,
     "metadata": {},
     "output_type": "execute_result"
    }
   ],
   "source": [
    "X.shape"
   ]
  },
  {
   "cell_type": "code",
   "execution_count": 18,
   "metadata": {},
   "outputs": [
    {
     "name": "stdout",
     "output_type": "stream",
     "text": [
      "Theta: [[ 5.17070763e-01]\n",
      " [ 7.60044448e-01]\n",
      " [-3.11413210e-01]\n",
      " [ 8.65110371e-01]\n",
      " [ 1.06243762e+00]\n",
      " [-3.33048762e-01]\n",
      " [-5.99416061e-01]\n",
      " [ 1.20417494e-01]\n",
      " [ 2.41682727e-01]\n",
      " [ 1.09417342e+00]\n",
      " [ 3.66059947e-02]\n",
      " [-4.75697644e-04]]\n"
     ]
    }
   ],
   "source": [
    "theta = np.random.randn(12,1)\n",
    "np.random.seed(2)\n",
    "print(\"Theta:\", theta)"
   ]
  },
  {
   "cell_type": "code",
   "execution_count": 19,
   "metadata": {},
   "outputs": [],
   "source": [
    "#Calculating Cost\n",
    "cost = lambda X,Y,theta : 1/(2*X.shape[0])*np.sum(np.square(np.matmul(X,theta)-Y))"
   ]
  },
  {
   "cell_type": "code",
   "execution_count": 20,
   "metadata": {},
   "outputs": [],
   "source": [
    "#Computing derivative\n",
    "derivative = lambda X,Y,theta : 1/X.shape[0]*np.matmul(X.transpose(),(np.matmul(X,theta)-Y))"
   ]
  },
  {
   "cell_type": "code",
   "execution_count": 21,
   "metadata": {},
   "outputs": [
    {
     "data": {
      "text/plain": [
       "1.7429494865042139"
      ]
     },
     "execution_count": 21,
     "metadata": {},
     "output_type": "execute_result"
    }
   ],
   "source": [
    "cost(X,Y,theta)"
   ]
  },
  {
   "cell_type": "code",
   "execution_count": 22,
   "metadata": {},
   "outputs": [],
   "source": [
    "#Trying different learning rates\n",
    "learning_rates = [0.1,0.01,0.001]"
   ]
  },
  {
   "cell_type": "code",
   "execution_count": 23,
   "metadata": {},
   "outputs": [],
   "source": [
    "iterations=10000\n",
    "costs = []\n",
    "def gradientDescent(X,Y,theta,iterations,learning_rate):\n",
    "    nexamples = X.shape[0]\n",
    "    for i in range(iterations):\n",
    "        computed_cost = cost(X,Y,theta)\n",
    "        if i%1000==0:\n",
    "            print(\"Cost after iteration \"+str(i+1)+\":\",computed_cost)\n",
    "#         print(X.shape)\n",
    "#         print(theta.shape)\n",
    "#         print(Y.shape)\n",
    "        dtheta = derivative(X,Y,theta)\n",
    "        theta = theta-learning_rate*dtheta\n",
    "        costs.append(computed_cost)                   \n",
    "    return costs                                                      "
   ]
  },
  {
   "cell_type": "code",
   "execution_count": 24,
   "metadata": {},
   "outputs": [
    {
     "name": "stdout",
     "output_type": "stream",
     "text": [
      "Cost after iteration 1: 1.7429494865042139\n",
      "Cost after iteration 1001: 0.16347061877604652\n",
      "Cost after iteration 2001: 0.16343819758429087\n",
      "Cost after iteration 3001: 0.1634381896812545\n",
      "Cost after iteration 4001: 0.16343818967927523\n",
      "Cost after iteration 5001: 0.16343818967927473\n",
      "Cost after iteration 6001: 0.16343818967927473\n",
      "Cost after iteration 7001: 0.16343818967927473\n",
      "Cost after iteration 8001: 0.16343818967927473\n",
      "Cost after iteration 9001: 0.16343818967927473\n"
     ]
    }
   ],
   "source": [
    "costs = gradientDescent(X,Y,theta,iterations,0.01)"
   ]
  },
  {
   "cell_type": "code",
   "execution_count": 25,
   "metadata": {},
   "outputs": [
    {
     "data": {
      "text/plain": [
       "Text(0,0.5,'Cost')"
      ]
     },
     "execution_count": 25,
     "metadata": {},
     "output_type": "execute_result"
    },
    {
     "data": {
      "image/png": "[encoded data removed]",
      "text/plain": [
       "<Figure size 432x288 with 1 Axes>"
      ]
     },
     "metadata": {},
     "output_type": "display_data"
    }
   ],
   "source": [
    "plt.plot(range(iterations),costs)\n",
    "plt.xlabel(\"Iterations\")\n",
    "plt.ylabel(\"Cost\")"
   ]
  },
  {
   "cell_type": "markdown",
   "metadata": {},
   "source": [
    "# Using Regularization"
   ]
  },
  {
   "cell_type": "code",
   "execution_count": 26,
   "metadata": {},
   "outputs": [
    {
     "name": "stdout",
     "output_type": "stream",
     "text": [
      "Theta: [[-0.41675785]\n",
      " [-0.05626683]\n",
      " [-2.1361961 ]\n",
      " [ 1.64027081]\n",
      " [-1.79343559]\n",
      " [-0.84174737]\n",
      " [ 0.50288142]\n",
      " [-1.24528809]\n",
      " [-1.05795222]\n",
      " [-0.90900761]\n",
      " [ 0.55145404]\n",
      " [ 2.29220801]]\n"
     ]
    }
   ],
   "source": [
    "theta = np.random.randn(12,1)\n",
    "print(\"Theta:\", theta)"
   ]
  },
  {
   "cell_type": "code",
   "execution_count": 27,
   "metadata": {},
   "outputs": [],
   "source": [
    "#Calculating Cost\n",
    "cost = lambda X,Y,theta,lambd : 1/(2*X.shape[0])*(np.sum(np.square(np.matmul(X,theta)-Y))+lambd*np.sum(theta**2))"
   ]
  },
  {
   "cell_type": "code",
   "execution_count": 28,
   "metadata": {},
   "outputs": [],
   "source": [
    "#Computing derivative\n",
    "derivative = lambda X,Y,theta: 1/X.shape[0]*(np.matmul(X.T,(np.matmul(X,theta)-Y)))"
   ]
  },
  {
   "cell_type": "code",
   "execution_count": 29,
   "metadata": {},
   "outputs": [
    {
     "data": {
      "text/plain": [
       "18.754662684944453"
      ]
     },
     "execution_count": 29,
     "metadata": {},
     "output_type": "execute_result"
    }
   ],
   "source": [
    "cost(X,Y,theta,lambd=500)"
   ]
  },
  {
   "cell_type": "code",
   "execution_count": 30,
   "metadata": {},
   "outputs": [],
   "source": [
    "iterations=10000\n",
    "costs = []\n",
    "def gradientDescentwithReg(X,Y,theta,lambd,iterations,learning_rate):\n",
    "    nexamples = X.shape[0]\n",
    "    for i in range(iterations):\n",
    "        computed_cost = cost(X,Y,theta,lambd)\n",
    "        if i%1000==0:\n",
    "            print(\"Cost after iteration \"+str(i+1)+\":\",computed_cost)\n",
    "#         print(X.shape)\n",
    "#         print(theta.shape)\n",
    "#         print(Y.shape)\n",
    "        dtheta = derivative(X,Y,theta)\n",
    "        theta = theta*(1-learning_rate*lambd/nexamples)-learning_rate*dtheta\n",
    "        costs.append(computed_cost)                   \n",
    "    return costs                                                      "
   ]
  },
  {
   "cell_type": "code",
   "execution_count": 31,
   "metadata": {},
   "outputs": [
    {
     "name": "stdout",
     "output_type": "stream",
     "text": [
      "Cost after iteration 1: 28.215804619984056\n",
      "Cost after iteration 1001: 0.4760688002456511\n",
      "Cost after iteration 2001: 0.3172026217795923\n",
      "Cost after iteration 3001: 0.3160521435329417\n",
      "Cost after iteration 4001: 0.3160432413888741\n",
      "Cost after iteration 5001: 0.3160431697624914\n",
      "Cost after iteration 6001: 0.31604316916590597\n",
      "Cost after iteration 7001: 0.3160431691607614\n",
      "Cost after iteration 8001: 0.3160431691607155\n",
      "Cost after iteration 9001: 0.3160431691607151\n"
     ]
    }
   ],
   "source": [
    "costs = gradientDescentwithReg(X,Y,theta,1000,iterations,0.001)"
   ]
  },
  {
   "cell_type": "code",
   "execution_count": 32,
   "metadata": {},
   "outputs": [
    {
     "name": "stdout",
     "output_type": "stream",
     "text": [
      "10000\n"
     ]
    },
    {
     "data": {
      "text/plain": [
       "Text(0,0.5,'Cost')"
      ]
     },
     "execution_count": 32,
     "metadata": {},
     "output_type": "execute_result"
    },
    {
     "data": {
      "image/png": "[encoded data removed]",
      "text/plain": [
       "<Figure size 432x288 with 1 Axes>"
      ]
     },
     "metadata": {},
     "output_type": "display_data"
    }
   ],
   "source": [
    "print(len(costs))\n",
    "plt.plot(range(iterations),costs)\n",
    "plt.xlabel(\"Iterations\")\n",
    "plt.ylabel(\"Cost\")"
   ]
  },
  {
   "cell_type": "markdown",
   "metadata": {},
   "source": [
    "# Trying different values of lambda and learning rate"
   ]
  },
  {
   "cell_type": "code",
   "execution_count": 37,
   "metadata": {},
   "outputs": [],
   "source": [
    "lambda_plus_learning_rate = [(0,0.1),(0,0.01),(0,0.001),(500,0.1),(500,0.01),(500,0.001),(1000,0.1),(1000,0.01),(1000,0.001),(1500,0.1),(1500,0.01),(1500,0.001)]"
   ]
  },
  {
   "cell_type": "code",
   "execution_count": 38,
   "metadata": {},
   "outputs": [
    {
     "name": "stdout",
     "output_type": "stream",
     "text": [
      "Costs for lambda and learning rate:0 and 0.1\n",
      "Cost after iteration 1: 9.293520749904848\n",
      "Cost after iteration 1001: 0.16343818967927473\n",
      "Cost after iteration 2001: 0.16343818967927473\n",
      "Cost after iteration 3001: 0.16343818967927473\n",
      "Cost after iteration 4001: 0.16343818967927473\n",
      "Cost after iteration 5001: 0.16343818967927473\n",
      "Cost after iteration 6001: 0.16343818967927473\n",
      "Cost after iteration 7001: 0.16343818967927473\n",
      "Cost after iteration 8001: 0.16343818967927473\n",
      "Cost after iteration 9001: 0.16343818967927473\n",
      "Costs for lambda and learning rate:0 and 0.01\n",
      "Cost after iteration 1: 9.293520749904848\n",
      "Cost after iteration 1001: 0.1635152547555512\n",
      "Cost after iteration 2001: 0.1634382030000698\n",
      "Cost after iteration 3001: 0.16343818968256218\n",
      "Cost after iteration 4001: 0.16343818967927556\n",
      "Cost after iteration 5001: 0.16343818967927473\n",
      "Cost after iteration 6001: 0.16343818967927476\n",
      "Cost after iteration 7001: 0.1634381896792747\n",
      "Cost after iteration 8001: 0.16343818967927473\n",
      "Cost after iteration 9001: 0.16343818967927473\n",
      "Costs for lambda and learning rate:0 and 0.001\n",
      "Cost after iteration 1: 9.293520749904848\n",
      "Cost after iteration 1001: 1.7795280941168858\n",
      "Cost after iteration 2001: 0.600089664110354\n",
      "Cost after iteration 3001: 0.2934413693166536\n",
      "Cost after iteration 4001: 0.20396842483341232\n",
      "Cost after iteration 5001: 0.1765476534953645\n",
      "Cost after iteration 6001: 0.16783152905310098\n",
      "Cost after iteration 7001: 0.16496407545106206\n",
      "Cost after iteration 8001: 0.16398739247155816\n",
      "Cost after iteration 9001: 0.1636427770767512\n",
      "Costs for lambda and learning rate:500 and 0.1\n",
      "Cost after iteration 1: 18.754662684944453\n",
      "Cost after iteration 1001: 0.26302416333386897\n",
      "Cost after iteration 2001: 0.26302416333386897\n",
      "Cost after iteration 3001: 0.26302416333386897\n",
      "Cost after iteration 4001: 0.26302416333386897\n",
      "Cost after iteration 5001: 0.26302416333386897\n",
      "Cost after iteration 6001: 0.26302416333386897\n",
      "Cost after iteration 7001: 0.26302416333386897\n",
      "Cost after iteration 8001: 0.26302416333386897\n",
      "Cost after iteration 9001: 0.26302416333386897\n",
      "Costs for lambda and learning rate:500 and 0.01\n",
      "Cost after iteration 1: 18.754662684944453\n",
      "Cost after iteration 1001: 0.2630241633358181\n",
      "Cost after iteration 2001: 0.2630241633338689\n",
      "Cost after iteration 3001: 0.2630241633338689\n",
      "Cost after iteration 4001: 0.2630241633338689\n",
      "Cost after iteration 5001: 0.2630241633338689\n",
      "Cost after iteration 6001: 0.2630241633338689\n",
      "Cost after iteration 7001: 0.2630241633338689\n",
      "Cost after iteration 8001: 0.2630241633338689\n",
      "Cost after iteration 9001: 0.2630241633338689\n",
      "Costs for lambda and learning rate:500 and 0.001\n",
      "Cost after iteration 1: 18.754662684944453\n",
      "Cost after iteration 1001: 0.893395148426963\n",
      "Cost after iteration 2001: 0.29135699029939427\n",
      "Cost after iteration 3001: 0.26439311177529756\n",
      "Cost after iteration 4001: 0.2630930324904657\n",
      "Cost after iteration 5001: 0.26302775136663564\n",
      "Cost after iteration 6001: 0.26302435689138043\n",
      "Cost after iteration 7001: 0.2630241741525715\n",
      "Cost after iteration 8001: 0.26302416396039746\n",
      "Cost after iteration 9001: 0.26302416337140944\n",
      "Costs for lambda and learning rate:1000 and 0.1\n",
      "Cost after iteration 1: 28.215804619984056\n",
      "Cost after iteration 1001: 0.3160431691607151\n",
      "Cost after iteration 2001: 0.3160431691607151\n",
      "Cost after iteration 3001: 0.3160431691607151\n",
      "Cost after iteration 4001: 0.3160431691607151\n",
      "Cost after iteration 5001: 0.3160431691607151\n",
      "Cost after iteration 6001: 0.3160431691607151\n",
      "Cost after iteration 7001: 0.3160431691607151\n",
      "Cost after iteration 8001: 0.3160431691607151\n",
      "Cost after iteration 9001: 0.3160431691607151\n",
      "Costs for lambda and learning rate:1000 and 0.01\n",
      "Cost after iteration 1: 28.215804619984056\n",
      "Cost after iteration 1001: 0.31604316916071507\n",
      "Cost after iteration 2001: 0.31604316916071507\n",
      "Cost after iteration 3001: 0.31604316916071507\n",
      "Cost after iteration 4001: 0.31604316916071507\n",
      "Cost after iteration 5001: 0.31604316916071507\n",
      "Cost after iteration 6001: 0.31604316916071507\n",
      "Cost after iteration 7001: 0.31604316916071507\n",
      "Cost after iteration 8001: 0.31604316916071507\n",
      "Cost after iteration 9001: 0.31604316916071507\n",
      "Costs for lambda and learning rate:1000 and 0.001\n",
      "Cost after iteration 1: 28.215804619984056\n",
      "Cost after iteration 1001: 0.4760688002456511\n",
      "Cost after iteration 2001: 0.3172026217795923\n",
      "Cost after iteration 3001: 0.3160521435329417\n",
      "Cost after iteration 4001: 0.3160432413888741\n",
      "Cost after iteration 5001: 0.3160431697624914\n",
      "Cost after iteration 6001: 0.31604316916590597\n",
      "Cost after iteration 7001: 0.3160431691607614\n",
      "Cost after iteration 8001: 0.3160431691607155\n",
      "Cost after iteration 9001: 0.3160431691607151\n",
      "Costs for lambda and learning rate:1500 and 0.1\n",
      "Cost after iteration 1: 37.676946555023655\n",
      "Cost after iteration 1001: 0.3495366163288262\n",
      "Cost after iteration 2001: 0.3495366163288262\n",
      "Cost after iteration 3001: 0.3495366163288262\n",
      "Cost after iteration 4001: 0.3495366163288262\n",
      "Cost after iteration 5001: 0.3495366163288262\n",
      "Cost after iteration 6001: 0.3495366163288262\n",
      "Cost after iteration 7001: 0.3495366163288262\n",
      "Cost after iteration 8001: 0.3495366163288262\n",
      "Cost after iteration 9001: 0.3495366163288262\n",
      "Costs for lambda and learning rate:1500 and 0.01\n",
      "Cost after iteration 1: 37.676946555023655\n",
      "Cost after iteration 1001: 0.3495366163288262\n",
      "Cost after iteration 2001: 0.34953661632882616\n",
      "Cost after iteration 3001: 0.34953661632882616\n",
      "Cost after iteration 4001: 0.34953661632882616\n",
      "Cost after iteration 5001: 0.34953661632882616\n",
      "Cost after iteration 6001: 0.34953661632882616\n",
      "Cost after iteration 7001: 0.34953661632882616\n",
      "Cost after iteration 8001: 0.34953661632882616\n",
      "Cost after iteration 9001: 0.34953661632882616\n",
      "Costs for lambda and learning rate:1500 and 0.001\n",
      "Cost after iteration 1: 37.676946555023655\n",
      "Cost after iteration 1001: 0.3845007576851076\n",
      "Cost after iteration 2001: 0.349577163406057\n",
      "Cost after iteration 3001: 0.34953666641971054\n",
      "Cost after iteration 4001: 0.34953661639313266\n",
      "Cost after iteration 5001: 0.34953661632891164\n",
      "Cost after iteration 6001: 0.3495366163288263\n",
      "Cost after iteration 7001: 0.34953661632882627\n",
      "Cost after iteration 8001: 0.3495366163288262\n",
      "Cost after iteration 9001: 0.3495366163288262\n"
     ]
    }
   ],
   "source": [
    "for lambd, learning_rate in lambda_plus_learning_rate:\n",
    "    print(\"Costs for lambda and learning rate:\"+str(lambd)+\" and \"+str(learning_rate))\n",
    "    costs = gradientDescentwithReg(X,Y,theta,lambd,iterations,learning_rate)"
   ]
  },
  {
   "cell_type": "code",
   "execution_count": null,
   "metadata": {},
   "outputs": [],
   "source": []
  },
  {
   "cell_type": "code",
   "execution_count": null,
   "metadata": {},
   "outputs": [],
   "source": []
  },
  {
   "cell_type": "code",
   "execution_count": null,
   "metadata": {},
   "outputs": [],
   "source": []
  },
  {
   "cell_type": "code",
   "execution_count": null,
   "metadata": {},
   "outputs": [],
   "source": []
  },
  {
   "cell_type": "code",
   "execution_count": null,
   "metadata": {},
   "outputs": [],
   "source": []
  }
 ],
 "metadata": {
  "kernelspec": {
   "display_name": "Python 3",
   "language": "python",
   "name": "python3"
  },
  "language_info": {
   "codemirror_mode": {
    "name": "ipython",
    "version": 3
   },
   "file_extension": ".py",
   "mimetype": "text/x-python",
   "name": "python",
   "nbconvert_exporter": "python",
   "pygments_lexer": "ipython3",
   "version": "3.6.8"
  }
 },
 "nbformat": 4,
 "nbformat_minor": 2
}

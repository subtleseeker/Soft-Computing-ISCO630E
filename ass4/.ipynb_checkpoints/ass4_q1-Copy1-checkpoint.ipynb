{
 "cells": [
  {
   "cell_type": "code",
   "execution_count": 1,
   "metadata": {},
   "outputs": [],
   "source": [
    "import numpy as np\n",
    "import pandas as pd\n",
    "import matplotlib.pyplot as plt"
   ]
  },
  {
   "cell_type": "code",
   "execution_count": 2,
   "metadata": {},
   "outputs": [
    {
     "data": {
      "text/html": [
       "<div>\n",
       "<style scoped>\n",
       "    .dataframe tbody tr th:only-of-type {\n",
       "        vertical-align: middle;\n",
       "    }\n",
       "\n",
       "    .dataframe tbody tr th {\n",
       "        vertical-align: top;\n",
       "    }\n",
       "\n",
       "    .dataframe thead th {\n",
       "        text-align: right;\n",
       "    }\n",
       "</style>\n",
       "<table border=\"1\" class=\"dataframe\">\n",
       "  <thead>\n",
       "    <tr style=\"text-align: right;\">\n",
       "      <th></th>\n",
       "      <th>exam1</th>\n",
       "      <th>exam2</th>\n",
       "      <th>adm</th>\n",
       "    </tr>\n",
       "  </thead>\n",
       "  <tbody>\n",
       "    <tr>\n",
       "      <th>0</th>\n",
       "      <td>34.623660</td>\n",
       "      <td>78.024693</td>\n",
       "      <td>0</td>\n",
       "    </tr>\n",
       "    <tr>\n",
       "      <th>1</th>\n",
       "      <td>30.286711</td>\n",
       "      <td>43.894998</td>\n",
       "      <td>0</td>\n",
       "    </tr>\n",
       "    <tr>\n",
       "      <th>2</th>\n",
       "      <td>35.847409</td>\n",
       "      <td>72.902198</td>\n",
       "      <td>0</td>\n",
       "    </tr>\n",
       "    <tr>\n",
       "      <th>3</th>\n",
       "      <td>60.182599</td>\n",
       "      <td>86.308552</td>\n",
       "      <td>1</td>\n",
       "    </tr>\n",
       "    <tr>\n",
       "      <th>4</th>\n",
       "      <td>79.032736</td>\n",
       "      <td>75.344376</td>\n",
       "      <td>1</td>\n",
       "    </tr>\n",
       "  </tbody>\n",
       "</table>\n",
       "</div>"
      ],
      "text/plain": [
       "       exam1      exam2  adm\n",
       "0  34.623660  78.024693    0\n",
       "1  30.286711  43.894998    0\n",
       "2  35.847409  72.902198    0\n",
       "3  60.182599  86.308552    1\n",
       "4  79.032736  75.344376    1"
      ]
     },
     "execution_count": 2,
     "metadata": {},
     "output_type": "execute_result"
    }
   ],
   "source": [
    "df = pd.read_csv('exam.txt', names = ['exam1', 'exam2', 'adm'])\n",
    "df.head()"
   ]
  },
  {
   "cell_type": "code",
   "execution_count": 3,
   "metadata": {},
   "outputs": [
    {
     "data": {
      "text/plain": [
       "(100, 3)"
      ]
     },
     "execution_count": 3,
     "metadata": {},
     "output_type": "execute_result"
    }
   ],
   "source": [
    "df.shape"
   ]
  },
  {
   "cell_type": "code",
   "execution_count": 4,
   "metadata": {},
   "outputs": [
    {
     "name": "stdout",
     "output_type": "stream",
     "text": [
      "(100, 2) (100,)\n"
     ]
    }
   ],
   "source": [
    "y = df['adm'].values\n",
    "X = df.drop(['adm'], axis=1).values\n",
    "print(X.shape, y.shape)"
   ]
  },
  {
   "cell_type": "code",
   "execution_count": 5,
   "metadata": {},
   "outputs": [
    {
     "name": "stdout",
     "output_type": "stream",
     "text": [
      "(71, 2) (29, 2)\n"
     ]
    }
   ],
   "source": [
    "msk = np.random.rand(len(X)) < 0.7\n",
    "X_train = X[msk]\n",
    "X_test = X[~msk]\n",
    "y_train = y[msk]\n",
    "y_test = y[~msk]\n",
    "print(X_train.shape, X_test.shape)"
   ]
  },
  {
   "cell_type": "code",
   "execution_count": 6,
   "metadata": {},
   "outputs": [
    {
     "data": {
      "image/png": "[encoded data removed]",
      "text/plain": [
       "<Figure size 432x288 with 1 Axes>"
      ]
     },
     "metadata": {
      "needs_background": "light"
     },
     "output_type": "display_data"
    }
   ],
   "source": [
    "for i in range(X_train.shape[0]):\n",
    "    if y_train[i]==1:\n",
    "        plt.plot(X_train[i,0],X_train[i,1],'rx')\n",
    "    else:\n",
    "        plt.plot(X_train[i,0],X_train[i,1],'bx')\n",
    "plt.show()"
   ]
  },
  {
   "cell_type": "code",
   "execution_count": 7,
   "metadata": {},
   "outputs": [],
   "source": [
    "#Normalizing\n",
    "X_train = (X_train-np.min(X_train,axis=0))/(np.max(X_train,axis=0)-np.min(X_train,axis=0))\n",
    "X_test = (X_test-np.min(X_test,axis=0))/(np.max(X_test,axis=0)-np.min(X_test,axis=0))"
   ]
  },
  {
   "cell_type": "code",
   "execution_count": 8,
   "metadata": {},
   "outputs": [
    {
     "name": "stdout",
     "output_type": "stream",
     "text": [
      "(71, 3)\n"
     ]
    }
   ],
   "source": [
    "#Adding row for bias\n",
    "X_train = np.concatenate( (np.ones((X_train.shape[0],1)),X_train) , axis=1)\n",
    "X_test = np.concatenate( (np.ones((X_test.shape[0],1)),X_test) , axis=1)\n",
    "print(X_train.shape)"
   ]
  },
  {
   "cell_type": "code",
   "execution_count": 9,
   "metadata": {},
   "outputs": [],
   "source": [
    "def sigmoid(z):\n",
    "    return 1/(1+np.exp(-z))\n",
    "def sig_prime(z):\n",
    "    return sigmoid(z)*(1-sigmoid(z))"
   ]
  },
  {
   "cell_type": "code",
   "execution_count": 10,
   "metadata": {},
   "outputs": [
    {
     "name": "stdout",
     "output_type": "stream",
     "text": [
      "[[0.30077533 0.62971062 0.80366403]]\n",
      "(71,)\n"
     ]
    }
   ],
   "source": [
    "m,n = X_train.shape # n is the shape of original_X.shape[0]+1\n",
    "theta = np.random.rand(1,n)\n",
    "print(theta)\n",
    "\n",
    "def get_h(X, theta):\n",
    "    h = sigmoid(X@theta.T)\n",
    "    h = h.reshape(-1)\n",
    "    return h\n",
    "\n",
    "h = get_h(X_train, theta)\n",
    "print(h.shape)"
   ]
  },
  {
   "cell_type": "code",
   "execution_count": 11,
   "metadata": {},
   "outputs": [],
   "source": [
    "def get_cost(h,y):\n",
    "    return -(1/m)*(y.T@np.log(1-h) + (1-y).T@np.log(1-h))\n",
    "# get_cost(h,y)"
   ]
  },
  {
   "cell_type": "code",
   "execution_count": 12,
   "metadata": {},
   "outputs": [],
   "source": [
    "def gd(X,y,theta,alpha,lam,it):\n",
    "    i=0\n",
    "    while(i<it):\n",
    "        h = sigmoid(X@theta.T).reshape(-1)\n",
    "        theta = theta - alpha/m*(X.T@(h-y)) - lam/m*np.sum(theta[:,1:])\n",
    "#         theta = theta*(1-(alpha*lam/m)) - alpha/m*(X.T@(h-y)) \n",
    "        i+=1\n",
    "    return theta"
   ]
  },
  {
   "cell_type": "markdown",
   "metadata": {},
   "source": [
    "## Without regularization"
   ]
  },
  {
   "cell_type": "code",
   "execution_count": 13,
   "metadata": {},
   "outputs": [
    {
     "name": "stdout",
     "output_type": "stream",
     "text": [
      "Alpha = 0.0001, Accuracy % = 0.5862068965517241\n",
      "Alpha = 0.001, Accuracy % = 0.5862068965517241\n",
      "Alpha = 0.01, Accuracy % = 0.9310344827586207\n",
      "Alpha = 0.1, Accuracy % = 0.9655172413793104\n"
     ]
    }
   ],
   "source": [
    "alphas = [0.0001, 0.001, 0.01, 0.1] #, 1, 10, 100\n",
    "\n",
    "for alpha in alphas:\n",
    "    thetax = gd(X_train,y_train,theta,alpha,0,10000) #Regularization=0\n",
    "\n",
    "    #Testing\n",
    "    h = sigmoid(X_test@thetax.T)\n",
    "    h = (h>=0.5)*1\n",
    "    h = h.reshape(-1)\n",
    "#     err = np.sum(np.abs(h-y))/y.shape[0]\n",
    "    acc = np.sum(h==y_test)/y_test.shape[0]\n",
    "    print(\"Alpha = \" + str(alpha) + \", Accuracy % = \" + str(acc))\n"
   ]
  },
  {
   "cell_type": "markdown",
   "metadata": {},
   "source": [
    "## With regularization"
   ]
  },
  {
   "cell_type": "code",
   "execution_count": 14,
   "metadata": {},
   "outputs": [
    {
     "name": "stdout",
     "output_type": "stream",
     "text": [
      "Lambda = 0\n",
      "Alpha = 0.0001, Accuracy % = 0.5862068965517241\n",
      "Alpha = 0.001, Accuracy % = 0.5862068965517241\n",
      "Alpha = 0.01, Accuracy % = 0.9310344827586207\n",
      "Alpha = 0.1, Accuracy % = 0.9655172413793104\n",
      "--------------------------\n",
      "Lambda = 0.001\n",
      "Alpha = 0.0001, Accuracy % = 0.5862068965517241\n",
      "Alpha = 0.001, Accuracy % = 0.5862068965517241\n",
      "Alpha = 0.01, Accuracy % = 0.9310344827586207\n",
      "Alpha = 0.1, Accuracy % = 0.9655172413793104\n",
      "--------------------------\n",
      "Lambda = 0.01\n",
      "Alpha = 0.0001, Accuracy % = 0.41379310344827586\n",
      "Alpha = 0.001, Accuracy % = 0.9310344827586207\n",
      "Alpha = 0.01, Accuracy % = 0.9655172413793104\n",
      "Alpha = 0.1, Accuracy % = 0.9655172413793104\n",
      "--------------------------\n",
      "Lambda = 0.1\n",
      "Alpha = 0.0001, Accuracy % = 0.41379310344827586\n",
      "Alpha = 0.001, Accuracy % = 0.41379310344827586\n",
      "Alpha = 0.01, Accuracy % = 0.8275862068965517\n",
      "Alpha = 0.1, Accuracy % = 0.9655172413793104\n",
      "--------------------------\n",
      "Lambda = 1\n",
      "Alpha = 0.0001, Accuracy % = 0.41379310344827586\n",
      "Alpha = 0.001, Accuracy % = 0.41379310344827586\n",
      "Alpha = 0.01, Accuracy % = 0.41379310344827586\n",
      "Alpha = 0.1, Accuracy % = 0.8275862068965517\n",
      "--------------------------\n",
      "Lambda = 10\n",
      "Alpha = 0.0001, Accuracy % = 0.41379310344827586\n",
      "Alpha = 0.001, Accuracy % = 0.41379310344827586\n",
      "Alpha = 0.01, Accuracy % = 0.41379310344827586\n",
      "Alpha = 0.1, Accuracy % = 0.41379310344827586\n",
      "--------------------------\n"
     ]
    }
   ],
   "source": [
    "alphas = [0.0001, 0.001, 0.01, 0.1] #, 1, 10, 100\n",
    "lams = [0,0.001,0.01,0.1,1,10]\n",
    "\n",
    "for lam in lams:\n",
    "    print(\"Lambda = \" + str(lam))\n",
    "    for alpha in alphas:\n",
    "        thetax = gd(X_train,y_train,theta,alpha,lam,10000)\n",
    "        \n",
    "        #Testing\n",
    "        h = sigmoid(X_test@thetax.T)\n",
    "        h = (h>=0.5)*1\n",
    "        h = h.reshape(-1)\n",
    "    #     err = np.sum(np.abs(h-y))/y.shape[0]\n",
    "        acc = np.sum(h==y_test)/y_test.shape[0]\n",
    "        print(\"Alpha = \" + str(alpha) + \", Accuracy % = \" + str(acc))\n",
    "    print(\"--------------------------\")"
   ]
  },
  {
   "cell_type": "code",
   "execution_count": 15,
   "metadata": {},
   "outputs": [
    {
     "data": {
      "image/png": "[encoded data removed]",
      "text/plain": [
       "<Figure size 432x288 with 1 Axes>"
      ]
     },
     "metadata": {
      "needs_background": "light"
     },
     "output_type": "display_data"
    },
    {
     "data": {
      "image/png": "[encoded data removed]",
      "text/plain": [
       "<Figure size 432x288 with 1 Axes>"
      ]
     },
     "metadata": {
      "needs_background": "light"
     },
     "output_type": "display_data"
    }
   ],
   "source": [
    "thetax = gd(X_train,y_train,theta,0.01,0.01,10000)\n",
    "\n",
    "h = sigmoid(X_test@thetax.T)\n",
    "h = (h>=0.5)*1\n",
    "h = h.reshape(-1)\n",
    "\n",
    "def plot_graph(X,y,h):\n",
    "    mask = y==1\n",
    "    plt.plot(X[mask,1],X[mask,2],'rx')\n",
    "    plt.plot(X[~mask,1],X[~mask,2],'bx')\n",
    "    plt.title(\"Original Data\")\n",
    "    plt.show()\n",
    "\n",
    "    mask = h==1\n",
    "    plt.plot(X[mask,1],X[mask,2],'rx')\n",
    "    plt.plot(X[~mask,1],X[~mask,2],'bx')\n",
    "    plt.title('Predicted')\n",
    "    plt.show()\n",
    "    \n",
    "plot_graph(X_test,y_test,h)"
   ]
  },
  {
   "cell_type": "markdown",
   "metadata": {},
   "source": [
    "## Conclusion\n",
    "An approximate accuracy of 90% is obtained with alpha 0.01 and lambda 0.01."
   ]
  },
  {
   "cell_type": "markdown",
   "metadata": {},
   "source": [
    "# Newton's Method"
   ]
  },
  {
   "cell_type": "code",
   "execution_count": 29,
   "metadata": {},
   "outputs": [
    {
     "name": "stdout",
     "output_type": "stream",
     "text": [
      "[[0.1708786  0.08514955 0.07445374]\n",
      " [0.08514955 0.05560972 0.03648582]\n",
      " [0.07445374 0.03648582 0.04648059]]\n",
      "Warning: Inverse of a zero matrix is not possible\n",
      "[[0.86964564 0.11829251 0.73017598]]\n"
     ]
    },
    {
     "data": {
      "image/png": "[encoded data removed]",
      "text/plain": [
       "<Figure size 432x288 with 1 Axes>"
      ]
     },
     "metadata": {
      "needs_background": "light"
     },
     "output_type": "display_data"
    },
    {
     "data": {
      "image/png": "[encoded data removed]",
      "text/plain": [
       "<Figure size 432x288 with 1 Axes>"
      ]
     },
     "metadata": {
      "needs_background": "light"
     },
     "output_type": "display_data"
    }
   ],
   "source": [
    "# Newtons method\n",
    "def newton(x,y,m,theta):\n",
    "#     print(x.shape, y.shape, theta.shape)\n",
    "    MAX_ITR = 3;\n",
    "    J = np.zeros([MAX_ITR, 1]);\n",
    "\n",
    "    for i in range(MAX_ITR):\n",
    "        h = get_h(x, theta)\n",
    "#         print(\"h.shape: \" +str(h.shape))\n",
    "        grad = (1/m) * x.T @ (h-y);\n",
    "        H = (1/m) * x.T @ np.diag(h) @ np.diag(1-h) @ x\n",
    "        print(H)\n",
    "#         print(\"H.shape: \" + str(H.shape))\n",
    "\n",
    "        # Calculate J (for testing convergence)\n",
    "    #     J(i) =(1/m)*sum(-y.*log(h) - (1-y).*log(1-h));\n",
    "        J[i] = get_cost(h,y)\n",
    "#         print(np.linalg.inv(H)*grad)\n",
    "        if not np.any(H) != 0:\n",
    "            theta = theta - (np.linalg.inv(H)*grad)[0,:]\n",
    "        else:\n",
    "            print(\"Warning: Inverse of a zero matrix is not possible\")\n",
    "            break\n",
    "    # Display theta\n",
    "\n",
    "    print(theta)\n",
    "\n",
    "    # % Calculate the probability that a student with Score 20 on exam 1 and score 80 on exam 2 \n",
    "    # % will not be admitted\n",
    "    prob = 1 - sigmoid([1, 20, 80]*theta)\n",
    "\n",
    "\n",
    "    # Plot J\n",
    "    plt.plot(np.arange(0,MAX_ITR), J, 'o--')\n",
    "    plt.xlabel('Iteration')\n",
    "    plt.ylabel('J')\n",
    "    plt.show()\n",
    "\n",
    "#     Plot Newton's method result\n",
    "#     Only need 2 points to define a line, so choose two endpoints\n",
    "    plot_x = [min(x[:,2])-2,  max(x[:,2])+2];\n",
    "#     Calculate the decision boundary line\n",
    "    plot_y = (-1/theta[:,2])*(theta[:,1]*plot_x +theta[:,0]);\n",
    "    plt.plot(plot_x, plot_y)\n",
    "#     plt.legend('Admitted', 'Not admitted', 'Decision Boundary')\n",
    "    plt.show()\n",
    "\n",
    "m,n = X_train.shape # n is the shape of original_X.shape[0]+1\n",
    "theta = np.random.rand(1,n)\n",
    "newton(X_train,y_train,m,theta)"
   ]
  },
  {
   "cell_type": "code",
   "execution_count": 30,
   "metadata": {},
   "outputs": [],
   "source": [
    "h_test = sigmoid(X_test@theta.T)>0.5\n",
    "h_test = (h_test>=0.5)*1\n",
    "h_test = h_test.reshape(-1)"
   ]
  },
  {
   "cell_type": "code",
   "execution_count": 31,
   "metadata": {},
   "outputs": [
    {
     "name": "stdout",
     "output_type": "stream",
     "text": [
      "[0.23943662]\n"
     ]
    }
   ],
   "source": [
    "acc = np.sum(h_test == y_test)/h.shape\n",
    "print(acc)"
   ]
  },
  {
   "cell_type": "code",
   "execution_count": null,
   "metadata": {},
   "outputs": [],
   "source": []
  },
  {
   "cell_type": "code",
   "execution_count": null,
   "metadata": {},
   "outputs": [],
   "source": []
  },
  {
   "cell_type": "code",
   "execution_count": null,
   "metadata": {},
   "outputs": [],
   "source": []
  },
  {
   "cell_type": "code",
   "execution_count": 19,
   "metadata": {},
   "outputs": [
    {
     "name": "stdout",
     "output_type": "stream",
     "text": [
      "(29, 3) (29,) (1, 3)\n"
     ]
    }
   ],
   "source": [
    "print(X_test.shape, h.shape, theta.shape)"
   ]
  },
  {
   "cell_type": "code",
   "execution_count": 20,
   "metadata": {
    "scrolled": true
   },
   "outputs": [
    {
     "data": {
      "text/plain": [
       "<function numpy.linalg.lstsq(a, b, rcond='warn')>"
      ]
     },
     "execution_count": 20,
     "metadata": {},
     "output_type": "execute_result"
    }
   ],
   "source": [
    "np.linalg.lstsq"
   ]
  },
  {
   "cell_type": "code",
   "execution_count": 21,
   "metadata": {},
   "outputs": [
    {
     "name": "stdout",
     "output_type": "stream",
     "text": [
      "(29, 29)\n",
      "(29,)\n",
      "(29,)\n",
      "[[0 0 0 0 0 0 0 0 0 0 0 0 0 0 0 0 0 0 0 0 0 0 0 0 0 0 0 0 0]\n",
      " [0 0 0 0 0 0 0 0 0 0 0 0 0 0 0 0 0 0 0 0 0 0 0 0 0 0 0 0 0]\n",
      " [0 0 1 0 0 0 0 0 0 0 0 0 0 0 0 0 0 0 0 0 0 0 0 0 0 0 0 0 0]\n",
      " [0 0 0 0 0 0 0 0 0 0 0 0 0 0 0 0 0 0 0 0 0 0 0 0 0 0 0 0 0]\n",
      " [0 0 0 0 0 0 0 0 0 0 0 0 0 0 0 0 0 0 0 0 0 0 0 0 0 0 0 0 0]\n",
      " [0 0 0 0 0 1 0 0 0 0 0 0 0 0 0 0 0 0 0 0 0 0 0 0 0 0 0 0 0]\n",
      " [0 0 0 0 0 0 0 0 0 0 0 0 0 0 0 0 0 0 0 0 0 0 0 0 0 0 0 0 0]\n",
      " [0 0 0 0 0 0 0 0 0 0 0 0 0 0 0 0 0 0 0 0 0 0 0 0 0 0 0 0 0]\n",
      " [0 0 0 0 0 0 0 0 0 0 0 0 0 0 0 0 0 0 0 0 0 0 0 0 0 0 0 0 0]\n",
      " [0 0 0 0 0 0 0 0 0 1 0 0 0 0 0 0 0 0 0 0 0 0 0 0 0 0 0 0 0]\n",
      " [0 0 0 0 0 0 0 0 0 0 0 0 0 0 0 0 0 0 0 0 0 0 0 0 0 0 0 0 0]\n",
      " [0 0 0 0 0 0 0 0 0 0 0 0 0 0 0 0 0 0 0 0 0 0 0 0 0 0 0 0 0]\n",
      " [0 0 0 0 0 0 0 0 0 0 0 0 1 0 0 0 0 0 0 0 0 0 0 0 0 0 0 0 0]\n",
      " [0 0 0 0 0 0 0 0 0 0 0 0 0 1 0 0 0 0 0 0 0 0 0 0 0 0 0 0 0]\n",
      " [0 0 0 0 0 0 0 0 0 0 0 0 0 0 1 0 0 0 0 0 0 0 0 0 0 0 0 0 0]\n",
      " [0 0 0 0 0 0 0 0 0 0 0 0 0 0 0 1 0 0 0 0 0 0 0 0 0 0 0 0 0]\n",
      " [0 0 0 0 0 0 0 0 0 0 0 0 0 0 0 0 1 0 0 0 0 0 0 0 0 0 0 0 0]\n",
      " [0 0 0 0 0 0 0 0 0 0 0 0 0 0 0 0 0 0 0 0 0 0 0 0 0 0 0 0 0]\n",
      " [0 0 0 0 0 0 0 0 0 0 0 0 0 0 0 0 0 0 1 0 0 0 0 0 0 0 0 0 0]\n",
      " [0 0 0 0 0 0 0 0 0 0 0 0 0 0 0 0 0 0 0 1 0 0 0 0 0 0 0 0 0]\n",
      " [0 0 0 0 0 0 0 0 0 0 0 0 0 0 0 0 0 0 0 0 1 0 0 0 0 0 0 0 0]\n",
      " [0 0 0 0 0 0 0 0 0 0 0 0 0 0 0 0 0 0 0 0 0 1 0 0 0 0 0 0 0]\n",
      " [0 0 0 0 0 0 0 0 0 0 0 0 0 0 0 0 0 0 0 0 0 0 1 0 0 0 0 0 0]\n",
      " [0 0 0 0 0 0 0 0 0 0 0 0 0 0 0 0 0 0 0 0 0 0 0 0 0 0 0 0 0]\n",
      " [0 0 0 0 0 0 0 0 0 0 0 0 0 0 0 0 0 0 0 0 0 0 0 0 1 0 0 0 0]\n",
      " [0 0 0 0 0 0 0 0 0 0 0 0 0 0 0 0 0 0 0 0 0 0 0 0 0 1 0 0 0]\n",
      " [0 0 0 0 0 0 0 0 0 0 0 0 0 0 0 0 0 0 0 0 0 0 0 0 0 0 1 0 0]\n",
      " [0 0 0 0 0 0 0 0 0 0 0 0 0 0 0 0 0 0 0 0 0 0 0 0 0 0 0 1 0]\n",
      " [0 0 0 0 0 0 0 0 0 0 0 0 0 0 0 0 0 0 0 0 0 0 0 0 0 0 0 0 1]]\n"
     ]
    }
   ],
   "source": [
    "print(np.diag(h).shape)\n",
    "print(h.shape)\n",
    "h = h.reshape(-1)\n",
    "print(h.shape)\n",
    "print(np.diag(h))"
   ]
  },
  {
   "cell_type": "code",
   "execution_count": 22,
   "metadata": {},
   "outputs": [
    {
     "data": {
      "text/plain": [
       "(100,)"
      ]
     },
     "execution_count": 22,
     "metadata": {},
     "output_type": "execute_result"
    }
   ],
   "source": [
    "y.shape"
   ]
  },
  {
   "cell_type": "code",
   "execution_count": 23,
   "metadata": {},
   "outputs": [
    {
     "name": "stdout",
     "output_type": "stream",
     "text": [
      "[[0.6489352  0.         0.         ... 0.         0.         0.        ]\n",
      " [0.         0.62601703 0.         ... 0.         0.         0.        ]\n",
      " [0.         0.         0.72278906 ... 0.         0.         0.        ]\n",
      " ...\n",
      " [0.         0.         0.         ... 0.67379391 0.         0.        ]\n",
      " [0.         0.         0.         ... 0.         0.70442403 0.        ]\n",
      " [0.         0.         0.         ... 0.         0.         0.76003213]]\n"
     ]
    }
   ],
   "source": [
    "h = get_h(X_train, theta)\n",
    "print(np.diag(h))"
   ]
  },
  {
   "cell_type": "code",
   "execution_count": 24,
   "metadata": {},
   "outputs": [
    {
     "name": "stdout",
     "output_type": "stream",
     "text": [
      "(71,) (71,)\n"
     ]
    }
   ],
   "source": [
    "print(h.shape, (1-h).shape)"
   ]
  },
  {
   "cell_type": "code",
   "execution_count": 25,
   "metadata": {},
   "outputs": [
    {
     "data": {
      "text/plain": [
       "array([[987.2590487 , 495.44610573, 464.1330613 ],\n",
       "       [495.44610573, 322.62256138, 229.63388604],\n",
       "       [464.1330613 , 229.63388604, 302.51747862]])"
      ]
     },
     "execution_count": 25,
     "metadata": {},
     "output_type": "execute_result"
    }
   ],
   "source": [
    "h@(1-h).T*X_train.T@X_train"
   ]
  },
  {
   "cell_type": "code",
   "execution_count": 26,
   "metadata": {},
   "outputs": [
    {
     "name": "stdout",
     "output_type": "stream",
     "text": [
      "(71, 3)\n"
     ]
    }
   ],
   "source": [
    "print(X_train.shape)"
   ]
  },
  {
   "cell_type": "code",
   "execution_count": 27,
   "metadata": {},
   "outputs": [
    {
     "name": "stdout",
     "output_type": "stream",
     "text": [
      "[ True  True  True  True  True  True  True  True  True  True  True  True\n",
      "  True  True  True  True  True  True  True  True  True  True  True  True\n",
      "  True  True  True  True  True  True  True  True  True  True  True  True\n",
      "  True  True  True  True  True  True  True  True  True  True  True  True\n",
      "  True  True  True  True  True  True  True  True  True  True  True  True\n",
      "  True  True  True  True  True  True  True  True  True  True  True]\n"
     ]
    }
   ],
   "source": [
    "print(h!=y_train)"
   ]
  },
  {
   "cell_type": "code",
   "execution_count": 28,
   "metadata": {},
   "outputs": [
    {
     "name": "stdout",
     "output_type": "stream",
     "text": [
      "(71,) (71,)\n"
     ]
    }
   ],
   "source": [
    "print(h.shape, y_train.shape)"
   ]
  },
  {
   "cell_type": "code",
   "execution_count": null,
   "metadata": {},
   "outputs": [],
   "source": []
  }
 ],
 "metadata": {
  "kernelspec": {
   "display_name": "Python 3",
   "language": "python",
   "name": "python3"
  },
  "language_info": {
   "codemirror_mode": {
    "name": "ipython",
    "version": 3
   },
   "file_extension": ".py",
   "mimetype": "text/x-python",
   "name": "python",
   "nbconvert_exporter": "python",
   "pygments_lexer": "ipython3",
   "version": "3.6.8"
  }
 },
 "nbformat": 4,
 "nbformat_minor": 2
}

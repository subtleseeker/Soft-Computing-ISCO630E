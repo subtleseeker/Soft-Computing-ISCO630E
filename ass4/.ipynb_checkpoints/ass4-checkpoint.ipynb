{
 "cells": [
  {
   "cell_type": "code",
   "execution_count": 2,
   "metadata": {},
   "outputs": [],
   "source": [
    "import numpy as np\n",
    "import pandas as pd\n",
    "import matplotlib.pyplot as plt"
   ]
  },
  {
   "cell_type": "code",
   "execution_count": 6,
   "metadata": {},
   "outputs": [
    {
     "data": {
      "text/html": [
       "<div>\n",
       "<style scoped>\n",
       "    .dataframe tbody tr th:only-of-type {\n",
       "        vertical-align: middle;\n",
       "    }\n",
       "\n",
       "    .dataframe tbody tr th {\n",
       "        vertical-align: top;\n",
       "    }\n",
       "\n",
       "    .dataframe thead th {\n",
       "        text-align: right;\n",
       "    }\n",
       "</style>\n",
       "<table border=\"1\" class=\"dataframe\">\n",
       "  <thead>\n",
       "    <tr style=\"text-align: right;\">\n",
       "      <th></th>\n",
       "      <th>price</th>\n",
       "      <th>lotsize</th>\n",
       "      <th>bedrooms</th>\n",
       "      <th>bathrms</th>\n",
       "      <th>stories</th>\n",
       "      <th>driveway</th>\n",
       "      <th>recroom</th>\n",
       "      <th>fullbase</th>\n",
       "      <th>gashw</th>\n",
       "      <th>airco</th>\n",
       "      <th>garagepl</th>\n",
       "      <th>prefarea</th>\n",
       "    </tr>\n",
       "  </thead>\n",
       "  <tbody>\n",
       "    <tr>\n",
       "      <th>1</th>\n",
       "      <td>42000.0</td>\n",
       "      <td>5850</td>\n",
       "      <td>3</td>\n",
       "      <td>1</td>\n",
       "      <td>2</td>\n",
       "      <td>yes</td>\n",
       "      <td>no</td>\n",
       "      <td>yes</td>\n",
       "      <td>no</td>\n",
       "      <td>no</td>\n",
       "      <td>1</td>\n",
       "      <td>no</td>\n",
       "    </tr>\n",
       "    <tr>\n",
       "      <th>2</th>\n",
       "      <td>38500.0</td>\n",
       "      <td>4000</td>\n",
       "      <td>2</td>\n",
       "      <td>1</td>\n",
       "      <td>1</td>\n",
       "      <td>yes</td>\n",
       "      <td>no</td>\n",
       "      <td>no</td>\n",
       "      <td>no</td>\n",
       "      <td>no</td>\n",
       "      <td>0</td>\n",
       "      <td>no</td>\n",
       "    </tr>\n",
       "    <tr>\n",
       "      <th>3</th>\n",
       "      <td>49500.0</td>\n",
       "      <td>3060</td>\n",
       "      <td>3</td>\n",
       "      <td>1</td>\n",
       "      <td>1</td>\n",
       "      <td>yes</td>\n",
       "      <td>no</td>\n",
       "      <td>no</td>\n",
       "      <td>no</td>\n",
       "      <td>no</td>\n",
       "      <td>0</td>\n",
       "      <td>no</td>\n",
       "    </tr>\n",
       "    <tr>\n",
       "      <th>4</th>\n",
       "      <td>60500.0</td>\n",
       "      <td>6650</td>\n",
       "      <td>3</td>\n",
       "      <td>1</td>\n",
       "      <td>2</td>\n",
       "      <td>yes</td>\n",
       "      <td>yes</td>\n",
       "      <td>no</td>\n",
       "      <td>no</td>\n",
       "      <td>no</td>\n",
       "      <td>0</td>\n",
       "      <td>no</td>\n",
       "    </tr>\n",
       "    <tr>\n",
       "      <th>5</th>\n",
       "      <td>61000.0</td>\n",
       "      <td>6360</td>\n",
       "      <td>2</td>\n",
       "      <td>1</td>\n",
       "      <td>1</td>\n",
       "      <td>yes</td>\n",
       "      <td>no</td>\n",
       "      <td>no</td>\n",
       "      <td>no</td>\n",
       "      <td>no</td>\n",
       "      <td>0</td>\n",
       "      <td>no</td>\n",
       "    </tr>\n",
       "  </tbody>\n",
       "</table>\n",
       "</div>"
      ],
      "text/plain": [
       "     price  lotsize  bedrooms  bathrms  stories driveway recroom fullbase  \\\n",
       "1  42000.0     5850         3        1        2      yes      no      yes   \n",
       "2  38500.0     4000         2        1        1      yes      no       no   \n",
       "3  49500.0     3060         3        1        1      yes      no       no   \n",
       "4  60500.0     6650         3        1        2      yes     yes       no   \n",
       "5  61000.0     6360         2        1        1      yes      no       no   \n",
       "\n",
       "  gashw airco  garagepl prefarea  \n",
       "1    no    no         1       no  \n",
       "2    no    no         0       no  \n",
       "3    no    no         0       no  \n",
       "4    no    no         0       no  \n",
       "5    no    no         0       no  "
      ]
     },
     "execution_count": 6,
     "metadata": {},
     "output_type": "execute_result"
    }
   ],
   "source": [
    "df = pd.read_csv('Housing.csv', index_col='Unnamed: 0')\n",
    "df.head()"
   ]
  },
  {
   "cell_type": "code",
   "execution_count": 3,
   "metadata": {},
   "outputs": [
    {
     "data": {
      "text/plain": [
       "(100, 3)"
      ]
     },
     "execution_count": 3,
     "metadata": {},
     "output_type": "execute_result"
    }
   ],
   "source": [
    "df.drop([''])\n",
    "df.shape"
   ]
  },
  {
   "cell_type": "code",
   "execution_count": 4,
   "metadata": {},
   "outputs": [
    {
     "name": "stdout",
     "output_type": "stream",
     "text": [
      "(100, 2) (100,)\n"
     ]
    }
   ],
   "source": [
    "y = df['adm'].values\n",
    "X = df.drop(['adm'], axis=1).values\n",
    "print(X.shape, y.shape)"
   ]
  },
  {
   "cell_type": "code",
   "execution_count": 5,
   "metadata": {},
   "outputs": [
    {
     "name": "stdout",
     "output_type": "stream",
     "text": [
      "(69, 2) (31, 2)\n"
     ]
    }
   ],
   "source": [
    "msk = np.random.rand(len(X)) < 0.7\n",
    "X_train = X[msk]\n",
    "X_test = X[~msk]\n",
    "y_train = y[msk]\n",
    "y_test = y[~msk]\n",
    "print(X_train.shape, X_test.shape)"
   ]
  },
  {
   "cell_type": "code",
   "execution_count": 6,
   "metadata": {},
   "outputs": [
    {
     "data": {
      "image/png": "[encoded data removed]",
      "text/plain": [
       "<Figure size 432x288 with 1 Axes>"
      ]
     },
     "metadata": {
      "needs_background": "light"
     },
     "output_type": "display_data"
    }
   ],
   "source": [
    "for i in range(X_train.shape[0]):\n",
    "    if y_train[i]==1:\n",
    "        plt.plot(X_train[i,0],X_train[i,1],'rx')\n",
    "    else:\n",
    "        plt.plot(X_train[i,0],X_train[i,1],'bx')\n",
    "plt.show()"
   ]
  },
  {
   "cell_type": "code",
   "execution_count": 7,
   "metadata": {},
   "outputs": [],
   "source": [
    "#Normalizing\n",
    "X_train = (X_train-np.min(X_train,axis=0))/(np.max(X_train,axis=0)-np.min(X_train,axis=0))\n",
    "X_test = (X_test-np.min(X_test,axis=0))/(np.max(X_test,axis=0)-np.min(X_test,axis=0))"
   ]
  },
  {
   "cell_type": "code",
   "execution_count": 8,
   "metadata": {},
   "outputs": [
    {
     "name": "stdout",
     "output_type": "stream",
     "text": [
      "(69, 3)\n"
     ]
    }
   ],
   "source": [
    "#Adding row for bias\n",
    "X_train = np.concatenate( (np.ones((X_train.shape[0],1)),X_train) , axis=1)\n",
    "X_test = np.concatenate( (np.ones((X_test.shape[0],1)),X_test) , axis=1)\n",
    "print(X_train.shape)"
   ]
  },
  {
   "cell_type": "code",
   "execution_count": 9,
   "metadata": {},
   "outputs": [],
   "source": [
    "def sigmoid(z):\n",
    "    return 1/(1+np.exp(-z))\n",
    "def sig_prime(z):\n",
    "    return sigmoid(z)*(1-sigmoid(z))"
   ]
  },
  {
   "cell_type": "code",
   "execution_count": 10,
   "metadata": {},
   "outputs": [
    {
     "name": "stdout",
     "output_type": "stream",
     "text": [
      "[[0.06101973 0.54146367 0.24840797]]\n",
      "(69,)\n"
     ]
    }
   ],
   "source": [
    "m,n = X_train.shape # n is the shape of original_X.shape[0]+1\n",
    "theta = np.random.rand(1,n)\n",
    "print(theta)\n",
    "h = sigmoid(X_train@theta.T)\n",
    "h = h.reshape(-1)\n",
    "print(h.shape)"
   ]
  },
  {
   "cell_type": "code",
   "execution_count": 11,
   "metadata": {},
   "outputs": [],
   "source": [
    "def get_cost(h,y):\n",
    "    return -(1/m)*(y.T@np.log(1-h) + (1-y).T@np.log(1-h))\n",
    "# get_cost(h,y)"
   ]
  },
  {
   "cell_type": "code",
   "execution_count": 12,
   "metadata": {},
   "outputs": [],
   "source": [
    "def gd(X,y,theta,alpha,lam,it):\n",
    "    i=0\n",
    "    while(i<it):\n",
    "        h = sigmoid(X@theta.T).reshape(-1)\n",
    "        theta = theta - alpha/m*(X.T@(h-y)) - lam/m*np.sum(theta[:,1:])\n",
    "#         theta = theta*(1-(alpha*lam/m)) - alpha/m*(X.T@(h-y)) \n",
    "        i+=1\n",
    "    return theta"
   ]
  },
  {
   "cell_type": "markdown",
   "metadata": {},
   "source": [
    "## Without regularization"
   ]
  },
  {
   "cell_type": "code",
   "execution_count": 13,
   "metadata": {},
   "outputs": [
    {
     "name": "stdout",
     "output_type": "stream",
     "text": [
      "Alpha = 0.0001, Accuracy % = 0.5806451612903226\n",
      "Alpha = 0.001, Accuracy % = 0.6774193548387096\n",
      "Alpha = 0.01, Accuracy % = 0.9354838709677419\n",
      "Alpha = 0.1, Accuracy % = 0.9032258064516129\n"
     ]
    }
   ],
   "source": [
    "alphas = [0.0001, 0.001, 0.01, 0.1] #, 1, 10, 100\n",
    "\n",
    "for alpha in alphas:\n",
    "    thetax = gd(X_train,y_train,theta,alpha,0,10000) #Regularization=0\n",
    "\n",
    "    #Testing\n",
    "    h = sigmoid(X_test@thetax.T)\n",
    "    h = (h>=0.5)*1\n",
    "    h = h.reshape(-1)\n",
    "#     err = np.sum(np.abs(h-y))/y.shape[0]\n",
    "    acc = np.sum(h==y_test)/y_test.shape[0]\n",
    "    print(\"Alpha = \" + str(alpha) + \", Accuracy % = \" + str(acc))\n"
   ]
  },
  {
   "cell_type": "markdown",
   "metadata": {},
   "source": [
    "## With regularization"
   ]
  },
  {
   "cell_type": "code",
   "execution_count": 14,
   "metadata": {},
   "outputs": [
    {
     "name": "stdout",
     "output_type": "stream",
     "text": [
      "Lambda = 0\n",
      "Alpha = 0.0001, Accuracy % = 0.5806451612903226\n",
      "Alpha = 0.001, Accuracy % = 0.6774193548387096\n",
      "Alpha = 0.01, Accuracy % = 0.9354838709677419\n",
      "Alpha = 0.1, Accuracy % = 0.9032258064516129\n",
      "--------------------------\n",
      "Lambda = 0.001\n",
      "Alpha = 0.0001, Accuracy % = 0.6129032258064516\n",
      "Alpha = 0.001, Accuracy % = 0.6774193548387096\n",
      "Alpha = 0.01, Accuracy % = 0.9032258064516129\n",
      "Alpha = 0.1, Accuracy % = 0.9032258064516129\n",
      "--------------------------\n",
      "Lambda = 0.01\n",
      "Alpha = 0.0001, Accuracy % = 0.41935483870967744\n",
      "Alpha = 0.001, Accuracy % = 0.8387096774193549\n",
      "Alpha = 0.01, Accuracy % = 0.9032258064516129\n",
      "Alpha = 0.1, Accuracy % = 0.9032258064516129\n",
      "--------------------------\n",
      "Lambda = 0.1\n",
      "Alpha = 0.0001, Accuracy % = 0.41935483870967744\n",
      "Alpha = 0.001, Accuracy % = 0.41935483870967744\n",
      "Alpha = 0.01, Accuracy % = 0.5806451612903226\n",
      "Alpha = 0.1, Accuracy % = 0.9032258064516129\n",
      "--------------------------\n",
      "Lambda = 1\n",
      "Alpha = 0.0001, Accuracy % = 0.41935483870967744\n",
      "Alpha = 0.001, Accuracy % = 0.41935483870967744\n",
      "Alpha = 0.01, Accuracy % = 0.41935483870967744\n",
      "Alpha = 0.1, Accuracy % = 0.5806451612903226\n",
      "--------------------------\n",
      "Lambda = 10\n",
      "Alpha = 0.0001, Accuracy % = 0.41935483870967744\n",
      "Alpha = 0.001, Accuracy % = 0.41935483870967744\n",
      "Alpha = 0.01, Accuracy % = 0.41935483870967744\n",
      "Alpha = 0.1, Accuracy % = 0.41935483870967744\n",
      "--------------------------\n"
     ]
    }
   ],
   "source": [
    "alphas = [0.0001, 0.001, 0.01, 0.1] #, 1, 10, 100\n",
    "lams = [0,0.001,0.01,0.1,1,10]\n",
    "\n",
    "for lam in lams:\n",
    "    print(\"Lambda = \" + str(lam))\n",
    "    for alpha in alphas:\n",
    "        thetax = gd(X_train,y_train,theta,alpha,lam,10000)\n",
    "        \n",
    "        #Testing\n",
    "        h = sigmoid(X_test@thetax.T)\n",
    "        h = (h>=0.5)*1\n",
    "        h = h.reshape(-1)\n",
    "    #     err = np.sum(np.abs(h-y))/y.shape[0]\n",
    "        acc = np.sum(h==y_test)/y_test.shape[0]\n",
    "        print(\"Alpha = \" + str(alpha) + \", Accuracy % = \" + str(acc))\n",
    "    print(\"--------------------------\")"
   ]
  },
  {
   "cell_type": "code",
   "execution_count": 17,
   "metadata": {},
   "outputs": [
    {
     "data": {
      "image/png": "[encoded data removed]",
      "text/plain": [
       "<Figure size 432x288 with 1 Axes>"
      ]
     },
     "metadata": {
      "needs_background": "light"
     },
     "output_type": "display_data"
    },
    {
     "data": {
      "image/png": "[encoded data removed]",
      "text/plain": [
       "<Figure size 432x288 with 1 Axes>"
      ]
     },
     "metadata": {
      "needs_background": "light"
     },
     "output_type": "display_data"
    }
   ],
   "source": [
    "thetax = gd(X_train,y_train,theta,0.01,0.01,10000)\n",
    "\n",
    "h = sigmoid(X_test@thetax.T)\n",
    "h = (h>=0.5)*1\n",
    "h = h.reshape(-1)\n",
    "\n",
    "def plot_graph(X,y,h):\n",
    "    mask = y==1\n",
    "    plt.plot(X[mask,1],X[mask,2],'rx')\n",
    "    plt.plot(X[~mask,1],X[~mask,2],'bx')\n",
    "    plt.title(\"Original Data\")\n",
    "    plt.show()\n",
    "\n",
    "    mask = h==1\n",
    "    plt.plot(X[mask,1],X[mask,2],'rx')\n",
    "    plt.plot(X[~mask,1],X[~mask,2],'bx')\n",
    "    plt.title('Predicted')\n",
    "    plt.show()\n",
    "    \n",
    "plot_graph(X_test,y_test,h)"
   ]
  },
  {
   "cell_type": "markdown",
   "metadata": {},
   "source": [
    "## Conclusion\n",
    "An approximate accuracy of 90% is obtained with alpha 0.01 and lambda 0.01."
   ]
  },
  {
   "cell_type": "code",
   "execution_count": null,
   "metadata": {},
   "outputs": [],
   "source": []
  }
 ],
 "metadata": {
  "kernelspec": {
   "display_name": "Python 3",
   "language": "python",
   "name": "python3"
  },
  "language_info": {
   "codemirror_mode": {
    "name": "ipython",
    "version": 3
   },
   "file_extension": ".py",
   "mimetype": "text/x-python",
   "name": "python",
   "nbconvert_exporter": "python",
   "pygments_lexer": "ipython3",
   "version": "3.6.8"
  }
 },
 "nbformat": 4,
 "nbformat_minor": 2
}

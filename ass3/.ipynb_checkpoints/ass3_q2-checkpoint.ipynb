{
 "cells": [
  {
   "cell_type": "code",
   "execution_count": 1,
   "metadata": {},
   "outputs": [],
   "source": [
    "import numpy as np\n",
    "import pandas as pd\n",
    "import matplotlib.pyplot as plt"
   ]
  },
  {
   "cell_type": "code",
   "execution_count": 2,
   "metadata": {},
   "outputs": [
    {
     "data": {
      "text/html": [
       "<div>\n",
       "<style scoped>\n",
       "    .dataframe tbody tr th:only-of-type {\n",
       "        vertical-align: middle;\n",
       "    }\n",
       "\n",
       "    .dataframe tbody tr th {\n",
       "        vertical-align: top;\n",
       "    }\n",
       "\n",
       "    .dataframe thead th {\n",
       "        text-align: right;\n",
       "    }\n",
       "</style>\n",
       "<table border=\"1\" class=\"dataframe\">\n",
       "  <thead>\n",
       "    <tr style=\"text-align: right;\">\n",
       "      <th></th>\n",
       "      <th>exam1</th>\n",
       "      <th>exam2</th>\n",
       "      <th>adm</th>\n",
       "    </tr>\n",
       "  </thead>\n",
       "  <tbody>\n",
       "    <tr>\n",
       "      <th>0</th>\n",
       "      <td>34.623660</td>\n",
       "      <td>78.024693</td>\n",
       "      <td>0</td>\n",
       "    </tr>\n",
       "    <tr>\n",
       "      <th>1</th>\n",
       "      <td>30.286711</td>\n",
       "      <td>43.894998</td>\n",
       "      <td>0</td>\n",
       "    </tr>\n",
       "    <tr>\n",
       "      <th>2</th>\n",
       "      <td>35.847409</td>\n",
       "      <td>72.902198</td>\n",
       "      <td>0</td>\n",
       "    </tr>\n",
       "    <tr>\n",
       "      <th>3</th>\n",
       "      <td>60.182599</td>\n",
       "      <td>86.308552</td>\n",
       "      <td>1</td>\n",
       "    </tr>\n",
       "    <tr>\n",
       "      <th>4</th>\n",
       "      <td>79.032736</td>\n",
       "      <td>75.344376</td>\n",
       "      <td>1</td>\n",
       "    </tr>\n",
       "  </tbody>\n",
       "</table>\n",
       "</div>"
      ],
      "text/plain": [
       "       exam1      exam2  adm\n",
       "0  34.623660  78.024693    0\n",
       "1  30.286711  43.894998    0\n",
       "2  35.847409  72.902198    0\n",
       "3  60.182599  86.308552    1\n",
       "4  79.032736  75.344376    1"
      ]
     },
     "execution_count": 2,
     "metadata": {},
     "output_type": "execute_result"
    }
   ],
   "source": [
    "df = pd.read_csv('exam.txt', names = ['exam1', 'exam2', 'adm'])\n",
    "df.head()"
   ]
  },
  {
   "cell_type": "code",
   "execution_count": 3,
   "metadata": {},
   "outputs": [
    {
     "data": {
      "text/plain": [
       "(100, 3)"
      ]
     },
     "execution_count": 3,
     "metadata": {},
     "output_type": "execute_result"
    }
   ],
   "source": [
    "df.shape"
   ]
  },
  {
   "cell_type": "code",
   "execution_count": 4,
   "metadata": {},
   "outputs": [
    {
     "name": "stdout",
     "output_type": "stream",
     "text": [
      "(100, 2) (100,)\n"
     ]
    }
   ],
   "source": [
    "y = df['adm'].values\n",
    "X = df.drop(['adm'], axis=1).values\n",
    "print(X.shape, y.shape)"
   ]
  },
  {
   "cell_type": "code",
   "execution_count": 5,
   "metadata": {},
   "outputs": [
    {
     "name": "stdout",
     "output_type": "stream",
     "text": [
      "(65, 2) (35, 2)\n"
     ]
    }
   ],
   "source": [
    "msk = np.random.rand(len(X)) < 0.7\n",
    "X_train = X[msk]\n",
    "X_test = X[~msk]\n",
    "y_train = y[msk]\n",
    "y_test = y[~msk]\n",
    "print(X_train.shape, X_test.shape)"
   ]
  },
  {
   "cell_type": "code",
   "execution_count": 6,
   "metadata": {},
   "outputs": [
    {
     "data": {
      "image/png": "[encoded data removed]",
      "text/plain": [
       "<Figure size 432x288 with 1 Axes>"
      ]
     },
     "metadata": {
      "needs_background": "light"
     },
     "output_type": "display_data"
    }
   ],
   "source": [
    "for i in range(X_train.shape[0]):\n",
    "    if y_train[i]==1:\n",
    "        plt.plot(X_train[i,0],X_train[i,1],'rx')\n",
    "    else:\n",
    "        plt.plot(X_train[i,0],X_train[i,1],'bx')\n",
    "plt.show()"
   ]
  },
  {
   "cell_type": "code",
   "execution_count": 7,
   "metadata": {},
   "outputs": [],
   "source": [
    "#Normalizing\n",
    "X_train = (X_train-np.min(X_train,axis=0))/(np.max(X_train,axis=0)-np.min(X_train,axis=0))\n",
    "X_test = (X_test-np.min(X_test,axis=0))/(np.max(X_test,axis=0)-np.min(X_test,axis=0))"
   ]
  },
  {
   "cell_type": "code",
   "execution_count": 8,
   "metadata": {},
   "outputs": [
    {
     "name": "stdout",
     "output_type": "stream",
     "text": [
      "(65, 3)\n"
     ]
    }
   ],
   "source": [
    "#Adding row for bias\n",
    "X_train = np.concatenate( (np.ones((X_train.shape[0],1)),X_train) , axis=1)\n",
    "X_test = np.concatenate( (np.ones((X_test.shape[0],1)),X_test) , axis=1)\n",
    "print(X_train.shape)"
   ]
  },
  {
   "cell_type": "code",
   "execution_count": 9,
   "metadata": {},
   "outputs": [],
   "source": [
    "def sigmoid(z):\n",
    "    return 1/(1+np.exp(-z))\n",
    "def sig_prime(z):\n",
    "    return sigmoid(z)*(1-sigmoid(z))"
   ]
  },
  {
   "cell_type": "code",
   "execution_count": 10,
   "metadata": {},
   "outputs": [
    {
     "name": "stdout",
     "output_type": "stream",
     "text": [
      "[[0.06071433 0.36857964 0.71411799]]\n",
      "(65,)\n"
     ]
    }
   ],
   "source": [
    "m,n = X_train.shape # n is the shape of original_X.shape[0]+1\n",
    "theta = np.random.rand(1,n)\n",
    "print(theta)\n",
    "h = sigmoid(X_train@theta.T)\n",
    "h = h.reshape(-1)\n",
    "print(h.shape)"
   ]
  },
  {
   "cell_type": "code",
   "execution_count": 11,
   "metadata": {},
   "outputs": [],
   "source": [
    "def get_cost(h,y):\n",
    "    return -(1/m)*(y.T@np.log(1-h) + (1-y).T@np.log(1-h))\n",
    "# get_cost(h,y)"
   ]
  },
  {
   "cell_type": "code",
   "execution_count": 44,
   "metadata": {},
   "outputs": [],
   "source": [
    "def gd(X,y,theta,alpha,lam,it):\n",
    "    i=0\n",
    "    while(i<it):\n",
    "        h = sigmoid(X@theta.T).reshape(-1)\n",
    "        theta = theta - alpha/m*(X.T@(h-y)) - lam/m*np.sum(theta[:,1:])\n",
    "#         theta = theta*(1-(alpha*lam/m)) - alpha/m*(X.T@(h-y)) \n",
    "        i+=1\n",
    "    return theta"
   ]
  },
  {
   "cell_type": "markdown",
   "metadata": {},
   "source": [
    "## Without regularization"
   ]
  },
  {
   "cell_type": "code",
   "execution_count": 45,
   "metadata": {},
   "outputs": [
    {
     "name": "stdout",
     "output_type": "stream",
     "text": [
      "Alpha = 0.0001, Accuracy % = 0.42857142857142855\n",
      "Alpha = 0.001, Accuracy % = 0.42857142857142855\n",
      "Alpha = 0.01, Accuracy % = 0.7714285714285715\n",
      "Alpha = 0.1, Accuracy % = 0.8\n"
     ]
    }
   ],
   "source": [
    "alphas = [0.0001, 0.001, 0.01, 0.1] #, 1, 10, 100\n",
    "\n",
    "for alpha in alphas:\n",
    "    thetax = gd(X_train,y_train,theta,alpha,0,10000) #Regularization=0\n",
    "\n",
    "    #Testing\n",
    "    h = sigmoid(X_test@thetax.T)\n",
    "    h = (h>=0.5)*1\n",
    "    h = h.reshape(-1)\n",
    "#     err = np.sum(np.abs(h-y))/y.shape[0]\n",
    "    acc = np.sum(h==y_test)/y_test.shape[0]\n",
    "    print(\"Alpha = \" + str(alpha) + \", Accuracy % = \" + str(acc))\n"
   ]
  },
  {
   "cell_type": "markdown",
   "metadata": {},
   "source": [
    "## With regularization"
   ]
  },
  {
   "cell_type": "code",
   "execution_count": 46,
   "metadata": {},
   "outputs": [
    {
     "name": "stdout",
     "output_type": "stream",
     "text": [
      "Lambda = 0\n",
      "Alpha = 0.0001, Accuracy % = 0.42857142857142855\n",
      "Alpha = 0.001, Accuracy % = 0.42857142857142855\n",
      "Alpha = 0.01, Accuracy % = 0.7714285714285715\n",
      "Alpha = 0.1, Accuracy % = 0.8\n",
      "--------------------------\n",
      "Lambda = 0.001\n",
      "Alpha = 0.0001, Accuracy % = 0.42857142857142855\n",
      "Alpha = 0.001, Accuracy % = 0.45714285714285713\n",
      "Alpha = 0.01, Accuracy % = 0.7714285714285715\n",
      "Alpha = 0.1, Accuracy % = 0.8\n",
      "--------------------------\n",
      "Lambda = 0.01\n",
      "Alpha = 0.0001, Accuracy % = 0.5714285714285714\n",
      "Alpha = 0.001, Accuracy % = 0.6285714285714286\n",
      "Alpha = 0.01, Accuracy % = 0.7714285714285715\n",
      "Alpha = 0.1, Accuracy % = 0.7714285714285715\n",
      "--------------------------\n",
      "Lambda = 0.1\n",
      "Alpha = 0.0001, Accuracy % = 0.5714285714285714\n",
      "Alpha = 0.001, Accuracy % = 0.5142857142857142\n",
      "Alpha = 0.01, Accuracy % = 0.6285714285714286\n",
      "Alpha = 0.1, Accuracy % = 0.8\n",
      "--------------------------\n",
      "Lambda = 1\n",
      "Alpha = 0.0001, Accuracy % = 0.5714285714285714\n",
      "Alpha = 0.001, Accuracy % = 0.4857142857142857\n",
      "Alpha = 0.01, Accuracy % = 0.4857142857142857\n",
      "Alpha = 0.1, Accuracy % = 0.6285714285714286\n",
      "--------------------------\n",
      "Lambda = 10\n",
      "Alpha = 0.0001, Accuracy % = 0.5714285714285714\n",
      "Alpha = 0.001, Accuracy % = 0.4857142857142857\n",
      "Alpha = 0.01, Accuracy % = 0.42857142857142855\n",
      "Alpha = 0.1, Accuracy % = 0.4857142857142857\n",
      "--------------------------\n"
     ]
    }
   ],
   "source": [
    "alphas = [0.0001, 0.001, 0.01, 0.1] #, 1, 10, 100\n",
    "lams = [0,0.001,0.01,0.1,1,10]\n",
    "\n",
    "for lam in lams:\n",
    "    print(\"Lambda = \" + str(lam))\n",
    "    for alpha in alphas:\n",
    "        thetax = gd(X_train,y_train,theta,alpha,lam,10000)\n",
    "        \n",
    "        #Testing\n",
    "        h = sigmoid(X_test@thetax.T)\n",
    "        h = (h>=0.5)*1\n",
    "        h = h.reshape(-1)\n",
    "    #     err = np.sum(np.abs(h-y))/y.shape[0]\n",
    "        acc = np.sum(h==y_test)/y_test.shape[0]\n",
    "        print(\"Alpha = \" + str(alpha) + \", Accuracy % = \" + str(acc))\n",
    "    print(\"--------------------------\")"
   ]
  },
  {
   "cell_type": "code",
   "execution_count": 48,
   "metadata": {},
   "outputs": [
    {
     "data": {
      "image/png": "[encoded data removed]",
      "text/plain": [
       "<Figure size 432x288 with 1 Axes>"
      ]
     },
     "metadata": {
      "needs_background": "light"
     },
     "output_type": "display_data"
    },
    {
     "data": {
      "image/png": "[encoded data removed]",
      "text/plain": [
       "<Figure size 432x288 with 1 Axes>"
      ]
     },
     "metadata": {
      "needs_background": "light"
     },
     "output_type": "display_data"
    }
   ],
   "source": [
    "thetax = gd(X_train,y_train,theta,0.01,0.01,10000)\n",
    "\n",
    "h = sigmoid(X_test@thetax.T)\n",
    "h = (h>=0.5)*1\n",
    "h = h.reshape(-1)\n",
    "\n",
    "def plot_graph(X,y,h):\n",
    "    for i in range(X.shape[0]):\n",
    "        if y[i]==1:\n",
    "            plt.plot(X[i,1],X[i,2],'rx')\n",
    "        else:\n",
    "            plt.plot(X[i,1],X[i,2],'bx')\n",
    "    plt.title(\"Original Data\")\n",
    "    plt.show()\n",
    "\n",
    "    for i in range(X.shape[0]):\n",
    "        if h[i]==1:\n",
    "            plt.plot(X[i,1],X[i,2],'rx')\n",
    "        else:\n",
    "            plt.plot(X[i,1],X[i,2],'bx')\n",
    "    plt.title('Predicted')\n",
    "    plt.show()\n",
    "    \n",
    "plot_graph(X_test,y_test,h)"
   ]
  }
 ],
 "metadata": {
  "kernelspec": {
   "display_name": "Python 3",
   "language": "python",
   "name": "python3"
  },
  "language_info": {
   "codemirror_mode": {
    "name": "ipython",
    "version": 3
   },
   "file_extension": ".py",
   "mimetype": "text/x-python",
   "name": "python",
   "nbconvert_exporter": "python",
   "pygments_lexer": "ipython3",
   "version": "3.6.8"
  }
 },
 "nbformat": 4,
 "nbformat_minor": 2
}
